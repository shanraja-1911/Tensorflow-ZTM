{
  "nbformat": 4,
  "nbformat_minor": 0,
  "metadata": {
    "colab": {
      "name": "Intro_tensorflow.ipynb",
      "provenance": [],
      "collapsed_sections": []
    },
    "kernelspec": {
      "name": "python3",
      "display_name": "Python 3"
    },
    "language_info": {
      "name": "python"
    },
    "accelerator": "GPU"
  },
  "cells": [
    {
      "cell_type": "markdown",
      "metadata": {
        "id": "TwXn1iKHPZy4"
      },
      "source": [
        "# Intro to tensorflow \n",
        "\n",
        "A quick recap and intro to Tensorflow."
      ]
    },
    {
      "cell_type": "code",
      "metadata": {
        "colab": {
          "base_uri": "https://localhost:8080/"
        },
        "id": "FAPETxzSO3Fy",
        "outputId": "23d50f4c-7b18-4687-b41a-8dbbb4c4e9a8"
      },
      "source": [
        "# import the necessary libraries \n",
        "import tensorflow as tf\n",
        "import numpy as np \n",
        "import pandas as pd\n",
        "\n",
        "\n",
        "print(tf.__version__)"
      ],
      "execution_count": null,
      "outputs": [
        {
          "output_type": "stream",
          "text": [
            "2.6.0\n"
          ],
          "name": "stdout"
        }
      ]
    },
    {
      "cell_type": "code",
      "metadata": {
        "colab": {
          "base_uri": "https://localhost:8080/"
        },
        "id": "7wWDTmGrQxqE",
        "outputId": "2da819cf-ef67-4ec3-f719-0eabc74cf6a4"
      },
      "source": [
        "# create tensors with tf.constant()\n",
        "scalar=tf.constant(7)\n",
        "scalar"
      ],
      "execution_count": null,
      "outputs": [
        {
          "output_type": "execute_result",
          "data": {
            "text/plain": [
              "<tf.Tensor: shape=(), dtype=int32, numpy=7>"
            ]
          },
          "metadata": {},
          "execution_count": 2
        }
      ]
    },
    {
      "cell_type": "code",
      "metadata": {
        "colab": {
          "base_uri": "https://localhost:8080/"
        },
        "id": "f65iTLasr0eI",
        "outputId": "7a4ce34d-ae8b-4e6b-94a9-02abf48dbaf3"
      },
      "source": [
        "# check the number of dimension of a tensor (ndim stands for number of dimensions)\n",
        "scalar.ndim"
      ],
      "execution_count": null,
      "outputs": [
        {
          "output_type": "execute_result",
          "data": {
            "text/plain": [
              "0"
            ]
          },
          "metadata": {},
          "execution_count": 3
        }
      ]
    },
    {
      "cell_type": "code",
      "metadata": {
        "colab": {
          "base_uri": "https://localhost:8080/"
        },
        "id": "HJqFtr1rsNhV",
        "outputId": "dd6b914c-c352-4bc2-8ae6-3652d89f30dd"
      },
      "source": [
        "# cerat a vector \n",
        "vector=tf.constant([10,10])\n",
        "# check the dimension of the vector \n",
        "vector"
      ],
      "execution_count": null,
      "outputs": [
        {
          "output_type": "execute_result",
          "data": {
            "text/plain": [
              "<tf.Tensor: shape=(2,), dtype=int32, numpy=array([10, 10], dtype=int32)>"
            ]
          },
          "metadata": {},
          "execution_count": 4
        }
      ]
    },
    {
      "cell_type": "markdown",
      "metadata": {
        "id": "aD2zI1MDPZHD"
      },
      "source": [
        ""
      ]
    },
    {
      "cell_type": "code",
      "metadata": {
        "colab": {
          "base_uri": "https://localhost:8080/"
        },
        "id": "7i3aaJq5sfDE",
        "outputId": "f42ce895-4d59-4fc8-fdd1-08e81e45145e"
      },
      "source": [
        "# creat  a matrix with more than one dimension \n",
        "meatrix=tf.constant([[10,10],[12,12]])\n",
        "meatrix.ndim"
      ],
      "execution_count": null,
      "outputs": [
        {
          "output_type": "execute_result",
          "data": {
            "text/plain": [
              "2"
            ]
          },
          "metadata": {},
          "execution_count": 5
        }
      ]
    },
    {
      "cell_type": "code",
      "metadata": {
        "colab": {
          "base_uri": "https://localhost:8080/"
        },
        "id": "7-tr_UUTsyzg",
        "outputId": "cac4125e-a8f8-4610-eeec-77507f5da040"
      },
      "source": [
        "# lets create a tensor \n",
        "tensor=tf.constant([[[1,2],\n",
        "                     [1,2]],\n",
        "                    [[3,4],\n",
        "                     [3,4]]\n",
        "                   ])\n",
        "tensor.ndim"
      ],
      "execution_count": null,
      "outputs": [
        {
          "output_type": "execute_result",
          "data": {
            "text/plain": [
              "3"
            ]
          },
          "metadata": {},
          "execution_count": 6
        }
      ]
    },
    {
      "cell_type": "markdown",
      "metadata": {
        "id": "UjrPts2ytfBt"
      },
      "source": [
        "Recap \n",
        "* Scalar: 0 dimensional or single number \n",
        "* Vector: A number with a direction\n",
        "* Matrix: a 2 dimensional vector \n",
        "* Tensor: an n-dimensional array of numbers "
      ]
    },
    {
      "cell_type": "code",
      "metadata": {
        "id": "bPsnAOxawIh5"
      },
      "source": [
        "# Creating tensors with 'tf.variable'"
      ],
      "execution_count": null,
      "outputs": []
    },
    {
      "cell_type": "code",
      "metadata": {
        "colab": {
          "base_uri": "https://localhost:8080/"
        },
        "id": "Uqw6MLEzt7CU",
        "outputId": "5ae85b41-149d-4711-aa77-794ed3913dd5"
      },
      "source": [
        "# tf variable\n",
        "changeable_tensor=tf.Variable([10,7])\n",
        "unchangeable_tensor=tf.constant([10,7])\n",
        "changeable_tensor,unchangeable_tensor"
      ],
      "execution_count": null,
      "outputs": [
        {
          "output_type": "execute_result",
          "data": {
            "text/plain": [
              "(<tf.Variable 'Variable:0' shape=(2,) dtype=int32, numpy=array([10,  7], dtype=int32)>,\n",
              " <tf.Tensor: shape=(2,), dtype=int32, numpy=array([10,  7], dtype=int32)>)"
            ]
          },
          "metadata": {},
          "execution_count": 8
        }
      ]
    },
    {
      "cell_type": "code",
      "metadata": {
        "colab": {
          "base_uri": "https://localhost:8080/"
        },
        "id": "YITtQfLJwkYt",
        "outputId": "e6f494da-05a4-499b-b4bd-518f69b4e000"
      },
      "source": [
        "# lets try and change one of the elements using .assign  \n",
        "changeable_tensor[0].assign(7)\n",
        "# lets try the same on the unchangeable tensor\n",
        "#unchangeable_tensor[0].assign(0)"
      ],
      "execution_count": null,
      "outputs": [
        {
          "output_type": "execute_result",
          "data": {
            "text/plain": [
              "<tf.Variable 'UnreadVariable' shape=(2,) dtype=int32, numpy=array([7, 7], dtype=int32)>"
            ]
          },
          "metadata": {},
          "execution_count": 9
        }
      ]
    },
    {
      "cell_type": "markdown",
      "metadata": {
        "id": "bPWxspAIxXEd"
      },
      "source": [
        "# Lets create random tensor"
      ]
    },
    {
      "cell_type": "code",
      "metadata": {
        "colab": {
          "base_uri": "https://localhost:8080/"
        },
        "id": "VcwYC433xKli",
        "outputId": "a67f2a4d-e6c4-4bb9-dcac-af57c213805a"
      },
      "source": [
        "# Lets create random tensor\n",
        "random_1=tf.random.Generator.from_seed(123) # use the seed to repeat the randomness\n",
        "random_1=random_1.normal(shape=(3,2))\n",
        "random_1\n"
      ],
      "execution_count": null,
      "outputs": [
        {
          "output_type": "execute_result",
          "data": {
            "text/plain": [
              "<tf.Tensor: shape=(3, 2), dtype=float32, numpy=\n",
              "array([[ 0.8673864 , -0.29899067],\n",
              "       [-0.93103355, -1.5828488 ],\n",
              "       [ 1.2481192 , -0.67706424]], dtype=float32)>"
            ]
          },
          "metadata": {},
          "execution_count": 10
        }
      ]
    },
    {
      "cell_type": "code",
      "metadata": {
        "colab": {
          "base_uri": "https://localhost:8080/"
        },
        "id": "oY84SZSWyaR7",
        "outputId": "ddda39ed-8d77-4f46-839c-b03b25918fac"
      },
      "source": [
        "random_2=tf.random.Generator.from_seed(123)\n",
        "random_2=random_2.uniform(shape=(3,2))\n",
        "random_1,random_2,random_1==random_2"
      ],
      "execution_count": null,
      "outputs": [
        {
          "output_type": "execute_result",
          "data": {
            "text/plain": [
              "(<tf.Tensor: shape=(3, 2), dtype=float32, numpy=\n",
              " array([[ 0.8673864 , -0.29899067],\n",
              "        [-0.93103355, -1.5828488 ],\n",
              "        [ 1.2481192 , -0.67706424]], dtype=float32)>,\n",
              " <tf.Tensor: shape=(3, 2), dtype=float32, numpy=\n",
              " array([[0.65647066, 0.30283117],\n",
              "        [0.18523741, 0.5846225 ],\n",
              "        [0.36490846, 0.3291067 ]], dtype=float32)>,\n",
              " <tf.Tensor: shape=(3, 2), dtype=bool, numpy=\n",
              " array([[False, False],\n",
              "        [False, False],\n",
              "        [False, False]])>)"
            ]
          },
          "metadata": {},
          "execution_count": 11
        }
      ]
    },
    {
      "cell_type": "markdown",
      "metadata": {
        "id": "NUPBaiFLzSWD"
      },
      "source": [
        "# Tensor order shuffle "
      ]
    },
    {
      "cell_type": "code",
      "metadata": {
        "colab": {
          "base_uri": "https://localhost:8080/"
        },
        "id": "Nf9mHnpqzCIl",
        "outputId": "0994aa36-3e8f-4651-b577-046d3d137c98"
      },
      "source": [
        "# Lets shuffle the order of tensors (When we want to shuffle our data so that the neural network doesnt affect the learning )\n",
        "\n",
        "not_shuffled=tf.constant([[1,2],[3,4],[4,5]])\n",
        "not_shuffled.ndim\n",
        "\n",
        "# shuffle our non shuffled tensor \n",
        "\n",
        "shuffled_tensor=tf.random.shuffle(not_shuffled,seed=1213)\n",
        "# we can see that it is shuffling along the first dimension\n",
        "not_shuffled,shuffled_tensor"
      ],
      "execution_count": null,
      "outputs": [
        {
          "output_type": "execute_result",
          "data": {
            "text/plain": [
              "(<tf.Tensor: shape=(3, 2), dtype=int32, numpy=\n",
              " array([[1, 2],\n",
              "        [3, 4],\n",
              "        [4, 5]], dtype=int32)>, <tf.Tensor: shape=(3, 2), dtype=int32, numpy=\n",
              " array([[3, 4],\n",
              "        [4, 5],\n",
              "        [1, 2]], dtype=int32)>)"
            ]
          },
          "metadata": {},
          "execution_count": 12
        }
      ]
    },
    {
      "cell_type": "code",
      "metadata": {
        "colab": {
          "base_uri": "https://localhost:8080/"
        },
        "id": "QzvhzxCK4lD4",
        "outputId": "9c7e76c7-7b83-4202-8b48-cc1019661d01"
      },
      "source": [
        "#  # The difference between the global and the local random seed \n",
        "# If we want the shuffle to be consistent then we might want to use the global and local level random seed\n",
        "\n",
        "tf.random.set_seed(42)\n",
        "tf.random.shuffle(not_shuffled,seed=42)"
      ],
      "execution_count": null,
      "outputs": [
        {
          "output_type": "execute_result",
          "data": {
            "text/plain": [
              "<tf.Tensor: shape=(3, 2), dtype=int32, numpy=\n",
              "array([[1, 2],\n",
              "       [3, 4],\n",
              "       [4, 5]], dtype=int32)>"
            ]
          },
          "metadata": {},
          "execution_count": 13
        }
      ]
    },
    {
      "cell_type": "code",
      "metadata": {
        "colab": {
          "base_uri": "https://localhost:8080/"
        },
        "id": "wVFK_RsQ8Mdk",
        "outputId": "661d5d9f-3945-41c2-ec72-c573c35e68ff"
      },
      "source": [
        "# Other way to make tensors\n",
        "\n",
        "# create a tensor to make a matrix of all 1\n",
        "\n",
        "tf.ones([10,7])\n",
        "tf.zeros(shape=[10,7])\n"
      ],
      "execution_count": null,
      "outputs": [
        {
          "output_type": "execute_result",
          "data": {
            "text/plain": [
              "<tf.Tensor: shape=(10, 7), dtype=float32, numpy=\n",
              "array([[0., 0., 0., 0., 0., 0., 0.],\n",
              "       [0., 0., 0., 0., 0., 0., 0.],\n",
              "       [0., 0., 0., 0., 0., 0., 0.],\n",
              "       [0., 0., 0., 0., 0., 0., 0.],\n",
              "       [0., 0., 0., 0., 0., 0., 0.],\n",
              "       [0., 0., 0., 0., 0., 0., 0.],\n",
              "       [0., 0., 0., 0., 0., 0., 0.],\n",
              "       [0., 0., 0., 0., 0., 0., 0.],\n",
              "       [0., 0., 0., 0., 0., 0., 0.],\n",
              "       [0., 0., 0., 0., 0., 0., 0.]], dtype=float32)>"
            ]
          },
          "metadata": {},
          "execution_count": 14
        }
      ]
    },
    {
      "cell_type": "markdown",
      "metadata": {
        "id": "C2k9w2PG8rmp"
      },
      "source": [
        "# Numpy into Tensors \n",
        "\n",
        "The main difference between the numpy and the tensor values is that tensors are optimized for GPU performance.\n"
      ]
    },
    {
      "cell_type": "markdown",
      "metadata": {
        "id": "mcpO6JYN8MPb"
      },
      "source": [
        ""
      ]
    },
    {
      "cell_type": "code",
      "metadata": {
        "colab": {
          "base_uri": "https://localhost:8080/"
        },
        "id": "VQETaJi887h-",
        "outputId": "6ccb49d6-a933-4f5e-f6b3-03ede9ce7e7c"
      },
      "source": [
        "numpy_A=[[1,2,3],[12,23,43],[56,67,45]]\n",
        "numpy_B=np.arange(1,25,dtype=np.int32)\n",
        "x=tf.constant(numpy_A)# Always the scalar is capital and the vactor is small \n",
        "tf.random.shuffle(x)\n",
        "y=tf.constant(numpy_B,shape=(2,3,4))\n",
        "y"
      ],
      "execution_count": null,
      "outputs": [
        {
          "output_type": "execute_result",
          "data": {
            "text/plain": [
              "<tf.Tensor: shape=(2, 3, 4), dtype=int32, numpy=\n",
              "array([[[ 1,  2,  3,  4],\n",
              "        [ 5,  6,  7,  8],\n",
              "        [ 9, 10, 11, 12]],\n",
              "\n",
              "       [[13, 14, 15, 16],\n",
              "        [17, 18, 19, 20],\n",
              "        [21, 22, 23, 24]]], dtype=int32)>"
            ]
          },
          "metadata": {},
          "execution_count": 15
        }
      ]
    },
    {
      "cell_type": "markdown",
      "metadata": {
        "id": "mBdmMBjp_Xnw"
      },
      "source": [
        "# Getting info from our tensors \n",
        "\n",
        "* Shape : The length of each of the dimensions of a tensor \n",
        "* Axis or dimesnion : A particular dimension of a tensor \n",
        "* Rank : The number of tensor dimensions.\n",
        "* Size : the total numnber of items in the tensor"
      ]
    },
    {
      "cell_type": "code",
      "metadata": {
        "colab": {
          "base_uri": "https://localhost:8080/"
        },
        "id": "S8HuYMQR-pxv",
        "outputId": "910250d2-b410-438a-d172-98287bfebbd9"
      },
      "source": [
        "# Getting info from our tensors \n",
        "\n",
        "# Create a rank 4 dimension tensor \n",
        "\n",
        "rank_4_tensor= tf.constant(np.arange(1,5),shape=(4,1,1,1))\n",
        "rank_4_tensor= tf.zeros(shape=(2,3,4,5))\n",
        "\n",
        "rank_4_tensor"
      ],
      "execution_count": null,
      "outputs": [
        {
          "output_type": "execute_result",
          "data": {
            "text/plain": [
              "<tf.Tensor: shape=(2, 3, 4, 5), dtype=float32, numpy=\n",
              "array([[[[0., 0., 0., 0., 0.],\n",
              "         [0., 0., 0., 0., 0.],\n",
              "         [0., 0., 0., 0., 0.],\n",
              "         [0., 0., 0., 0., 0.]],\n",
              "\n",
              "        [[0., 0., 0., 0., 0.],\n",
              "         [0., 0., 0., 0., 0.],\n",
              "         [0., 0., 0., 0., 0.],\n",
              "         [0., 0., 0., 0., 0.]],\n",
              "\n",
              "        [[0., 0., 0., 0., 0.],\n",
              "         [0., 0., 0., 0., 0.],\n",
              "         [0., 0., 0., 0., 0.],\n",
              "         [0., 0., 0., 0., 0.]]],\n",
              "\n",
              "\n",
              "       [[[0., 0., 0., 0., 0.],\n",
              "         [0., 0., 0., 0., 0.],\n",
              "         [0., 0., 0., 0., 0.],\n",
              "         [0., 0., 0., 0., 0.]],\n",
              "\n",
              "        [[0., 0., 0., 0., 0.],\n",
              "         [0., 0., 0., 0., 0.],\n",
              "         [0., 0., 0., 0., 0.],\n",
              "         [0., 0., 0., 0., 0.]],\n",
              "\n",
              "        [[0., 0., 0., 0., 0.],\n",
              "         [0., 0., 0., 0., 0.],\n",
              "         [0., 0., 0., 0., 0.],\n",
              "         [0., 0., 0., 0., 0.]]]], dtype=float32)>"
            ]
          },
          "metadata": {},
          "execution_count": 16
        }
      ]
    },
    {
      "cell_type": "code",
      "metadata": {
        "colab": {
          "base_uri": "https://localhost:8080/"
        },
        "id": "ntzbR8FiBSzH",
        "outputId": "a0eb9c8b-e2a0-4f80-910e-34721ad4f044"
      },
      "source": [
        "# Get all the 4 info \n",
        "rank_4_tensor.shape,rank_4_tensor.ndim,tf.size(rank_4_tensor),rank_4_tensor.dtype\n",
        "print('The number of elements in a array', tf.size(rank_4_tensor).numpy())# returns the exact size \n",
        "print('The number of elements in a tensor', tf.size(rank_4_tensor))"
      ],
      "execution_count": null,
      "outputs": [
        {
          "output_type": "stream",
          "text": [
            "The number of elements in a array 120\n",
            "The number of elements in a tensor tf.Tensor(120, shape=(), dtype=int32)\n"
          ],
          "name": "stdout"
        }
      ]
    },
    {
      "cell_type": "markdown",
      "metadata": {
        "id": "8dihJu-6C-Te"
      },
      "source": [
        "# Indexing Tensors\n",
        "\n",
        "Tensors can be indexed similar to a python lists\n"
      ]
    },
    {
      "cell_type": "code",
      "metadata": {
        "colab": {
          "base_uri": "https://localhost:8080/"
        },
        "id": "O8XuqqxDCoQV",
        "outputId": "47a9bd30-75ea-44be-f313-28ce15fe455c"
      },
      "source": [
        "# get the first 2 elements of a tensor\n",
        "\n",
        "\n",
        "random_gen=tf.random.Generator.from_seed(42)\n",
        "tensor_index=random_gen.normal(shape=(2,3,4,5))\n",
        "tensor_index[:2,:2,:2],tensor_index[0,2]"
      ],
      "execution_count": null,
      "outputs": [
        {
          "output_type": "execute_result",
          "data": {
            "text/plain": [
              "(<tf.Tensor: shape=(2, 2, 2, 5), dtype=float32, numpy=\n",
              " array([[[[-0.7565803 , -0.06854702,  0.07595026, -1.2573844 ,\n",
              "           -0.23193765],\n",
              "          [-1.8107855 ,  0.09988727, -0.50998646, -0.7535806 ,\n",
              "           -0.5716629 ]],\n",
              " \n",
              "         [[-0.08763231, -0.635568  , -0.6161736 , -1.9441465 ,\n",
              "           -0.48293006],\n",
              "          [-0.5244748 , -1.0345329 ,  1.3066901 , -1.5184573 ,\n",
              "           -0.4585211 ]]],\n",
              " \n",
              " \n",
              "        [[[ 0.49689844,  0.8259971 ,  1.0340209 , -0.24918638,\n",
              "           -1.5780283 ],\n",
              "          [-0.92161775,  0.268676  ,  0.9418312 , -0.9465717 ,\n",
              "           -0.7108357 ]],\n",
              " \n",
              "         [[-2.5255601 ,  0.05080947,  1.7212061 , -0.6575124 ,\n",
              "            0.7939443 ],\n",
              "          [ 1.3212339 ,  0.34584793, -0.6699328 ,  0.4604257 ,\n",
              "            0.514933  ]]]], dtype=float32)>,\n",
              " <tf.Tensor: shape=(4, 5), dtype=float32, numpy=\n",
              " array([[ 1.0034493 ,  0.20857747,  0.35700995,  1.0648885 ,  1.2432486 ],\n",
              "        [-2.2173238 ,  0.18706243,  0.6617961 ,  0.01380118, -0.24827152],\n",
              "        [ 1.2111493 , -0.7199124 , -0.04082382,  2.6791053 ,  1.0914806 ],\n",
              "        [ 0.33149615, -0.67958915,  0.44723678, -0.17811586,  0.24882519]],\n",
              "       dtype=float32)>)"
            ]
          },
          "metadata": {},
          "execution_count": 18
        }
      ]
    },
    {
      "cell_type": "code",
      "metadata": {
        "colab": {
          "base_uri": "https://localhost:8080/"
        },
        "id": "GcGP0ss6EVhU",
        "outputId": "38e7666a-e221-456e-c721-b16844c0254a"
      },
      "source": [
        "# get the first element from each dimension except for the final one \n",
        "tensor_index[:1,:,:1,:1],tensor_index\n",
        "# Add extra diemension for the tensor \n",
        "# method 1\n",
        "tensor_index[...,tf.newaxis]\n",
        "# Method 2\n",
        "tf.expand_dims(tensor_index,axis=-1)"
      ],
      "execution_count": null,
      "outputs": [
        {
          "output_type": "execute_result",
          "data": {
            "text/plain": [
              "<tf.Tensor: shape=(2, 3, 4, 5, 1), dtype=float32, numpy=\n",
              "array([[[[[-0.7565803 ],\n",
              "          [-0.06854702],\n",
              "          [ 0.07595026],\n",
              "          [-1.2573844 ],\n",
              "          [-0.23193765]],\n",
              "\n",
              "         [[-1.8107855 ],\n",
              "          [ 0.09988727],\n",
              "          [-0.50998646],\n",
              "          [-0.7535806 ],\n",
              "          [-0.5716629 ]],\n",
              "\n",
              "         [[ 0.1480774 ],\n",
              "          [-0.23362991],\n",
              "          [-0.3522796 ],\n",
              "          [ 0.40621266],\n",
              "          [-1.0523509 ]],\n",
              "\n",
              "         [[ 1.2054597 ],\n",
              "          [ 1.6874489 ],\n",
              "          [-0.44629744],\n",
              "          [-2.3410842 ],\n",
              "          [ 0.99009085]]],\n",
              "\n",
              "\n",
              "        [[[-0.08763231],\n",
              "          [-0.635568  ],\n",
              "          [-0.6161736 ],\n",
              "          [-1.9441465 ],\n",
              "          [-0.48293006]],\n",
              "\n",
              "         [[-0.5244748 ],\n",
              "          [-1.0345329 ],\n",
              "          [ 1.3066901 ],\n",
              "          [-1.5184573 ],\n",
              "          [-0.4585211 ]],\n",
              "\n",
              "         [[ 0.5714663 ],\n",
              "          [-1.5331722 ],\n",
              "          [ 0.45331386],\n",
              "          [ 1.1487608 ],\n",
              "          [-1.2659091 ]],\n",
              "\n",
              "         [[-0.47450137],\n",
              "          [ 2.006022  ],\n",
              "          [ 0.28288034],\n",
              "          [-0.30288252],\n",
              "          [-1.443651  ]]],\n",
              "\n",
              "\n",
              "        [[[ 1.0034493 ],\n",
              "          [ 0.20857747],\n",
              "          [ 0.35700995],\n",
              "          [ 1.0648885 ],\n",
              "          [ 1.2432486 ]],\n",
              "\n",
              "         [[-2.2173238 ],\n",
              "          [ 0.18706243],\n",
              "          [ 0.6617961 ],\n",
              "          [ 0.01380118],\n",
              "          [-0.24827152]],\n",
              "\n",
              "         [[ 1.2111493 ],\n",
              "          [-0.7199124 ],\n",
              "          [-0.04082382],\n",
              "          [ 2.6791053 ],\n",
              "          [ 1.0914806 ]],\n",
              "\n",
              "         [[ 0.33149615],\n",
              "          [-0.67958915],\n",
              "          [ 0.44723678],\n",
              "          [-0.17811586],\n",
              "          [ 0.24882519]]]],\n",
              "\n",
              "\n",
              "\n",
              "       [[[[ 0.49689844],\n",
              "          [ 0.8259971 ],\n",
              "          [ 1.0340209 ],\n",
              "          [-0.24918638],\n",
              "          [-1.5780283 ]],\n",
              "\n",
              "         [[-0.92161775],\n",
              "          [ 0.268676  ],\n",
              "          [ 0.9418312 ],\n",
              "          [-0.9465717 ],\n",
              "          [-0.7108357 ]],\n",
              "\n",
              "         [[ 1.2995545 ],\n",
              "          [-0.61490655],\n",
              "          [-1.4713507 ],\n",
              "          [-0.10086866],\n",
              "          [ 0.9603878 ]],\n",
              "\n",
              "         [[-1.6370124 ],\n",
              "          [ 0.17664973],\n",
              "          [-0.67038715],\n",
              "          [-0.50345504],\n",
              "          [-1.2037921 ]]],\n",
              "\n",
              "\n",
              "        [[[-2.5255601 ],\n",
              "          [ 0.05080947],\n",
              "          [ 1.7212061 ],\n",
              "          [-0.6575124 ],\n",
              "          [ 0.7939443 ]],\n",
              "\n",
              "         [[ 1.3212339 ],\n",
              "          [ 0.34584793],\n",
              "          [-0.6699328 ],\n",
              "          [ 0.4604257 ],\n",
              "          [ 0.514933  ]],\n",
              "\n",
              "         [[-0.06519881],\n",
              "          [-1.442522  ],\n",
              "          [-0.48492548],\n",
              "          [-1.8364043 ],\n",
              "          [ 0.91463274]],\n",
              "\n",
              "         [[ 0.5145402 ],\n",
              "          [ 0.5517507 ],\n",
              "          [-0.3741098 ],\n",
              "          [-0.28709963],\n",
              "          [ 1.5089895 ]]],\n",
              "\n",
              "\n",
              "        [[[-0.14833727],\n",
              "          [-1.2846565 ],\n",
              "          [ 0.5484313 ],\n",
              "          [ 0.10596129],\n",
              "          [ 0.21793836]],\n",
              "\n",
              "         [[ 0.7063839 ],\n",
              "          [-0.19219153],\n",
              "          [ 1.1390278 ],\n",
              "          [ 0.29164317],\n",
              "          [ 1.4531525 ]],\n",
              "\n",
              "         [[-0.8223833 ],\n",
              "          [-1.3446565 ],\n",
              "          [-0.7183838 ],\n",
              "          [-0.20373917],\n",
              "          [ 0.6291725 ]],\n",
              "\n",
              "         [[-0.87623316],\n",
              "          [-0.5923522 ],\n",
              "          [ 0.05643527],\n",
              "          [-0.1698349 ],\n",
              "          [-1.0965608 ]]]]], dtype=float32)>"
            ]
          },
          "metadata": {},
          "execution_count": 19
        }
      ]
    },
    {
      "cell_type": "markdown",
      "metadata": {
        "id": "GVszCEEhIDlX"
      },
      "source": [
        "## manipulating Tensors \n",
        "\n",
        "** Basic operations **\n",
        "* Addition operation\n",
        "* Subtraction operation\n",
        "* Multiply operation \n",
        "* Division operation "
      ]
    },
    {
      "cell_type": "code",
      "metadata": {
        "colab": {
          "base_uri": "https://localhost:8080/"
        },
        "id": "NMUF8sh1H2Fq",
        "outputId": "efa76b80-b195-44da-afab-2b63f557d78e"
      },
      "source": [
        "# Manipulating tensors basic operations \n",
        "tensor_2_dim= tf.ones(shape=(2,2))\n",
        "tensor_2_dim+10,tensor_2_dim*10,tensor_2_dim-10,tensor_2_dim/10"
      ],
      "execution_count": null,
      "outputs": [
        {
          "output_type": "execute_result",
          "data": {
            "text/plain": [
              "(<tf.Tensor: shape=(2, 2), dtype=float32, numpy=\n",
              " array([[11., 11.],\n",
              "        [11., 11.]], dtype=float32)>,\n",
              " <tf.Tensor: shape=(2, 2), dtype=float32, numpy=\n",
              " array([[10., 10.],\n",
              "        [10., 10.]], dtype=float32)>,\n",
              " <tf.Tensor: shape=(2, 2), dtype=float32, numpy=\n",
              " array([[-9., -9.],\n",
              "        [-9., -9.]], dtype=float32)>,\n",
              " <tf.Tensor: shape=(2, 2), dtype=float32, numpy=\n",
              " array([[0.1, 0.1],\n",
              "        [0.1, 0.1]], dtype=float32)>)"
            ]
          },
          "metadata": {},
          "execution_count": 20
        }
      ]
    },
    {
      "cell_type": "code",
      "metadata": {
        "colab": {
          "base_uri": "https://localhost:8080/"
        },
        "id": "w_FEnPt0I3U1",
        "outputId": "f2edb83f-1bc4-4e25-c67e-ec3f433cbdee"
      },
      "source": [
        "# In addition to these we can also use tensorflow built-in fucntion ( This is very much useful when you want to use the GPU for it)\n",
        "tf.multiply(tensor_2_dim,10),tf.add(tensor_2_dim,10),tf.subtract(tensor_2_dim,10),tf.divide(tensor_2_dim,19),tensor_2_dim\n",
        "# even though all the operations were performed, the actual value of the tensor wasnt changed. "
      ],
      "execution_count": null,
      "outputs": [
        {
          "output_type": "execute_result",
          "data": {
            "text/plain": [
              "(<tf.Tensor: shape=(2, 2), dtype=float32, numpy=\n",
              " array([[10., 10.],\n",
              "        [10., 10.]], dtype=float32)>,\n",
              " <tf.Tensor: shape=(2, 2), dtype=float32, numpy=\n",
              " array([[11., 11.],\n",
              "        [11., 11.]], dtype=float32)>,\n",
              " <tf.Tensor: shape=(2, 2), dtype=float32, numpy=\n",
              " array([[-9., -9.],\n",
              "        [-9., -9.]], dtype=float32)>,\n",
              " <tf.Tensor: shape=(2, 2), dtype=float32, numpy=\n",
              " array([[0.05263158, 0.05263158],\n",
              "        [0.05263158, 0.05263158]], dtype=float32)>,\n",
              " <tf.Tensor: shape=(2, 2), dtype=float32, numpy=\n",
              " array([[1., 1.],\n",
              "        [1., 1.]], dtype=float32)>)"
            ]
          },
          "metadata": {},
          "execution_count": 21
        }
      ]
    },
    {
      "cell_type": "code",
      "metadata": {
        "colab": {
          "base_uri": "https://localhost:8080/"
        },
        "id": "wQs21A1PKB7h",
        "outputId": "81729e12-88b8-4203-c3aa-6d4e9eeffd45"
      },
      "source": [
        "# Matrix multiplication (Pretty important operations that are to be folowed), Other operation mentioned above are elementwise operations \n",
        "tensor=tf.constant(tensor,shape=(2,4))\n",
        "print(tensor)\n",
        "tf.matmul(tensor,tf.transpose(tensor))"
      ],
      "execution_count": null,
      "outputs": [
        {
          "output_type": "stream",
          "text": [
            "tf.Tensor(\n",
            "[[1 2 1 2]\n",
            " [3 4 3 4]], shape=(2, 4), dtype=int32)\n"
          ],
          "name": "stdout"
        },
        {
          "output_type": "execute_result",
          "data": {
            "text/plain": [
              "<tf.Tensor: shape=(2, 2), dtype=int32, numpy=\n",
              "array([[10, 22],\n",
              "       [22, 50]], dtype=int32)>"
            ]
          },
          "metadata": {},
          "execution_count": 22
        }
      ]
    },
    {
      "cell_type": "code",
      "metadata": {
        "colab": {
          "base_uri": "https://localhost:8080/"
        },
        "id": "PYW8dbvkOlP0",
        "outputId": "4ebaf1e5-33e3-4171-b66c-bc1d9a3ec569"
      },
      "source": [
        "# Python has an internal operator for matmul \n",
        "tensor @ tf.transpose(tensor)"
      ],
      "execution_count": null,
      "outputs": [
        {
          "output_type": "execute_result",
          "data": {
            "text/plain": [
              "<tf.Tensor: shape=(2, 2), dtype=int32, numpy=\n",
              "array([[10, 22],\n",
              "       [22, 50]], dtype=int32)>"
            ]
          },
          "metadata": {},
          "execution_count": 23
        }
      ]
    },
    {
      "cell_type": "code",
      "metadata": {
        "colab": {
          "base_uri": "https://localhost:8080/"
        },
        "id": "sinpvyfqOxJ1",
        "outputId": "ff3012c0-19d6-47d7-e376-3758c2604f71"
      },
      "source": [
        "# how to multiply matrices of different shape\n",
        "x=tf.constant([[1,2]\n",
        "              ,[3,4],\n",
        "               [4,5]])\n",
        "\n",
        "y=tf.constant([[34,56],\n",
        "               [23,34],\n",
        "               [23,56]])\n",
        "\n",
        "# instead of transpose can one also do the reshape? \n",
        "\n",
        "x@tf.transpose(y),x@tf.reshape(y,shape=(2,3)) # apprantely the answer is no \n"
      ],
      "execution_count": null,
      "outputs": [
        {
          "output_type": "execute_result",
          "data": {
            "text/plain": [
              "(<tf.Tensor: shape=(3, 3), dtype=int32, numpy=\n",
              " array([[146,  91, 135],\n",
              "        [326, 205, 293],\n",
              "        [416, 262, 372]], dtype=int32)>,\n",
              " <tf.Tensor: shape=(3, 3), dtype=int32, numpy=\n",
              " array([[102, 102, 135],\n",
              "        [238, 260, 293],\n",
              "        [306, 339, 372]], dtype=int32)>)"
            ]
          },
          "metadata": {},
          "execution_count": 24
        }
      ]
    },
    {
      "cell_type": "code",
      "metadata": {
        "colab": {
          "base_uri": "https://localhost:8080/"
        },
        "id": "oo85DIisQh4F",
        "outputId": "0b369ab8-53db-4e2d-c846-2e550a54ba33"
      },
      "source": [
        "x,tf.reshape(x,shape=(2,3)),tf.transpose(x)"
      ],
      "execution_count": null,
      "outputs": [
        {
          "output_type": "execute_result",
          "data": {
            "text/plain": [
              "(<tf.Tensor: shape=(3, 2), dtype=int32, numpy=\n",
              " array([[1, 2],\n",
              "        [3, 4],\n",
              "        [4, 5]], dtype=int32)>, <tf.Tensor: shape=(2, 3), dtype=int32, numpy=\n",
              " array([[1, 2, 3],\n",
              "        [4, 4, 5]], dtype=int32)>, <tf.Tensor: shape=(2, 3), dtype=int32, numpy=\n",
              " array([[1, 3, 4],\n",
              "        [2, 4, 5]], dtype=int32)>)"
            ]
          },
          "metadata": {},
          "execution_count": 25
        }
      ]
    },
    {
      "cell_type": "markdown",
      "metadata": {
        "id": "uNst3UtLRgE1"
      },
      "source": [
        "# The dot product \n",
        "\n",
        "Matrix multiplication is also referenced to as the dot product.\n",
        "\n",
        "You can perform the matrix multiplication using:\n",
        "\n",
        "* tf.matmul()\n",
        "* tf.tensordot()"
      ]
    },
    {
      "cell_type": "code",
      "metadata": {
        "colab": {
          "base_uri": "https://localhost:8080/"
        },
        "id": "Ro4j_EnaR3FX",
        "outputId": "7ec515ba-254d-4faa-c3a5-02f688d012dd"
      },
      "source": [
        "# Perform the dot product on x and y , the x or y should be transposed and not reshaped.\n",
        "tf.tensordot(tf.transpose(x),y,axes=1)# In the tensordot fucntion axes is compulsory"
      ],
      "execution_count": null,
      "outputs": [
        {
          "output_type": "execute_result",
          "data": {
            "text/plain": [
              "<tf.Tensor: shape=(2, 2), dtype=int32, numpy=\n",
              "array([[195, 382],\n",
              "       [275, 528]], dtype=int32)>"
            ]
          },
          "metadata": {},
          "execution_count": 26
        }
      ]
    },
    {
      "cell_type": "code",
      "metadata": {
        "id": "hgwxFAaJSvXz"
      },
      "source": [
        ""
      ],
      "execution_count": null,
      "outputs": []
    },
    {
      "cell_type": "markdown",
      "metadata": {
        "id": "FiCRXTteSwNV"
      },
      "source": [
        "# Changing the Default datatype of the tensor \n",
        "\n",
        " We dont get to work with the same datatype all the time, so , we might have to change them. \n",
        " "
      ]
    },
    {
      "cell_type": "code",
      "metadata": {
        "colab": {
          "base_uri": "https://localhost:8080/"
        },
        "id": "k6XeDRnbS9lM",
        "outputId": "d818a939-ee75-4d47-a94d-73db99bc8393"
      },
      "source": [
        "# Create a new tensor with the default datatype\n",
        "\n",
        "gen_rand= tf.random.Generator.from_seed(42)\n",
        "x=gen_rand.normal(shape=(3,2))\n",
        "y=tf.constant([[1,2],[3,4],[3,4]])\n",
        "x,y\n",
        "# The default datatype is either the float or int 32, but we can reduce the precision "
      ],
      "execution_count": null,
      "outputs": [
        {
          "output_type": "execute_result",
          "data": {
            "text/plain": [
              "(<tf.Tensor: shape=(3, 2), dtype=float32, numpy=\n",
              " array([[-0.7565803 , -0.06854702],\n",
              "        [ 0.07595026, -1.2573844 ],\n",
              "        [-0.23193765, -1.8107855 ]], dtype=float32)>,\n",
              " <tf.Tensor: shape=(3, 2), dtype=int32, numpy=\n",
              " array([[1, 2],\n",
              "        [3, 4],\n",
              "        [3, 4]], dtype=int32)>)"
            ]
          },
          "metadata": {},
          "execution_count": 27
        }
      ]
    },
    {
      "cell_type": "code",
      "metadata": {
        "colab": {
          "base_uri": "https://localhost:8080/"
        },
        "id": "mk8xKa3aUawa",
        "outputId": "6fb022a0-7b70-48d9-af7b-b2aa2faf5d1a"
      },
      "source": [
        "# how to change it from 32 to 16\n",
        "x=tf.cast(x,dtype=tf.float16)\n",
        "x,tf.cast(y,dtype=tf.int16)"
      ],
      "execution_count": null,
      "outputs": [
        {
          "output_type": "execute_result",
          "data": {
            "text/plain": [
              "(<tf.Tensor: shape=(3, 2), dtype=float16, numpy=\n",
              " array([[-0.7563 , -0.06854],\n",
              "        [ 0.0759 , -1.258  ],\n",
              "        [-0.2319 , -1.811  ]], dtype=float16)>,\n",
              " <tf.Tensor: shape=(3, 2), dtype=int16, numpy=\n",
              " array([[1, 2],\n",
              "        [3, 4],\n",
              "        [3, 4]], dtype=int16)>)"
            ]
          },
          "metadata": {},
          "execution_count": 28
        }
      ]
    },
    {
      "cell_type": "markdown",
      "metadata": {
        "id": "4yWGiQhCVF5U"
      },
      "source": [
        "# Aggregation of tensors \n",
        " the general definition of aggregation is to condense multiple values down to a smaller amount of values.\n",
        "\n",
        "* Absolute \n",
        "* min \n",
        "* max\n",
        "* mean\n",
        "* Sum \n",
        "\n"
      ]
    },
    {
      "cell_type": "code",
      "metadata": {
        "colab": {
          "base_uri": "https://localhost:8080/"
        },
        "id": "7RjRpNVfVFkc",
        "outputId": "6d7ad33a-881f-49eb-846f-a83eff89c14c"
      },
      "source": [
        "# get the absolute value \n",
        "D=tf.constant([-1,-20])\n",
        "\n",
        "tf.abs(D)\n"
      ],
      "execution_count": null,
      "outputs": [
        {
          "output_type": "execute_result",
          "data": {
            "text/plain": [
              "<tf.Tensor: shape=(2,), dtype=int32, numpy=array([ 1, 20], dtype=int32)>"
            ]
          },
          "metadata": {},
          "execution_count": 29
        }
      ]
    },
    {
      "cell_type": "code",
      "metadata": {
        "colab": {
          "base_uri": "https://localhost:8080/"
        },
        "id": "g_MGitGrWeb-",
        "outputId": "31e5bb39-2fbc-474a-9f74-2432e55d240e"
      },
      "source": [
        "E=tf.constant(np.random.randint(0,100,size=50))\n",
        "E=tf.reshape(E,shape=(2,25))\n",
        "\n",
        "# Find the min of the tensor \n",
        "E, tf.reduce_min(E),tf.reduce_max(E),tf.reduce_mean(E),tf.reduce_sum(E)"
      ],
      "execution_count": null,
      "outputs": [
        {
          "output_type": "execute_result",
          "data": {
            "text/plain": [
              "(<tf.Tensor: shape=(2, 25), dtype=int64, numpy=\n",
              " array([[59, 23,  0, 49, 26, 33,  9, 86, 12, 10, 48,  8, 70, 63, 57, 98,\n",
              "         92,  0, 33, 82, 48, 18, 55, 22, 86],\n",
              "        [62,  5, 49, 84, 69, 21, 54, 87, 68, 71, 50, 60, 19, 39, 47, 14,\n",
              "         75, 23, 80, 67, 63, 45, 42, 21, 72]])>,\n",
              " <tf.Tensor: shape=(), dtype=int64, numpy=0>,\n",
              " <tf.Tensor: shape=(), dtype=int64, numpy=98>,\n",
              " <tf.Tensor: shape=(), dtype=int64, numpy=47>,\n",
              " <tf.Tensor: shape=(), dtype=int64, numpy=2374>)"
            ]
          },
          "metadata": {},
          "execution_count": 30
        }
      ]
    },
    {
      "cell_type": "code",
      "metadata": {
        "colab": {
          "base_uri": "https://localhost:8080/"
        },
        "id": "mNbnrhreXgSu",
        "outputId": "a7e1c5b3-1b72-4aa7-a699-70fa28b05a96"
      },
      "source": [
        "# To find the variance \n",
        "import tensorflow_probability as tfp \n",
        "E=tf.cast(E,dtype=float)\n",
        "\n",
        "tf.math.reduce_std(E),tf.math.reduce_variance(E),tf.math.reduce_std(E).numpy()**2\n"
      ],
      "execution_count": null,
      "outputs": [
        {
          "output_type": "execute_result",
          "data": {
            "text/plain": [
              "(<tf.Tensor: shape=(), dtype=float32, numpy=27.044586>,\n",
              " <tf.Tensor: shape=(), dtype=float32, numpy=731.4096>,\n",
              " 731.409641736187)"
            ]
          },
          "metadata": {},
          "execution_count": 31
        }
      ]
    },
    {
      "cell_type": "code",
      "metadata": {
        "colab": {
          "base_uri": "https://localhost:8080/"
        },
        "id": "eXZn9ilnbhXm",
        "outputId": "a0eb91b3-c322-4e01-865f-668ba6e9a405"
      },
      "source": [
        "# To find the positional max and minimum \n",
        "\n",
        "tf.math.argmax(E),tf.math.argmin(E)\n",
        "# index it along the matrix \n",
        "\n"
      ],
      "execution_count": null,
      "outputs": [
        {
          "output_type": "execute_result",
          "data": {
            "text/plain": [
              "(<tf.Tensor: shape=(25,), dtype=int64, numpy=\n",
              " array([1, 0, 1, 1, 1, 0, 1, 1, 1, 1, 1, 1, 0, 0, 0, 0, 0, 1, 1, 0, 1, 1,\n",
              "        0, 0, 0])>, <tf.Tensor: shape=(25,), dtype=int64, numpy=\n",
              " array([0, 1, 0, 0, 0, 1, 0, 0, 0, 0, 0, 0, 1, 1, 1, 1, 1, 0, 0, 1, 0, 0,\n",
              "        1, 1, 1])>)"
            ]
          },
          "metadata": {},
          "execution_count": 32
        }
      ]
    },
    {
      "cell_type": "markdown",
      "metadata": {
        "id": "4oEbbmnEdZRf"
      },
      "source": [
        "# Squeezing a Tensor (removing all single dimensions)\n",
        "\n"
      ]
    },
    {
      "cell_type": "code",
      "metadata": {
        "colab": {
          "base_uri": "https://localhost:8080/"
        },
        "id": "aCxeqy3VavxY",
        "outputId": "aaed048b-87af-4eed-fe75-9a54aff9b903"
      },
      "source": [
        "# create a dummy tensor \n",
        "tf.random.set_seed(42)\n",
        "G=tf.constant(tf.random.uniform(shape=[50]),shape=(1,1,1,50,1))\n",
        "G.shape"
      ],
      "execution_count": null,
      "outputs": [
        {
          "output_type": "execute_result",
          "data": {
            "text/plain": [
              "TensorShape([1, 1, 1, 50, 1])"
            ]
          },
          "metadata": {},
          "execution_count": 33
        }
      ]
    },
    {
      "cell_type": "code",
      "metadata": {
        "colab": {
          "base_uri": "https://localhost:8080/"
        },
        "id": "4EBPRkCceDDL",
        "outputId": "0b4eb03c-292f-4ae6-9ef4-6c67047bf3d2"
      },
      "source": [
        "g_squeezed=tf.squeeze(G)\n",
        "g_squeezed,g_squeezed.shape"
      ],
      "execution_count": null,
      "outputs": [
        {
          "output_type": "execute_result",
          "data": {
            "text/plain": [
              "(<tf.Tensor: shape=(50,), dtype=float32, numpy=\n",
              " array([0.6645621 , 0.44100678, 0.3528825 , 0.46448255, 0.03366041,\n",
              "        0.68467236, 0.74011743, 0.8724445 , 0.22632635, 0.22319686,\n",
              "        0.3103881 , 0.7223358 , 0.13318717, 0.5480639 , 0.5746088 ,\n",
              "        0.8996835 , 0.00946367, 0.5212307 , 0.6345445 , 0.1993283 ,\n",
              "        0.72942245, 0.54583454, 0.10756552, 0.6767061 , 0.6602763 ,\n",
              "        0.33695042, 0.60141766, 0.21062577, 0.8527372 , 0.44062173,\n",
              "        0.9485276 , 0.23752594, 0.81179297, 0.5263394 , 0.494308  ,\n",
              "        0.21612847, 0.8457197 , 0.8718841 , 0.3083862 , 0.6868038 ,\n",
              "        0.23764038, 0.7817228 , 0.9671384 , 0.06870162, 0.79873943,\n",
              "        0.66028714, 0.5871513 , 0.16461694, 0.7381023 , 0.32054043],\n",
              "       dtype=float32)>, TensorShape([50]))"
            ]
          },
          "metadata": {},
          "execution_count": 34
        }
      ]
    },
    {
      "cell_type": "markdown",
      "metadata": {
        "id": "CP2GTalaeWpS"
      },
      "source": [
        "# One-hot Encoding tensors "
      ]
    },
    {
      "cell_type": "code",
      "metadata": {
        "colab": {
          "base_uri": "https://localhost:8080/"
        },
        "id": "swyxUsW0eThZ",
        "outputId": "80dac11f-488d-4863-eafa-4d83d37a9329"
      },
      "source": [
        "# CREATE A LIST OF INDICES \n",
        "list_index=[1,2,3]\n",
        "\n",
        "# one hot encode our list of indices \n",
        "\n",
        "tf.one_hot(list_index,depth=len(list_index)+1)"
      ],
      "execution_count": null,
      "outputs": [
        {
          "output_type": "execute_result",
          "data": {
            "text/plain": [
              "<tf.Tensor: shape=(3, 4), dtype=float32, numpy=\n",
              "array([[0., 1., 0., 0.],\n",
              "       [0., 0., 1., 0.],\n",
              "       [0., 0., 0., 1.]], dtype=float32)>"
            ]
          },
          "metadata": {},
          "execution_count": 35
        }
      ]
    },
    {
      "cell_type": "markdown",
      "metadata": {
        "id": "P74oX321fnFG"
      },
      "source": [
        "# Squaring , log, square_root\n",
        "\n",
        "\n",
        "\n"
      ]
    },
    {
      "cell_type": "code",
      "metadata": {
        "colab": {
          "base_uri": "https://localhost:8080/"
        },
        "id": "yQX2i3-Gfs_R",
        "outputId": "26c7cec4-fdc1-4f4d-a6fb-7b21ff7dd1bc"
      },
      "source": [
        "# create a new tensor \n",
        "\n",
        "H=tf.range(0,10)\n",
        "H"
      ],
      "execution_count": null,
      "outputs": [
        {
          "output_type": "execute_result",
          "data": {
            "text/plain": [
              "<tf.Tensor: shape=(10,), dtype=int32, numpy=array([0, 1, 2, 3, 4, 5, 6, 7, 8, 9], dtype=int32)>"
            ]
          },
          "metadata": {},
          "execution_count": 36
        }
      ]
    },
    {
      "cell_type": "code",
      "metadata": {
        "colab": {
          "base_uri": "https://localhost:8080/"
        },
        "id": "vyEVsyBrfyos",
        "outputId": "d896eb85-b620-4680-eb55-41fa2089d974"
      },
      "source": [
        "# Square it ,square root, log \n",
        "tf.square(H) ,tf.math.sqrt(tf.cast(H,dtype=tf.float16)),tf.math.log(tf.cast(H,dtype=tf.float16))"
      ],
      "execution_count": null,
      "outputs": [
        {
          "output_type": "execute_result",
          "data": {
            "text/plain": [
              "(<tf.Tensor: shape=(10,), dtype=int32, numpy=array([ 0,  1,  4,  9, 16, 25, 36, 49, 64, 81], dtype=int32)>,\n",
              " <tf.Tensor: shape=(10,), dtype=float16, numpy=\n",
              " array([0.   , 1.   , 1.414, 1.732, 2.   , 2.236, 2.45 , 2.646, 2.828,\n",
              "        3.   ], dtype=float16)>,\n",
              " <tf.Tensor: shape=(10,), dtype=float16, numpy=\n",
              " array([  -inf, 0.    , 0.6934, 1.099 , 1.387 , 1.609 , 1.792 , 1.946 ,\n",
              "        2.08  , 2.197 ], dtype=float16)>)"
            ]
          },
          "metadata": {},
          "execution_count": 37
        }
      ]
    },
    {
      "cell_type": "markdown",
      "metadata": {
        "id": "wN-DtfsxgmpP"
      },
      "source": [
        "# Tensors and numpy "
      ]
    },
    {
      "cell_type": "code",
      "metadata": {
        "colab": {
          "base_uri": "https://localhost:8080/"
        },
        "id": "MMzpTAJpgmTn",
        "outputId": "bf9b23d0-68f7-4301-b354-f70269899144"
      },
      "source": [
        "# Create a tensor directly fom numpy and vice versa \n",
        "\n",
        "j=tf.constant(np.array([2,3,4]))\n",
        "j,np.array(j)"
      ],
      "execution_count": null,
      "outputs": [
        {
          "output_type": "execute_result",
          "data": {
            "text/plain": [
              "(<tf.Tensor: shape=(3,), dtype=int64, numpy=array([2, 3, 4])>,\n",
              " array([2, 3, 4]))"
            ]
          },
          "metadata": {},
          "execution_count": 38
        }
      ]
    },
    {
      "cell_type": "code",
      "metadata": {
        "colab": {
          "base_uri": "https://localhost:8080/"
        },
        "id": "_YDB02t5hMN9",
        "outputId": "f45dc561-f8ce-46cb-83fb-02846082dde5"
      },
      "source": [
        "# the default datatype for the tensor and the numpy are slightly different \n",
        "numpy_j=tf.constant(np.array([1.0,2,3]))\n",
        "tensor_j=tf.constant([1.0,2,3])\n",
        "numpy_j.dtype,tensor_j.dtype\n"
      ],
      "execution_count": null,
      "outputs": [
        {
          "output_type": "execute_result",
          "data": {
            "text/plain": [
              "(tf.float64, tf.float32)"
            ]
          },
          "metadata": {},
          "execution_count": 39
        }
      ]
    },
    {
      "cell_type": "markdown",
      "metadata": {
        "id": "DleIHGejiK_B"
      },
      "source": [
        "# Find access to the GPUs \n"
      ]
    },
    {
      "cell_type": "code",
      "metadata": {
        "colab": {
          "base_uri": "https://localhost:8080/"
        },
        "id": "ahkIvF6aiPSr",
        "outputId": "269b6d7c-4cd6-434d-8644-47aae25231b0"
      },
      "source": [
        "tf.config.list_physical_devices()"
      ],
      "execution_count": null,
      "outputs": [
        {
          "output_type": "execute_result",
          "data": {
            "text/plain": [
              "[PhysicalDevice(name='/physical_device:CPU:0', device_type='CPU'),\n",
              " PhysicalDevice(name='/physical_device:GPU:0', device_type='GPU')]"
            ]
          },
          "metadata": {},
          "execution_count": 40
        }
      ]
    },
    {
      "cell_type": "code",
      "metadata": {
        "colab": {
          "base_uri": "https://localhost:8080/"
        },
        "id": "npRdxAOhi3we",
        "outputId": "e35e6fc1-61d5-4ebb-efa3-46c6e06a4c11"
      },
      "source": [
        "!nvidia-smi"
      ],
      "execution_count": null,
      "outputs": [
        {
          "output_type": "stream",
          "text": [
            "Mon Aug 30 00:53:14 2021       \n",
            "+-----------------------------------------------------------------------------+\n",
            "| NVIDIA-SMI 470.57.02    Driver Version: 460.32.03    CUDA Version: 11.2     |\n",
            "|-------------------------------+----------------------+----------------------+\n",
            "| GPU  Name        Persistence-M| Bus-Id        Disp.A | Volatile Uncorr. ECC |\n",
            "| Fan  Temp  Perf  Pwr:Usage/Cap|         Memory-Usage | GPU-Util  Compute M. |\n",
            "|                               |                      |               MIG M. |\n",
            "|===============================+======================+======================|\n",
            "|   0  Tesla K80           Off  | 00000000:00:04.0 Off |                    0 |\n",
            "| N/A   46C    P0    60W / 149W |    123MiB / 11441MiB |      0%      Default |\n",
            "|                               |                      |                  N/A |\n",
            "+-------------------------------+----------------------+----------------------+\n",
            "                                                                               \n",
            "+-----------------------------------------------------------------------------+\n",
            "| Processes:                                                                  |\n",
            "|  GPU   GI   CI        PID   Type   Process name                  GPU Memory |\n",
            "|        ID   ID                                                   Usage      |\n",
            "|=============================================================================|\n",
            "|  No running processes found                                                 |\n",
            "+-----------------------------------------------------------------------------+\n"
          ],
          "name": "stdout"
        }
      ]
    },
    {
      "cell_type": "code",
      "metadata": {
        "id": "YNgoKdIajGSC"
      },
      "source": [
        "# If we have access to a CUDA enabled GPU tensorflow will run it whenever possible"
      ],
      "execution_count": null,
      "outputs": []
    },
    {
      "cell_type": "markdown",
      "metadata": {
        "id": "7M-X1H37alFr"
      },
      "source": [
        "# Exercise "
      ]
    },
    {
      "cell_type": "code",
      "metadata": {
        "colab": {
          "base_uri": "https://localhost:8080/"
        },
        "id": "58aK9Rziakwo",
        "outputId": "67cd6898-6db0-44a8-9fd7-5c3b0f1c1cb5"
      },
      "source": [
        "# create a vector, scalar , matric and a tensor using tf.constant \n",
        "\n",
        "scalar=tf.constant(0)\n",
        "\n",
        "vector= tf.constant([1,2,3])\n",
        "\n",
        "matrix=tf.constant(tf.random.normal(shape=(3,3),mean=10))\n",
        "\n",
        "tensor=tf.constant(tf.random.uniform(shape=(3,4,5)))\n",
        "\n",
        "scalar.ndim,vector.ndim, matrix.ndim,tensor.ndim"
      ],
      "execution_count": null,
      "outputs": [
        {
          "output_type": "execute_result",
          "data": {
            "text/plain": [
              "(0, 1, 2, 3)"
            ]
          },
          "metadata": {},
          "execution_count": 47
        }
      ]
    },
    {
      "cell_type": "code",
      "metadata": {
        "colab": {
          "base_uri": "https://localhost:8080/"
        },
        "id": "hHO7UgMujBZo",
        "outputId": "f512fd4e-028a-4106-a3e0-fa9b8695ee2f"
      },
      "source": [
        "# Find the shape rank and size for the tensors in 1\n",
        "\n",
        "\n",
        "for x in [scalar,vector,matrix,tensor]:\n",
        "  print(tf.size(x).numpy(),x.shape,x.ndim)\n"
      ],
      "execution_count": null,
      "outputs": [
        {
          "output_type": "stream",
          "text": [
            "1 () 0\n",
            "3 (3,) 1\n",
            "9 (3, 3) 2\n",
            "60 (3, 4, 5) 3\n"
          ],
          "name": "stdout"
        }
      ]
    },
    {
      "cell_type": "code",
      "metadata": {
        "colab": {
          "base_uri": "https://localhost:8080/"
        },
        "id": "ay0EwJTEd89U",
        "outputId": "7f8e7cab-ea16-4da8-d97f-9571eda7a2d6"
      },
      "source": [
        "# Create 2 tensors with random value belween 0 and 1 with the shape [5,300]\n",
        "tf.random.Generator.from_seed(42)\n",
        "# using tensor random generator \n",
        "rand_1=tf.random.uniform(shape=(5,300),minval=0,maxval=1)\n",
        "# using numpy \n",
        "rand_2=tf.constant(np.random.random(size=(5,300)))\n",
        "# notice the difference in the datatypes\n",
        "rand_1,rand_2"
      ],
      "execution_count": null,
      "outputs": [
        {
          "output_type": "execute_result",
          "data": {
            "text/plain": [
              "(<tf.Tensor: shape=(5, 300), dtype=float32, numpy=\n",
              " array([[0.9198024 , 0.9021473 , 0.41526616, ..., 0.5822983 , 0.87424827,\n",
              "         0.87493646],\n",
              "        [0.47639966, 0.46232438, 0.02243221, ..., 0.32143807, 0.40111768,\n",
              "         0.28625727],\n",
              "        [0.35340595, 0.27560496, 0.40311146, ..., 0.03763556, 0.6741897 ,\n",
              "         0.6569295 ],\n",
              "        [0.02055502, 0.901711  , 0.9821774 , ..., 0.9703983 , 0.09900749,\n",
              "         0.03038132],\n",
              "        [0.8285135 , 0.3170538 , 0.69191897, ..., 0.7987853 , 0.73130655,\n",
              "         0.355502  ]], dtype=float32)>,\n",
              " <tf.Tensor: shape=(5, 300), dtype=float64, numpy=\n",
              " array([[0.59802297, 0.24300254, 0.43756827, ..., 0.399046  , 0.08517999,\n",
              "         0.69811142],\n",
              "        [0.48274309, 0.89764863, 0.3293635 , ..., 0.86646779, 0.31829585,\n",
              "         0.82678857],\n",
              "        [0.23739013, 0.88270689, 0.65409919, ..., 0.50557777, 0.4351621 ,\n",
              "         0.88981846],\n",
              "        [0.65419073, 0.76177084, 0.69344922, ..., 0.26107891, 0.96986042,\n",
              "         0.8101986 ],\n",
              "        [0.04546416, 0.91549517, 0.72982325, ..., 0.05105137, 0.98726807,\n",
              "         0.84095962]])>)"
            ]
          },
          "metadata": {},
          "execution_count": 56
        }
      ]
    },
    {
      "cell_type": "code",
      "metadata": {
        "colab": {
          "base_uri": "https://localhost:8080/"
        },
        "id": "l1iF_O37e-Eu",
        "outputId": "9a644857-1ecd-4943-8b40-2a9ab862f832"
      },
      "source": [
        "# Matrix multiplication of the two tensors \n",
        "# type 1 # type 2\n",
        "tf.matmul(rand_1,tf.cast(rand_2,dtype=tf.float32),transpose_b=True) ,tf.cast(rand_1,dtype=tf.float64)@ tf.transpose(rand_2)\n"
      ],
      "execution_count": null,
      "outputs": [
        {
          "output_type": "execute_result",
          "data": {
            "text/plain": [
              "(<tf.Tensor: shape=(5, 5), dtype=float32, numpy=\n",
              " array([[76.83791 , 79.065956, 70.551865, 72.23984 , 80.98896 ],\n",
              "        [72.87721 , 75.51057 , 67.73034 , 68.4623  , 74.34181 ],\n",
              "        [73.64803 , 80.86321 , 68.74929 , 72.71942 , 78.25747 ],\n",
              "        [77.77457 , 81.77639 , 75.136856, 72.165886, 78.92928 ],\n",
              "        [77.37176 , 79.32943 , 72.0336  , 72.70772 , 80.97714 ]],\n",
              "       dtype=float32)>, <tf.Tensor: shape=(5, 5), dtype=float64, numpy=\n",
              " array([[76.83791218, 79.06592496, 70.55182845, 72.2398364 , 80.98896957],\n",
              "        [72.87724327, 75.5105715 , 67.73032461, 68.46229403, 74.34182167],\n",
              "        [73.64803718, 80.86321484, 68.74930737, 72.71944889, 78.25748385],\n",
              "        [77.77461209, 81.77639678, 75.13686614, 72.16589743, 78.92925538],\n",
              "        [77.37180237, 79.32946797, 72.03363327, 72.70767907, 80.97714835]])>)"
            ]
          },
          "metadata": {},
          "execution_count": 60
        }
      ]
    },
    {
      "cell_type": "code",
      "metadata": {
        "colab": {
          "base_uri": "https://localhost:8080/"
        },
        "id": "ubQTBlbDfx7o",
        "outputId": "605d01d0-5146-4611-99fc-b9c86d89a493"
      },
      "source": [
        "# multiply using the dot product \n",
        "\n",
        "tf.tensordot(rand_1,tf.transpose(tf.cast(rand_2,dtype=tf.float32)),axes=1)"
      ],
      "execution_count": null,
      "outputs": [
        {
          "output_type": "execute_result",
          "data": {
            "text/plain": [
              "<tf.Tensor: shape=(5, 5), dtype=float32, numpy=\n",
              "array([[76.83791 , 79.065956, 70.551865, 72.23984 , 80.98896 ],\n",
              "       [72.87721 , 75.51057 , 67.73034 , 68.4623  , 74.34181 ],\n",
              "       [73.64803 , 80.86321 , 68.74929 , 72.71942 , 78.25747 ],\n",
              "       [77.77457 , 81.77639 , 75.136856, 72.165886, 78.92928 ],\n",
              "       [77.37176 , 79.32943 , 72.0336  , 72.70772 , 80.97714 ]],\n",
              "      dtype=float32)>"
            ]
          },
          "metadata": {},
          "execution_count": 64
        }
      ]
    },
    {
      "cell_type": "code",
      "metadata": {
        "id": "Db7NMEiUgY_w"
      },
      "source": [
        "# create a random matric with the given shape \n",
        "tf.random.Generator.from_seed(42)\n",
        "ten_3=tf.random.normal(shape=(224,224,3))\n",
        "ten_3"
      ],
      "execution_count": null,
      "outputs": []
    },
    {
      "cell_type": "code",
      "metadata": {
        "colab": {
          "base_uri": "https://localhost:8080/"
        },
        "id": "z9vPHWoCg65c",
        "outputId": "5c586c9a-aabc-4a7d-a1b8-fb96591f7773"
      },
      "source": [
        "# Find the min and max values in the tensor that has been created \n",
        "tf.reduce_max(ten_3),tf.reduce_min(ten_3)"
      ],
      "execution_count": null,
      "outputs": [
        {
          "output_type": "execute_result",
          "data": {
            "text/plain": [
              "(<tf.Tensor: shape=(), dtype=float32, numpy=4.6342225>,\n",
              " <tf.Tensor: shape=(), dtype=float32, numpy=-4.404409>)"
            ]
          },
          "metadata": {},
          "execution_count": 67
        }
      ]
    },
    {
      "cell_type": "code",
      "metadata": {
        "id": "te97VmdKhSlB"
      },
      "source": [
        "# Create  a random tensor with the given size and then squeeze\n",
        "\n",
        "ten_4=tf.random.uniform(shape=(1,224,224,3),maxval=500)\n",
        "tf.squeeze(ten_4)"
      ],
      "execution_count": null,
      "outputs": []
    },
    {
      "cell_type": "code",
      "metadata": {
        "colab": {
          "base_uri": "https://localhost:8080/"
        },
        "id": "MvaiUueLhwK8",
        "outputId": "686c1284-cd56-4c27-b3d1-0341f6609cb2"
      },
      "source": [
        "rand_ten=tf.constant(np.arange(0,10))\n",
        "tf.argmax(rand_ten).numpy(),rand_ten"
      ],
      "execution_count": null,
      "outputs": [
        {
          "output_type": "execute_result",
          "data": {
            "text/plain": [
              "(9,\n",
              " <tf.Tensor: shape=(10,), dtype=int64, numpy=array([0, 1, 2, 3, 4, 5, 6, 7, 8, 9])>)"
            ]
          },
          "metadata": {},
          "execution_count": 71
        }
      ]
    },
    {
      "cell_type": "code",
      "metadata": {
        "colab": {
          "base_uri": "https://localhost:8080/"
        },
        "id": "Tn318I3XiC74",
        "outputId": "8c9ed72e-f79e-409a-b34f-6a83e2d3ac68"
      },
      "source": [
        "tf.one_hot(rand_ten,depth=tf.size(rand_ten).numpy())"
      ],
      "execution_count": null,
      "outputs": [
        {
          "output_type": "execute_result",
          "data": {
            "text/plain": [
              "<tf.Tensor: shape=(10, 10), dtype=float32, numpy=\n",
              "array([[1., 0., 0., 0., 0., 0., 0., 0., 0., 0.],\n",
              "       [0., 1., 0., 0., 0., 0., 0., 0., 0., 0.],\n",
              "       [0., 0., 1., 0., 0., 0., 0., 0., 0., 0.],\n",
              "       [0., 0., 0., 1., 0., 0., 0., 0., 0., 0.],\n",
              "       [0., 0., 0., 0., 1., 0., 0., 0., 0., 0.],\n",
              "       [0., 0., 0., 0., 0., 1., 0., 0., 0., 0.],\n",
              "       [0., 0., 0., 0., 0., 0., 1., 0., 0., 0.],\n",
              "       [0., 0., 0., 0., 0., 0., 0., 1., 0., 0.],\n",
              "       [0., 0., 0., 0., 0., 0., 0., 0., 1., 0.],\n",
              "       [0., 0., 0., 0., 0., 0., 0., 0., 0., 1.]], dtype=float32)>"
            ]
          },
          "metadata": {},
          "execution_count": 73
        }
      ]
    }
  ]
}