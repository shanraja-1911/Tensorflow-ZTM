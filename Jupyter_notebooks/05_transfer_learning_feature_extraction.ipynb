{
  "nbformat": 4,
  "nbformat_minor": 0,
  "metadata": {
    "colab": {
      "name": "05_transfer_learning- feature-extraction.ipynb",
      "provenance": []
    },
    "kernelspec": {
      "name": "python3",
      "display_name": "Python 3"
    },
    "language_info": {
      "name": "python"
    },
    "accelerator": "GPU"
  },
  "cells": [
    {
      "cell_type": "markdown",
      "metadata": {
        "id": "0deWFlpc8MUD"
      },
      "source": [
        "  # Transfer Learning with Tensorflow Part 1: Feature Extraction \n",
        "\n",
        "  Transfer learning is levaraging a working model's Existing architecture and learned patterns .\n",
        "\n",
        "  There are two main benefits:\n",
        "  1. Can levarage an existing neural network architecture proven to work on problems similar to out own.\n",
        "  2. If the similar pattern are learnt on the dataset that is similar to that of ours, then we can adapt those patterns to our owm data."
      ]
    },
    {
      "cell_type": "code",
      "metadata": {
        "colab": {
          "base_uri": "https://localhost:8080/"
        },
        "id": "OgmAQtJHTdnc",
        "outputId": "5efdce38-91ff-4a54-bc4d-61944a19b57e"
      },
      "source": [
        "!nvidia-smi"
      ],
      "execution_count": null,
      "outputs": [
        {
          "output_type": "stream",
          "name": "stdout",
          "text": [
            "Wed Sep 22 01:08:19 2021       \n",
            "+-----------------------------------------------------------------------------+\n",
            "| NVIDIA-SMI 470.63.01    Driver Version: 460.32.03    CUDA Version: 11.2     |\n",
            "|-------------------------------+----------------------+----------------------+\n",
            "| GPU  Name        Persistence-M| Bus-Id        Disp.A | Volatile Uncorr. ECC |\n",
            "| Fan  Temp  Perf  Pwr:Usage/Cap|         Memory-Usage | GPU-Util  Compute M. |\n",
            "|                               |                      |               MIG M. |\n",
            "|===============================+======================+======================|\n",
            "|   0  Tesla K80           Off  | 00000000:00:04.0 Off |                    0 |\n",
            "| N/A   64C    P8    30W / 149W |      0MiB / 11441MiB |      0%      Default |\n",
            "|                               |                      |                  N/A |\n",
            "+-------------------------------+----------------------+----------------------+\n",
            "                                                                               \n",
            "+-----------------------------------------------------------------------------+\n",
            "| Processes:                                                                  |\n",
            "|  GPU   GI   CI        PID   Type   Process name                  GPU Memory |\n",
            "|        ID   ID                                                   Usage      |\n",
            "|=============================================================================|\n",
            "|  No running processes found                                                 |\n",
            "+-----------------------------------------------------------------------------+\n"
          ]
        }
      ]
    },
    {
      "cell_type": "code",
      "metadata": {
        "id": "OgLnNRIfTrCb"
      },
      "source": [
        "## Download and becoming one wiht the data"
      ],
      "execution_count": null,
      "outputs": []
    },
    {
      "cell_type": "code",
      "metadata": {
        "colab": {
          "base_uri": "https://localhost:8080/"
        },
        "id": "cTwhAzTNTy0p",
        "outputId": "7b8fe6c8-4107-4698-ea22-7fa2a9230bac"
      },
      "source": [
        "# get the 10 % data form the food classes from Food 101 \n",
        "\n",
        "import zipfile \n",
        "\n",
        "# Download the data\n",
        "!wget https://storage.googleapis.com/ztm_tf_course/food_vision/10_food_classes_10_percent.zip\n",
        "\n",
        "# unzip the downloaded file \n",
        "zip_ref=zipfile.ZipFile(\"10_food_classes_10_percent.zip\")\n",
        "zip_ref.extractall()\n",
        "zip_ref.close()"
      ],
      "execution_count": null,
      "outputs": [
        {
          "output_type": "stream",
          "name": "stdout",
          "text": [
            "--2021-09-22 01:08:20--  https://storage.googleapis.com/ztm_tf_course/food_vision/10_food_classes_10_percent.zip\n",
            "Resolving storage.googleapis.com (storage.googleapis.com)... 74.125.203.128, 74.125.204.128, 64.233.187.128, ...\n",
            "Connecting to storage.googleapis.com (storage.googleapis.com)|74.125.203.128|:443... connected.\n",
            "HTTP request sent, awaiting response... 200 OK\n",
            "Length: 168546183 (161M) [application/zip]\n",
            "Saving to: ‘10_food_classes_10_percent.zip’\n",
            "\n",
            "10_food_classes_10_ 100%[===================>] 160.74M  66.9MB/s    in 2.4s    \n",
            "\n",
            "2021-09-22 01:08:23 (66.9 MB/s) - ‘10_food_classes_10_percent.zip’ saved [168546183/168546183]\n",
            "\n"
          ]
        }
      ]
    },
    {
      "cell_type": "code",
      "metadata": {
        "colab": {
          "base_uri": "https://localhost:8080/"
        },
        "id": "gVGhoHiHUdKC",
        "outputId": "e3e9159b-3d5e-4f0f-80ed-730256d95d92"
      },
      "source": [
        "# how many images in each folder ?\n",
        "import os\n",
        "\n",
        "# Walk through 10 percent data directiory and list numer iof files \n",
        "\n",
        "for dirpath,dirnames,filenames in os.walk(\"10_food_classes_10_percent\"):\n",
        "  print(f\"there are {len(dirnames)} directories in {dirpath} and {len(filenames)} images in it\")"
      ],
      "execution_count": null,
      "outputs": [
        {
          "output_type": "stream",
          "name": "stdout",
          "text": [
            "there are 2 directories in 10_food_classes_10_percent and 0 images in it\n",
            "there are 10 directories in 10_food_classes_10_percent/train and 0 images in it\n",
            "there are 0 directories in 10_food_classes_10_percent/train/ramen and 75 images in it\n",
            "there are 0 directories in 10_food_classes_10_percent/train/chicken_curry and 75 images in it\n",
            "there are 0 directories in 10_food_classes_10_percent/train/chicken_wings and 75 images in it\n",
            "there are 0 directories in 10_food_classes_10_percent/train/ice_cream and 75 images in it\n",
            "there are 0 directories in 10_food_classes_10_percent/train/grilled_salmon and 75 images in it\n",
            "there are 0 directories in 10_food_classes_10_percent/train/steak and 75 images in it\n",
            "there are 0 directories in 10_food_classes_10_percent/train/pizza and 75 images in it\n",
            "there are 0 directories in 10_food_classes_10_percent/train/sushi and 75 images in it\n",
            "there are 0 directories in 10_food_classes_10_percent/train/fried_rice and 75 images in it\n",
            "there are 0 directories in 10_food_classes_10_percent/train/hamburger and 75 images in it\n",
            "there are 10 directories in 10_food_classes_10_percent/test and 0 images in it\n",
            "there are 0 directories in 10_food_classes_10_percent/test/ramen and 250 images in it\n",
            "there are 0 directories in 10_food_classes_10_percent/test/chicken_curry and 250 images in it\n",
            "there are 0 directories in 10_food_classes_10_percent/test/chicken_wings and 250 images in it\n",
            "there are 0 directories in 10_food_classes_10_percent/test/ice_cream and 250 images in it\n",
            "there are 0 directories in 10_food_classes_10_percent/test/grilled_salmon and 250 images in it\n",
            "there are 0 directories in 10_food_classes_10_percent/test/steak and 250 images in it\n",
            "there are 0 directories in 10_food_classes_10_percent/test/pizza and 250 images in it\n",
            "there are 0 directories in 10_food_classes_10_percent/test/sushi and 250 images in it\n",
            "there are 0 directories in 10_food_classes_10_percent/test/fried_rice and 250 images in it\n",
            "there are 0 directories in 10_food_classes_10_percent/test/hamburger and 250 images in it\n"
          ]
        }
      ]
    },
    {
      "cell_type": "markdown",
      "metadata": {
        "id": "FuTwUGI8VT_-"
      },
      "source": [
        "### Creating the data loaders (preparing the data)\n",
        "\n",
        "We will use the Image data Generator class to load in our images in batches."
      ]
    },
    {
      "cell_type": "code",
      "metadata": {
        "colab": {
          "base_uri": "https://localhost:8080/"
        },
        "id": "O2oCexR8Vf5G",
        "outputId": "064f1f47-8a10-4cf5-ab30-a0625fe1b8f8"
      },
      "source": [
        "# Setup data inputs\n",
        "from tensorflow.keras.preprocessing.image import ImageDataGenerator\n",
        "\n",
        "IMAGE_SHAPE=(224,224)\n",
        "BATCH_SIZE=32\n",
        "#EPOCHS=5\n",
        "\n",
        "train_dir=\"10_food_classes_10_percent/train/\"\n",
        "test_dir=\"10_food_classes_10_percent/test/\"\n",
        "\n",
        "train_datagen = ImageDataGenerator(rescale=1/255.)\n",
        "test_datagen=ImageDataGenerator(rescale=1/255.)\n",
        "\n",
        "\n",
        "print(\"Training Images:\")\n",
        "\n",
        "train_data =train_datagen.flow_from_directory(train_dir,\n",
        "                                           target_size=IMAGE_SHAPE,\n",
        "                                           batch_size=BATCH_SIZE,\n",
        "                                           class_mode='categorical')\n",
        "\n",
        "print(\"Testing Images:\")\n",
        "\n",
        "test_data= test_datagen.flow_from_directory(test_dir,\n",
        "                                            target_size=IMAGE_SHAPE,\n",
        "                                            batch_size=BATCH_SIZE,\n",
        "                                            class_mode='categorical')\n",
        "\n"
      ],
      "execution_count": null,
      "outputs": [
        {
          "output_type": "stream",
          "name": "stdout",
          "text": [
            "Training Images:\n",
            "Found 750 images belonging to 10 classes.\n",
            "Testing Images:\n",
            "Found 2500 images belonging to 10 classes.\n"
          ]
        }
      ]
    },
    {
      "cell_type": "markdown",
      "metadata": {
        "id": "2qk8FViBZNAT"
      },
      "source": [
        "### Setting up callbacks \n",
        "\n",
        "Callbacks are the extra fucntionality we can add to our models to be performed before and after training. Some of our most popular callbacks architecture\n",
        "\n",
        "* Tracking experiments with Tensorboard callback \n",
        "* Model checkpoint with the ModelCheckpoint callback \n",
        "* Stopping the model form training ( to prevent overfitting)\n"
      ]
    },
    {
      "cell_type": "code",
      "metadata": {
        "id": "E4ceu84SaQnd"
      },
      "source": [
        "# Create the tensorboard callback\n",
        "\n",
        "import datetime \n",
        "\n",
        "def create_tensorboard_callback(dir_name, experiment_name):\n",
        "  log_dir=dir_name+'/'+experiment_name+'/'+datetime.datetime.now().strftime(\"%Y%m%d-%H%M%S\")\n",
        "  tensorboard_callback=tf.keras.callbacks.TensorBoard(log_dir=log_dir)\n",
        "  print(f\"Saving Tensorboard logfiles to :{log_dir}\")\n",
        "  return tensorboard_callback"
      ],
      "execution_count": null,
      "outputs": []
    },
    {
      "cell_type": "markdown",
      "metadata": {
        "id": "O0sRd2_7bwnq"
      },
      "source": [
        "### Creating models using tensorflowHUB \n",
        "\n",
        "In the past we have used tensorflow to create our models layer by layer from scratch \n",
        "\n",
        "Now we are going to do a similar process , except the majority of our mdoels layers are going to come from the tensorflowHub \n",
        "\n",
        "www.tfhub.dev\n",
        "\n",
        " Browsing the site and searching for image classification we found resnet50 to be better for the classification problem."
      ]
    },
    {
      "cell_type": "code",
      "metadata": {
        "id": "_jpKcXHWciee"
      },
      "source": [
        "# lets compare the following two models \n",
        "\n",
        "resnet_url = \"https://tfhub.dev/google/imagenet/resnet_v2_50/feature_vector/5\"\n",
        "\n",
        "efficientnet_url=\"https://tfhub.dev/tensorflow/efficientnet/b0/feature-vector/1\""
      ],
      "execution_count": null,
      "outputs": []
    },
    {
      "cell_type": "code",
      "metadata": {
        "id": "-R7y4PkxeUFH"
      },
      "source": [
        "# import dependencies \n",
        "import tensorflow as tf\n",
        "import tensorflow_hub as hub\n",
        "from tensorflow.keras import layers \n",
        "\n"
      ],
      "execution_count": null,
      "outputs": []
    },
    {
      "cell_type": "code",
      "metadata": {
        "id": "6MLKQXDzegyf"
      },
      "source": [
        "# Lets make a create_model() function to create a model from an URL \n",
        "def create_model(model_url, num_classes=10):\n",
        "  \n",
        "  \"\"\"\n",
        "  Takes a Tensorflow Hub url and creates a sequential model with it \n",
        "  Args :\n",
        "  model url \n",
        "  num_classes\n",
        "  \n",
        "  returns:\n",
        "  An uncompiled keras sequential model with model_url as feature extractor \n",
        "  \n",
        "  \"\"\"\n",
        "   # Download the pre-trained model and save it as a keras layer\n",
        "  \n",
        "  feature_extractor_layer= hub.KerasLayer(model_url,trainable=False,name=\"feature_extraction_layer\",input_shape=IMAGE_SHAPE+(3,))\n",
        "  # Freeze the already learned patterns \n",
        "  # create our own model \n",
        "  model = tf.keras.Sequential([\n",
        "                                feature_extractor_layer,\n",
        "                                layers.Dense(num_classes,activation='softmax',name=\"output_layer\")\n",
        "   ]) \n",
        "  return model \n",
        "\n",
        "\n"
      ],
      "execution_count": null,
      "outputs": []
    },
    {
      "cell_type": "markdown",
      "metadata": {
        "id": "DMTNfUjMgjnw"
      },
      "source": [
        "### Creating and testing resnet tensorflow model and testing \n"
      ]
    },
    {
      "cell_type": "code",
      "metadata": {
        "id": "UwRcgi_Pgvno"
      },
      "source": [
        "# create resnet model \n",
        "\n",
        "resnet_model= create_model (resnet_url,num_classes=train_data.num_classes)"
      ],
      "execution_count": null,
      "outputs": []
    },
    {
      "cell_type": "code",
      "metadata": {
        "colab": {
          "base_uri": "https://localhost:8080/"
        },
        "id": "_eqwbNegidFf",
        "outputId": "ec20f82d-0158-4244-8453-733cb4bdc487"
      },
      "source": [
        "resnet_model.summary()"
      ],
      "execution_count": null,
      "outputs": [
        {
          "output_type": "stream",
          "name": "stdout",
          "text": [
            "Model: \"sequential\"\n",
            "_________________________________________________________________\n",
            "Layer (type)                 Output Shape              Param #   \n",
            "=================================================================\n",
            "feature_extraction_layer (Ke (None, 2048)              23564800  \n",
            "_________________________________________________________________\n",
            "output_layer (Dense)         (None, 10)                20490     \n",
            "=================================================================\n",
            "Total params: 23,585,290\n",
            "Trainable params: 20,490\n",
            "Non-trainable params: 23,564,800\n",
            "_________________________________________________________________\n"
          ]
        }
      ]
    },
    {
      "cell_type": "code",
      "metadata": {
        "id": "Y5DwlGD4iigJ"
      },
      "source": [
        "# Compile our resnet model \n",
        "\n",
        "resnet_model.compile(loss='categorical_crossentropy',\n",
        "                     optimizer=tf.keras.optimizers.Adam(),\n",
        "                     metrics=['accuracy'])\n",
        "\n"
      ],
      "execution_count": null,
      "outputs": []
    },
    {
      "cell_type": "code",
      "metadata": {
        "colab": {
          "base_uri": "https://localhost:8080/"
        },
        "id": "0OfPwrtVi1x0",
        "outputId": "d9834e22-5a9e-4549-ad04-25eff2b96ce2"
      },
      "source": [
        "history_resnet=resnet_model.fit(train_data,\n",
        "                            steps_per_epoch=len(train_data),\n",
        "                            epochs=5,validation_data=test_data,validation_steps=len(test_data),callbacks=[create_tensorboard_callback(dir_name=\"tensorflow_hub\", experiment_name='resnet50v2')]\n",
        "                            )\n"
      ],
      "execution_count": null,
      "outputs": [
        {
          "output_type": "stream",
          "name": "stdout",
          "text": [
            "Saving Tensorboard logfiles to :tensorflow_hub/resnet50v2/20210922-012059\n",
            "Epoch 1/5\n",
            "24/24 [==============================] - 22s 948ms/step - loss: 0.3229 - accuracy: 0.9360 - val_loss: 0.6885 - val_accuracy: 0.7644\n",
            "Epoch 2/5\n",
            "24/24 [==============================] - 21s 900ms/step - loss: 0.2725 - accuracy: 0.9480 - val_loss: 0.6552 - val_accuracy: 0.7796\n",
            "Epoch 3/5\n",
            "24/24 [==============================] - 21s 899ms/step - loss: 0.2301 - accuracy: 0.9667 - val_loss: 0.6507 - val_accuracy: 0.7784\n",
            "Epoch 4/5\n",
            "24/24 [==============================] - 21s 898ms/step - loss: 0.1968 - accuracy: 0.9680 - val_loss: 0.6455 - val_accuracy: 0.7852\n",
            "Epoch 5/5\n",
            "24/24 [==============================] - 21s 898ms/step - loss: 0.1676 - accuracy: 0.9787 - val_loss: 0.6363 - val_accuracy: 0.7900\n"
          ]
        }
      ]
    },
    {
      "cell_type": "markdown",
      "metadata": {
        "id": "KvW82HZdm1jd"
      },
      "source": [
        "the results outperform all the previous models that we trained on."
      ]
    },
    {
      "cell_type": "code",
      "metadata": {
        "colab": {
          "base_uri": "https://localhost:8080/",
          "height": 282
        },
        "id": "luZ6quC3m_Km",
        "outputId": "e0b01898-d9a5-4bfc-ce7b-69f0c22c1285"
      },
      "source": [
        "import pandas as pd\n",
        "pd.DataFrame(history_resnet.history).plot()"
      ],
      "execution_count": null,
      "outputs": [
        {
          "output_type": "execute_result",
          "data": {
            "text/plain": [
              "<matplotlib.axes._subplots.AxesSubplot at 0x7f299dcf97d0>"
            ]
          },
          "metadata": {},
          "execution_count": 19
        },
        {
          "output_type": "display_data",
          "data": {
            "image/png": "[encoded data removed]",
            "text/plain": [
              "<Figure size 432x288 with 1 Axes>"
            ]
          },
          "metadata": {
            "needs_background": "light"
          }
        }
      ]
    },
    {
      "cell_type": "markdown",
      "metadata": {
        "id": "8Zg6W8_LDNCC"
      },
      "source": [
        "# Creating and Testign EfficeintNetB0 tensorflow hub feature extraction model "
      ]
    },
    {
      "cell_type": "code",
      "metadata": {
        "id": "75VgLZbyDVK3"
      },
      "source": [
        "# create EfficientNet \n",
        "efficient_model =create_model(efficientnet_url,train_data.num_classes)"
      ],
      "execution_count": null,
      "outputs": []
    },
    {
      "cell_type": "code",
      "metadata": {
        "colab": {
          "base_uri": "https://localhost:8080/"
        },
        "id": "HeraV65sEH8H",
        "outputId": "96177350-8f02-48cd-ef25-d8de0322800f"
      },
      "source": [
        "efficient_model.summary()"
      ],
      "execution_count": null,
      "outputs": [
        {
          "output_type": "stream",
          "name": "stdout",
          "text": [
            "Model: \"sequential_2\"\n",
            "_________________________________________________________________\n",
            "Layer (type)                 Output Shape              Param #   \n",
            "=================================================================\n",
            "feature_extraction_layer (Ke (None, 1280)              4049564   \n",
            "_________________________________________________________________\n",
            "output_layer (Dense)         (None, 10)                12810     \n",
            "=================================================================\n",
            "Total params: 4,062,374\n",
            "Trainable params: 12,810\n",
            "Non-trainable params: 4,049,564\n",
            "_________________________________________________________________\n"
          ]
        }
      ]
    },
    {
      "cell_type": "code",
      "metadata": {
        "colab": {
          "base_uri": "https://localhost:8080/"
        },
        "id": "UR0HO-vGEMef",
        "outputId": "79b9cf3d-4b7a-43c4-b47b-0b16f03599ed"
      },
      "source": [
        "# Compile the efficient net model\n",
        "efficient_model.compile(loss=\"categorical_crossentropy\",\n",
        "                        optimizer=tf.keras.optimizers.Adam(),\n",
        "                        metrics=['accuracy'])\n",
        "\n",
        "# Fit the efficient net model \n",
        "history_efficient=efficient_model.fit(train_data,\n",
        "                    steps_per_epoch=len(train_data),\n",
        "                    epochs=5,\n",
        "                    validation_data=test_data,\n",
        "                    validation_steps=len(test_data),\n",
        "                    callbacks=[create_tensorboard_callback(dir_name=\"tensorflow_hub\",experiment_name='efficientnet')]) "
      ],
      "execution_count": null,
      "outputs": [
        {
          "output_type": "stream",
          "name": "stdout",
          "text": [
            "Saving Tensorboard logfiles to :tensorflow_hub/efficientnet/20210922-012300\n",
            "Epoch 1/5\n",
            "24/24 [==============================] - 31s 915ms/step - loss: 1.8321 - accuracy: 0.4307 - val_loss: 1.2663 - val_accuracy: 0.7444\n",
            "Epoch 2/5\n",
            "24/24 [==============================] - 18s 771ms/step - loss: 1.0489 - accuracy: 0.7800 - val_loss: 0.8519 - val_accuracy: 0.8288\n",
            "Epoch 3/5\n",
            "24/24 [==============================] - 18s 774ms/step - loss: 0.7500 - accuracy: 0.8427 - val_loss: 0.6886 - val_accuracy: 0.8476\n",
            "Epoch 4/5\n",
            "24/24 [==============================] - 18s 777ms/step - loss: 0.6025 - accuracy: 0.8627 - val_loss: 0.6030 - val_accuracy: 0.8592\n",
            "Epoch 5/5\n",
            "24/24 [==============================] - 18s 775ms/step - loss: 0.5091 - accuracy: 0.8853 - val_loss: 0.5481 - val_accuracy: 0.8684\n"
          ]
        }
      ]
    },
    {
      "cell_type": "code",
      "metadata": {
        "colab": {
          "base_uri": "https://localhost:8080/",
          "height": 282
        },
        "id": "219rkiLoFnh-",
        "outputId": "3d2e208a-61cd-40da-f098-b485678615ae"
      },
      "source": [
        "import pandas as pd\n",
        "pd.DataFrame(history_resnet.history).plot()"
      ],
      "execution_count": null,
      "outputs": [
        {
          "output_type": "execute_result",
          "data": {
            "text/plain": [
              "<matplotlib.axes._subplots.AxesSubplot at 0x7f29988b0350>"
            ]
          },
          "metadata": {},
          "execution_count": 23
        },
        {
          "output_type": "display_data",
          "data": {
            "image/png": "[encoded data removed]",
            "text/plain": [
              "<Figure size 432x288 with 1 Axes>"
            ]
          },
          "metadata": {
            "needs_background": "light"
          }
        }
      ]
    },
    {
      "cell_type": "markdown",
      "metadata": {
        "id": "aUbri9KmI9d1"
      },
      "source": [
        "### Different Types of Transfer learning \n",
        "\n",
        "* **As is transfer** - Learning where we make no change to the existing transfer learning model \n",
        "* **Feature extraction**  - Use the per-learned patterns of an exisiting model.\n",
        "* **Fine tuining transfer learning** - Use the prelearned patterns and fine tune them.\n"
      ]
    },
    {
      "cell_type": "markdown",
      "metadata": {
        "id": "axVHGbOrLF11"
      },
      "source": [
        "# Comparing our model results using TensorBoard\n",
        "\n",
        " When we upload the results the Tensorboard .dev , the experiments are public. "
      ]
    },
    {
      "cell_type": "code",
      "metadata": {
        "colab": {
          "base_uri": "https://localhost:8080/"
        },
        "id": "7blQcN1GI9B5",
        "outputId": "96876d0a-388c-4e5c-9f38-75ed84320b5f"
      },
      "source": [
        "# upload tensorboard dev records\n",
        "!tensorboard dev upload --logdir ./tensorflow_hub/\\\n",
        " --name \"efficeint net vs resnet \"\\\n",
        " --description \"comparing two different tf extraction model\"\\\n",
        " --one_shot  "
      ],
      "execution_count": null,
      "outputs": [
        {
          "output_type": "stream",
          "name": "stdout",
          "text": [
            "2021-09-22 01:48:28.751548: I tensorflow/stream_executor/cuda/cuda_gpu_executor.cc:937] successful NUMA node read from SysFS had negative value (-1), but there must be at least one NUMA node, so returning NUMA node zero\n",
            "2021-09-22 01:48:28.779557: I tensorflow/stream_executor/cuda/cuda_gpu_executor.cc:937] successful NUMA node read from SysFS had negative value (-1), but there must be at least one NUMA node, so returning NUMA node zero\n",
            "2021-09-22 01:48:28.780085: I tensorflow/stream_executor/cuda/cuda_gpu_executor.cc:937] successful NUMA node read from SysFS had negative value (-1), but there must be at least one NUMA node, so returning NUMA node zero\n",
            "\n",
            "***** TensorBoard Uploader *****\n",
            "\n",
            "This will upload your TensorBoard logs to https://tensorboard.dev/ from\n",
            "the following directory:\n",
            "\n",
            "./tensorflow_hub/\n",
            "\n",
            "This TensorBoard will be visible to everyone. Do not upload sensitive\n",
            "data.\n",
            "\n",
            "Your use of this service is subject to Google's Terms of Service\n",
            "<https://policies.google.com/terms> and Privacy Policy\n",
            "<https://policies.google.com/privacy>, and TensorBoard.dev's Terms of Service\n",
            "<https://tensorboard.dev/policy/terms/>.\n",
            "\n",
            "This notice will not be shown again while you are logged into the uploader.\n",
            "To log out, run `tensorboard dev auth revoke`.\n",
            "\n",
            "Continue? (yes/NO) yes\n",
            "\n",
            "Please visit this URL to authorize this application: https://accounts.google.com/o/oauth2/auth?response_type=code&client_id=373649185512-8v619h5kft38l4456nm2dj4ubeqsrvh6.apps.googleusercontent.com&redirect_uri=urn%3Aietf%3Awg%3Aoauth%3A2.0%3Aoob&scope=openid+https%3A%2F%2Fwww.googleapis.com%2Fauth%2Fuserinfo.email&state=a2mscQ4LEnhf5RNDQeV55ZJiNOzqta&prompt=consent&access_type=offline\n",
            "Enter the authorization code: 4/1AX4XfWiEuKXC7rHZ8x_4A1EilGdNj4do1TkFgzsWS5ZQYQUvSrHCOnH7GMM\n",
            "\n",
            "\n",
            "New experiment created. View your TensorBoard at: https://tensorboard.dev/experiment/78vi86vwRliy59J89I7LBw/\n",
            "\n",
            "\u001b[1m[2021-09-22T01:49:10]\u001b[0m Started scanning logdir.\n",
            "\u001b[1m[2021-09-22T01:49:18]\u001b[0m Total uploaded: 90 scalars, 0 tensors, 3 binary objects (9.7 MB)\n",
            "\u001b[1m[2021-09-22T01:49:18]\u001b[0m Done scanning logdir.\n",
            "\n",
            "\n",
            "Done. View your TensorBoard at https://tensorboard.dev/experiment/78vi86vwRliy59J89I7LBw/\n"
          ]
        }
      ]
    }
  ]
}