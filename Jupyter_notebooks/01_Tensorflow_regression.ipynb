{
  "nbformat": 4,
  "nbformat_minor": 0,
  "metadata": {
    "colab": {
      "name": "01_Tensorflow_regression.ipynb",
      "provenance": []
    },
    "kernelspec": {
      "name": "python3",
      "display_name": "Python 3"
    },
    "language_info": {
      "name": "python"
    }
  },
  "cells": [
    {
      "cell_type": "markdown",
      "metadata": {
        "id": "ux4RtSu69Smj"
      },
      "source": [
        "# The overall architecture of the neural network includes the following:\n",
        "* Input layer : The size based on the number of features \n",
        "* Hidden layer : Problem specific\n",
        "* Hidden layer number of neurons :Problem specific \n",
        "* Output layer : same as prediction shape \n",
        "* Output layer activation : None, ReLU,logistic/tanh\n",
        "* Hidden layer activation : Ususally ReLU\n",
        "* Loss function : MSE,MAE\n",
        "* Optimizer : SGD ,ADAM "
      ]
    },
    {
      "cell_type": "code",
      "metadata": {
        "colab": {
          "base_uri": "https://localhost:8080/"
        },
        "id": "3eKzJUoi7LAn",
        "outputId": "e29d7c8f-203c-4886-8ef2-c9c6795a6338"
      },
      "source": [
        "# intro to regression on tensorflow neural network \n",
        "import tensorflow as tf\n",
        "\n",
        "print(tf.__version__)"
      ],
      "execution_count": null,
      "outputs": [
        {
          "output_type": "stream",
          "name": "stdout",
          "text": [
            "2.6.0\n"
          ]
        }
      ]
    },
    {
      "cell_type": "markdown",
      "metadata": {
        "id": "JqxETGvP_np4"
      },
      "source": [
        "# Create data to view and fit "
      ]
    },
    {
      "cell_type": "code",
      "metadata": {
        "colab": {
          "base_uri": "https://localhost:8080/",
          "height": 268
        },
        "id": "d-Hh14Pw_U4Z",
        "outputId": "e6228a10-d4c2-4e36-c5fe-bd816d7dcc93"
      },
      "source": [
        "# create the features \n",
        "import numpy as np \n",
        "import matplotlib.pyplot as plt \n",
        "\n",
        "# create features \n",
        "X=np.array ([-7.0,-4,-1,2,5,8,11,14])\n",
        "\n",
        "# create labels \n",
        "y=np.array([3.0,6.0,9,12,15,18,21,24 ])\n",
        "\n",
        "# visualize it \n",
        "plt.scatter(X,y);"
      ],
      "execution_count": null,
      "outputs": [
        {
          "output_type": "display_data",
          "data": {
            "image/png": "[encoded data removed]",
            "text/plain": [
              "<Figure size 432x288 with 1 Axes>"
            ]
          },
          "metadata": {
            "needs_background": "light"
          }
        }
      ]
    },
    {
      "cell_type": "code",
      "metadata": {
        "id": "-BqQKrC8AapI"
      },
      "source": [
        "# the relationship is y=X+10\n",
        "\n"
      ],
      "execution_count": null,
      "outputs": []
    },
    {
      "cell_type": "markdown",
      "metadata": {
        "id": "cUsAsGDCAkZd"
      },
      "source": [
        "# Input and the output shapes \n",
        "\n",
        "* "
      ]
    },
    {
      "cell_type": "code",
      "metadata": {
        "colab": {
          "base_uri": "https://localhost:8080/"
        },
        "id": "AIAal0oAAkMK",
        "outputId": "93c5ec9c-126e-4ce4-b7c3-44017113f073"
      },
      "source": [
        "# create a demo tensor for our housing price proble, \n",
        "house_info=tf.constant(['bedroom','bathroom','garage'])\n",
        "house_price=tf.constant([939700])\n",
        "house_info,house_price\n",
        "# Based on the housing example we saw, the input had 3 features and the output is a single value (price)"
      ],
      "execution_count": null,
      "outputs": [
        {
          "output_type": "execute_result",
          "data": {
            "text/plain": [
              "(<tf.Tensor: shape=(3,), dtype=string, numpy=array([b'bedroom', b'bathroom', b'garage'], dtype=object)>,\n",
              " <tf.Tensor: shape=(1,), dtype=int32, numpy=array([939700], dtype=int32)>)"
            ]
          },
          "metadata": {},
          "execution_count": 4
        }
      ]
    },
    {
      "cell_type": "code",
      "metadata": {
        "colab": {
          "base_uri": "https://localhost:8080/"
        },
        "id": "6ITtvR66CE82",
        "outputId": "fbcbb8a6-c3f8-4f97-c0d9-92fb19f606ad"
      },
      "source": [
        "# this part here doesnt make sense \n",
        "input_shape=X[0].shape\n",
        "output_shape=y[0].shape \n",
        "input_shape,output_shape"
      ],
      "execution_count": null,
      "outputs": [
        {
          "output_type": "execute_result",
          "data": {
            "text/plain": [
              "((), ())"
            ]
          },
          "metadata": {},
          "execution_count": 5
        }
      ]
    },
    {
      "cell_type": "code",
      "metadata": {
        "colab": {
          "base_uri": "https://localhost:8080/"
        },
        "id": "0fVIBileCpL-",
        "outputId": "d093548b-0dbd-43da-be26-5908db68bdad"
      },
      "source": [
        "# Lets turn our input array into tensors \n",
        "X=tf.constant(X)\n",
        "y=tf.constant(y)\n",
        "X,y"
      ],
      "execution_count": null,
      "outputs": [
        {
          "output_type": "execute_result",
          "data": {
            "text/plain": [
              "(<tf.Tensor: shape=(8,), dtype=float64, numpy=array([-7., -4., -1.,  2.,  5.,  8., 11., 14.])>,\n",
              " <tf.Tensor: shape=(8,), dtype=float64, numpy=array([ 3.,  6.,  9., 12., 15., 18., 21., 24.])>)"
            ]
          },
          "metadata": {},
          "execution_count": 6
        }
      ]
    },
    {
      "cell_type": "code",
      "metadata": {
        "colab": {
          "base_uri": "https://localhost:8080/"
        },
        "id": "iF74qT2TC21Q",
        "outputId": "2ac65acd-c7f8-4f1b-9944-a00af253b2f1"
      },
      "source": [
        "# Now lets check the shape again \n",
        "# Since the input is a scalar and the output is also a scalar , how can we predict the model\n",
        "input_shape=X[0].shape\n",
        "output_shape=y[0].shape\n",
        "input_shape,output_shape"
      ],
      "execution_count": null,
      "outputs": [
        {
          "output_type": "execute_result",
          "data": {
            "text/plain": [
              "(TensorShape([]), TensorShape([]))"
            ]
          },
          "metadata": {},
          "execution_count": 7
        }
      ]
    },
    {
      "cell_type": "markdown",
      "metadata": {
        "id": "CE1Y7RAQDKfx"
      },
      "source": [
        "# Steps in modelling with tensorflow \n",
        "\n",
        "\n",
        "*   **Creating a model** - define the input and output layers , as well as the hidden leayer for the deep learning.\n",
        "*   **Compiling the model**- define the loss function ,the optimizer and evaluation metrics \n",
        "* **Fitting the model** - Actual training of how the model learans from the input.\n",
        "\n"
      ]
    },
    {
      "cell_type": "code",
      "metadata": {
        "colab": {
          "base_uri": "https://localhost:8080/"
        },
        "id": "GpzZbNsqEI35",
        "outputId": "d201a5c5-0bf1-4fdb-80ff-e008738fbb36"
      },
      "source": [
        "# Set the random seed \n",
        "tf.random.set_seed(42)\n",
        "\n",
        "# 1.create a model using the sequential keras API\n",
        "model= tf.keras.Sequential([tf.keras.layers.Dense(1)])\n",
        "\n",
        "\n",
        "# another method of creating a model \n",
        "model=tf.keras.Sequential()\n",
        "model.add(tf.keras.layers.Dense(1))\n",
        "\n",
        "\n",
        "\n",
        "# 2. compile the model\n",
        "model.compile(loss=tf.keras.losses.mae,\n",
        "              optimizer=tf.keras.optimizers.SGD(),\n",
        "              metrics=['mae'])\n",
        "\n",
        "#3. Fit the model \n",
        "model.fit(X,y,epochs=5)"
      ],
      "execution_count": null,
      "outputs": [
        {
          "output_type": "stream",
          "name": "stdout",
          "text": [
            "Epoch 1/5\n",
            "1/1 [==============================] - 1s 917ms/step - loss: 11.5048 - mae: 11.5048\n",
            "Epoch 2/5\n",
            "1/1 [==============================] - 0s 7ms/step - loss: 11.3723 - mae: 11.3723\n",
            "Epoch 3/5\n",
            "1/1 [==============================] - 0s 5ms/step - loss: 11.2398 - mae: 11.2398\n",
            "Epoch 4/5\n",
            "1/1 [==============================] - 0s 10ms/step - loss: 11.1073 - mae: 11.1073\n",
            "Epoch 5/5\n",
            "1/1 [==============================] - 0s 6ms/step - loss: 10.9748 - mae: 10.9748\n"
          ]
        },
        {
          "output_type": "execute_result",
          "data": {
            "text/plain": [
              "<keras.callbacks.History at 0x7f9d48b41e90>"
            ]
          },
          "metadata": {},
          "execution_count": 8
        }
      ]
    },
    {
      "cell_type": "code",
      "metadata": {
        "colab": {
          "base_uri": "https://localhost:8080/"
        },
        "id": "zsW-J8E6G1xf",
        "outputId": "9ea0f137-da29-46ad-8a45-0b85d59f9500"
      },
      "source": [
        "# Check out the X and y\n",
        "X,y"
      ],
      "execution_count": null,
      "outputs": [
        {
          "output_type": "execute_result",
          "data": {
            "text/plain": [
              "(<tf.Tensor: shape=(8,), dtype=float64, numpy=array([-7., -4., -1.,  2.,  5.,  8., 11., 14.])>,\n",
              " <tf.Tensor: shape=(8,), dtype=float64, numpy=array([ 3.,  6.,  9., 12., 15., 18., 21., 24.])>)"
            ]
          },
          "metadata": {},
          "execution_count": 9
        }
      ]
    },
    {
      "cell_type": "code",
      "metadata": {
        "id": "1U9HvDEmHOjU"
      },
      "source": [
        "#try and make the prediction between the input and the output\n",
        "y_pred=model.predict([17.0])"
      ],
      "execution_count": null,
      "outputs": []
    },
    {
      "cell_type": "markdown",
      "metadata": {
        "id": "in6NxCvFHidl"
      },
      "source": [
        "# how to improve the prediction of the model \n",
        "\n",
        "* We can improve the model by altering the way how the model is created i.e. change the input layers and the activation fucntion.\n",
        "* We can improve the model by altering the way how we compile the model i.e. try out the different loss fucntion and the optimizer and mybe add a learning rate for the optimization function.\n",
        "* we can improve the model by increasing the number of epochs"
      ]
    },
    {
      "cell_type": "code",
      "metadata": {
        "colab": {
          "base_uri": "https://localhost:8080/"
        },
        "id": "fZ6rf_arPoAL",
        "outputId": "352e600f-15ff-4c94-c421-6890cd407234"
      },
      "source": [
        "X ,y"
      ],
      "execution_count": null,
      "outputs": [
        {
          "output_type": "execute_result",
          "data": {
            "text/plain": [
              "(<tf.Tensor: shape=(8,), dtype=float64, numpy=array([-7., -4., -1.,  2.,  5.,  8., 11., 14.])>,\n",
              " <tf.Tensor: shape=(8,), dtype=float64, numpy=array([ 3.,  6.,  9., 12., 15., 18., 21., 24.])>)"
            ]
          },
          "metadata": {},
          "execution_count": 11
        }
      ]
    },
    {
      "cell_type": "code",
      "metadata": {
        "colab": {
          "base_uri": "https://localhost:8080/"
        },
        "id": "1QUcMtHRHr0c",
        "outputId": "b490cc70-15de-49da-ebb9-c1c5f0e1d0a0"
      },
      "source": [
        "# Lets code the larger model \n",
        "\n",
        "#model=tf.keras.Sequential()\n",
        "#model.add(tf.keras.layers.Dense(2))#,activation=\"relu\"))\n",
        "#model.add(tf.keras.layers.Dense(100,activation='relu'))\n",
        "#model.add(tf.keras.layers.Dense(100,activation='relu'))\n",
        "#model.add(tf.keras.layers.Dense(1))\n",
        "\n",
        "model=tf.keras.Sequential([tf.keras.layers.Dense(20),\n",
        "                           tf.keras.layers.Dense(1)\n",
        "                           ])\n",
        "\n",
        "# Compiling the model \n",
        "model.compile(loss=tf.keras.losses.mae,\n",
        "              optimizer=tf.keras.optimizers.Adam(learning_rate=0.01),metrics=[\"mae\"])\n",
        "\n",
        "# fit the model\n",
        "model.fit(X,y,epochs=100)\n"
      ],
      "execution_count": null,
      "outputs": [
        {
          "output_type": "stream",
          "name": "stdout",
          "text": [
            "Epoch 1/100\n",
            "1/1 [==============================] - 1s 725ms/step - loss: 17.5545 - mae: 17.5545\n",
            "Epoch 2/100\n",
            "1/1 [==============================] - 0s 8ms/step - loss: 16.9464 - mae: 16.9464\n",
            "Epoch 3/100\n",
            "1/1 [==============================] - 0s 7ms/step - loss: 16.3458 - mae: 16.3458\n",
            "Epoch 4/100\n",
            "1/1 [==============================] - 0s 26ms/step - loss: 15.7522 - mae: 15.7522\n",
            "Epoch 5/100\n",
            "1/1 [==============================] - 0s 6ms/step - loss: 15.1641 - mae: 15.1641\n",
            "Epoch 6/100\n",
            "1/1 [==============================] - 0s 16ms/step - loss: 14.5801 - mae: 14.5801\n",
            "Epoch 7/100\n",
            "1/1 [==============================] - 0s 6ms/step - loss: 14.1432 - mae: 14.1432\n",
            "Epoch 8/100\n",
            "1/1 [==============================] - 0s 33ms/step - loss: 13.7333 - mae: 13.7333\n",
            "Epoch 9/100\n",
            "1/1 [==============================] - 0s 10ms/step - loss: 13.3287 - mae: 13.3287\n",
            "Epoch 10/100\n",
            "1/1 [==============================] - 0s 14ms/step - loss: 12.9269 - mae: 12.9269\n",
            "Epoch 11/100\n",
            "1/1 [==============================] - 0s 14ms/step - loss: 12.5262 - mae: 12.5262\n",
            "Epoch 12/100\n",
            "1/1 [==============================] - 0s 22ms/step - loss: 12.1252 - mae: 12.1252\n",
            "Epoch 13/100\n",
            "1/1 [==============================] - 0s 15ms/step - loss: 11.7227 - mae: 11.7227\n",
            "Epoch 14/100\n",
            "1/1 [==============================] - 0s 12ms/step - loss: 11.3176 - mae: 11.3176\n",
            "Epoch 15/100\n",
            "1/1 [==============================] - 0s 10ms/step - loss: 10.9088 - mae: 10.9088\n",
            "Epoch 16/100\n",
            "1/1 [==============================] - 0s 10ms/step - loss: 10.4954 - mae: 10.4954\n",
            "Epoch 17/100\n",
            "1/1 [==============================] - 0s 10ms/step - loss: 10.0765 - mae: 10.0765\n",
            "Epoch 18/100\n",
            "1/1 [==============================] - 0s 14ms/step - loss: 9.6510 - mae: 9.6510\n",
            "Epoch 19/100\n",
            "1/1 [==============================] - 0s 15ms/step - loss: 9.2181 - mae: 9.2181\n",
            "Epoch 20/100\n",
            "1/1 [==============================] - 0s 16ms/step - loss: 8.7768 - mae: 8.7768\n",
            "Epoch 21/100\n",
            "1/1 [==============================] - 0s 7ms/step - loss: 8.3264 - mae: 8.3264\n",
            "Epoch 22/100\n",
            "1/1 [==============================] - 0s 11ms/step - loss: 7.8660 - mae: 7.8660\n",
            "Epoch 23/100\n",
            "1/1 [==============================] - 0s 16ms/step - loss: 7.3946 - mae: 7.3946\n",
            "Epoch 24/100\n",
            "1/1 [==============================] - 0s 12ms/step - loss: 6.9115 - mae: 6.9115\n",
            "Epoch 25/100\n",
            "1/1 [==============================] - 0s 12ms/step - loss: 6.4157 - mae: 6.4157\n",
            "Epoch 26/100\n",
            "1/1 [==============================] - 0s 14ms/step - loss: 6.1296 - mae: 6.1296\n",
            "Epoch 27/100\n",
            "1/1 [==============================] - 0s 9ms/step - loss: 6.1191 - mae: 6.1191\n",
            "Epoch 28/100\n",
            "1/1 [==============================] - 0s 20ms/step - loss: 6.3145 - mae: 6.3145\n",
            "Epoch 29/100\n",
            "1/1 [==============================] - 0s 6ms/step - loss: 6.4572 - mae: 6.4572\n",
            "Epoch 30/100\n",
            "1/1 [==============================] - 0s 5ms/step - loss: 6.5514 - mae: 6.5514\n",
            "Epoch 31/100\n",
            "1/1 [==============================] - 0s 13ms/step - loss: 6.6633 - mae: 6.6633\n",
            "Epoch 32/100\n",
            "1/1 [==============================] - 0s 7ms/step - loss: 6.6845 - mae: 6.6845\n",
            "Epoch 33/100\n",
            "1/1 [==============================] - 0s 16ms/step - loss: 6.6097 - mae: 6.6097\n",
            "Epoch 34/100\n",
            "1/1 [==============================] - 0s 4ms/step - loss: 6.4552 - mae: 6.4552\n",
            "Epoch 35/100\n",
            "1/1 [==============================] - 0s 14ms/step - loss: 6.2686 - mae: 6.2686\n",
            "Epoch 36/100\n",
            "1/1 [==============================] - 0s 8ms/step - loss: 6.1104 - mae: 6.1104\n",
            "Epoch 37/100\n",
            "1/1 [==============================] - 0s 14ms/step - loss: 5.9409 - mae: 5.9409\n",
            "Epoch 38/100\n",
            "1/1 [==============================] - 0s 8ms/step - loss: 5.7619 - mae: 5.7619\n",
            "Epoch 39/100\n",
            "1/1 [==============================] - 0s 10ms/step - loss: 5.5751 - mae: 5.5751\n",
            "Epoch 40/100\n",
            "1/1 [==============================] - 0s 10ms/step - loss: 5.4494 - mae: 5.4494\n",
            "Epoch 41/100\n",
            "1/1 [==============================] - 0s 7ms/step - loss: 5.4149 - mae: 5.4149\n",
            "Epoch 42/100\n",
            "1/1 [==============================] - 0s 17ms/step - loss: 5.3769 - mae: 5.3769\n",
            "Epoch 43/100\n",
            "1/1 [==============================] - 0s 20ms/step - loss: 5.4071 - mae: 5.4071\n",
            "Epoch 44/100\n",
            "1/1 [==============================] - 0s 8ms/step - loss: 5.4317 - mae: 5.4317\n",
            "Epoch 45/100\n",
            "1/1 [==============================] - 0s 21ms/step - loss: 5.3921 - mae: 5.3921\n",
            "Epoch 46/100\n",
            "1/1 [==============================] - 0s 12ms/step - loss: 5.2952 - mae: 5.2952\n",
            "Epoch 47/100\n",
            "1/1 [==============================] - 0s 8ms/step - loss: 5.1464 - mae: 5.1464\n",
            "Epoch 48/100\n",
            "1/1 [==============================] - 0s 12ms/step - loss: 5.0153 - mae: 5.0153\n",
            "Epoch 49/100\n",
            "1/1 [==============================] - 0s 13ms/step - loss: 4.9363 - mae: 4.9363\n",
            "Epoch 50/100\n",
            "1/1 [==============================] - 0s 12ms/step - loss: 4.8558 - mae: 4.8558\n",
            "Epoch 51/100\n",
            "1/1 [==============================] - 0s 8ms/step - loss: 4.7738 - mae: 4.7738\n",
            "Epoch 52/100\n",
            "1/1 [==============================] - 0s 10ms/step - loss: 4.7509 - mae: 4.7509\n",
            "Epoch 53/100\n",
            "1/1 [==============================] - 0s 11ms/step - loss: 4.7268 - mae: 4.7268\n",
            "Epoch 54/100\n",
            "1/1 [==============================] - 0s 13ms/step - loss: 4.6760 - mae: 4.6760\n",
            "Epoch 55/100\n",
            "1/1 [==============================] - 0s 10ms/step - loss: 4.6006 - mae: 4.6006\n",
            "Epoch 56/100\n",
            "1/1 [==============================] - 0s 12ms/step - loss: 4.5029 - mae: 4.5029\n",
            "Epoch 57/100\n",
            "1/1 [==============================] - 0s 8ms/step - loss: 4.3848 - mae: 4.3848\n",
            "Epoch 58/100\n",
            "1/1 [==============================] - 0s 9ms/step - loss: 4.2609 - mae: 4.2609\n",
            "Epoch 59/100\n",
            "1/1 [==============================] - 0s 14ms/step - loss: 4.1921 - mae: 4.1921\n",
            "Epoch 60/100\n",
            "1/1 [==============================] - 0s 6ms/step - loss: 4.1193 - mae: 4.1193\n",
            "Epoch 61/100\n",
            "1/1 [==============================] - 0s 19ms/step - loss: 4.0424 - mae: 4.0424\n",
            "Epoch 62/100\n",
            "1/1 [==============================] - 0s 7ms/step - loss: 3.9615 - mae: 3.9615\n",
            "Epoch 63/100\n",
            "1/1 [==============================] - 0s 14ms/step - loss: 3.8768 - mae: 3.8768\n",
            "Epoch 64/100\n",
            "1/1 [==============================] - 0s 5ms/step - loss: 3.7881 - mae: 3.7881\n",
            "Epoch 65/100\n",
            "1/1 [==============================] - 0s 7ms/step - loss: 3.6957 - mae: 3.6957\n",
            "Epoch 66/100\n",
            "1/1 [==============================] - 0s 5ms/step - loss: 3.5993 - mae: 3.5993\n",
            "Epoch 67/100\n",
            "1/1 [==============================] - 0s 8ms/step - loss: 3.4992 - mae: 3.4992\n",
            "Epoch 68/100\n",
            "1/1 [==============================] - 0s 5ms/step - loss: 3.3952 - mae: 3.3952\n",
            "Epoch 69/100\n",
            "1/1 [==============================] - 0s 7ms/step - loss: 3.2873 - mae: 3.2873\n",
            "Epoch 70/100\n",
            "1/1 [==============================] - 0s 7ms/step - loss: 3.1755 - mae: 3.1755\n",
            "Epoch 71/100\n",
            "1/1 [==============================] - 0s 13ms/step - loss: 3.0598 - mae: 3.0598\n",
            "Epoch 72/100\n",
            "1/1 [==============================] - 0s 7ms/step - loss: 2.9401 - mae: 2.9401\n",
            "Epoch 73/100\n",
            "1/1 [==============================] - 0s 14ms/step - loss: 2.8164 - mae: 2.8164\n",
            "Epoch 74/100\n",
            "1/1 [==============================] - 0s 7ms/step - loss: 2.7033 - mae: 2.7033\n",
            "Epoch 75/100\n",
            "1/1 [==============================] - 0s 19ms/step - loss: 2.5860 - mae: 2.5860\n",
            "Epoch 76/100\n",
            "1/1 [==============================] - 0s 9ms/step - loss: 2.4445 - mae: 2.4445\n",
            "Epoch 77/100\n",
            "1/1 [==============================] - 0s 12ms/step - loss: 2.3187 - mae: 2.3187\n",
            "Epoch 78/100\n",
            "1/1 [==============================] - 0s 5ms/step - loss: 2.1874 - mae: 2.1874\n",
            "Epoch 79/100\n",
            "1/1 [==============================] - 0s 12ms/step - loss: 2.0508 - mae: 2.0508\n",
            "Epoch 80/100\n",
            "1/1 [==============================] - 0s 12ms/step - loss: 1.9089 - mae: 1.9089\n",
            "Epoch 81/100\n",
            "1/1 [==============================] - 0s 6ms/step - loss: 1.7616 - mae: 1.7616\n",
            "Epoch 82/100\n",
            "1/1 [==============================] - 0s 7ms/step - loss: 1.6138 - mae: 1.6138\n",
            "Epoch 83/100\n",
            "1/1 [==============================] - 0s 8ms/step - loss: 1.4601 - mae: 1.4601\n",
            "Epoch 84/100\n",
            "1/1 [==============================] - 0s 10ms/step - loss: 1.3050 - mae: 1.3050\n",
            "Epoch 85/100\n",
            "1/1 [==============================] - 0s 7ms/step - loss: 1.1439 - mae: 1.1439\n",
            "Epoch 86/100\n",
            "1/1 [==============================] - 0s 18ms/step - loss: 0.9769 - mae: 0.9769\n",
            "Epoch 87/100\n",
            "1/1 [==============================] - 0s 19ms/step - loss: 0.8039 - mae: 0.8039\n",
            "Epoch 88/100\n",
            "1/1 [==============================] - 0s 11ms/step - loss: 0.6348 - mae: 0.6348\n",
            "Epoch 89/100\n",
            "1/1 [==============================] - 0s 14ms/step - loss: 0.4496 - mae: 0.4496\n",
            "Epoch 90/100\n",
            "1/1 [==============================] - 0s 9ms/step - loss: 0.2902 - mae: 0.2902\n",
            "Epoch 91/100\n",
            "1/1 [==============================] - 0s 15ms/step - loss: 0.1208 - mae: 0.1208\n",
            "Epoch 92/100\n",
            "1/1 [==============================] - 0s 5ms/step - loss: 0.1372 - mae: 0.1372\n",
            "Epoch 93/100\n",
            "1/1 [==============================] - 0s 5ms/step - loss: 0.2621 - mae: 0.2621\n",
            "Epoch 94/100\n",
            "1/1 [==============================] - 0s 11ms/step - loss: 0.4007 - mae: 0.4007\n",
            "Epoch 95/100\n",
            "1/1 [==============================] - 0s 8ms/step - loss: 0.4605 - mae: 0.4605\n",
            "Epoch 96/100\n",
            "1/1 [==============================] - 0s 17ms/step - loss: 0.5129 - mae: 0.5129\n",
            "Epoch 97/100\n",
            "1/1 [==============================] - 0s 17ms/step - loss: 0.5188 - mae: 0.5188\n",
            "Epoch 98/100\n",
            "1/1 [==============================] - 0s 6ms/step - loss: 0.5323 - mae: 0.5323\n",
            "Epoch 99/100\n",
            "1/1 [==============================] - 0s 10ms/step - loss: 0.4911 - mae: 0.4911\n",
            "Epoch 100/100\n",
            "1/1 [==============================] - 0s 19ms/step - loss: 0.4496 - mae: 0.4496\n"
          ]
        },
        {
          "output_type": "execute_result",
          "data": {
            "text/plain": [
              "<keras.callbacks.History at 0x7f9d472c6110>"
            ]
          },
          "metadata": {},
          "execution_count": 12
        }
      ]
    },
    {
      "cell_type": "code",
      "metadata": {
        "colab": {
          "base_uri": "https://localhost:8080/"
        },
        "id": "aVnPQeP6PQpL",
        "outputId": "a411f5d2-622a-48a1-80fa-7c20771d46c7"
      },
      "source": [
        "model.predict([20])"
      ],
      "execution_count": null,
      "outputs": [
        {
          "output_type": "execute_result",
          "data": {
            "text/plain": [
              "array([[29.7714]], dtype=float32)"
            ]
          },
          "metadata": {},
          "execution_count": 13
        }
      ]
    },
    {
      "cell_type": "markdown",
      "metadata": {
        "id": "Rz1bL2G2S6UQ"
      },
      "source": [
        "# Evaluating a model\n",
        "\n",
        "When it comes to evaluating the model its always visualize, visualize , visualize. \n",
        "\n",
        "* The input data that is being fed into the model\n",
        "* The model itself -what does the model looklike ?\n",
        "* The training of a model - how does the model perform while its learning?\n",
        "* The predictions of the model - how do the predictions of a model line up against the ground truth ? "
      ]
    },
    {
      "cell_type": "code",
      "metadata": {
        "colab": {
          "base_uri": "https://localhost:8080/"
        },
        "id": "Woq4gHCBS6Dp",
        "outputId": "9f03eef0-51c2-4175-c555-e399d8896d49"
      },
      "source": [
        "# Make a bigger dataset \n",
        "X=tf.range(-100,100,4)\n",
        "y=X+10\n",
        "X,y"
      ],
      "execution_count": null,
      "outputs": [
        {
          "output_type": "execute_result",
          "data": {
            "text/plain": [
              "(<tf.Tensor: shape=(50,), dtype=int32, numpy=\n",
              " array([-100,  -96,  -92,  -88,  -84,  -80,  -76,  -72,  -68,  -64,  -60,\n",
              "         -56,  -52,  -48,  -44,  -40,  -36,  -32,  -28,  -24,  -20,  -16,\n",
              "         -12,   -8,   -4,    0,    4,    8,   12,   16,   20,   24,   28,\n",
              "          32,   36,   40,   44,   48,   52,   56,   60,   64,   68,   72,\n",
              "          76,   80,   84,   88,   92,   96], dtype=int32)>,\n",
              " <tf.Tensor: shape=(50,), dtype=int32, numpy=\n",
              " array([-90, -86, -82, -78, -74, -70, -66, -62, -58, -54, -50, -46, -42,\n",
              "        -38, -34, -30, -26, -22, -18, -14, -10,  -6,  -2,   2,   6,  10,\n",
              "         14,  18,  22,  26,  30,  34,  38,  42,  46,  50,  54,  58,  62,\n",
              "         66,  70,  74,  78,  82,  86,  90,  94,  98, 102, 106], dtype=int32)>)"
            ]
          },
          "metadata": {},
          "execution_count": 14
        }
      ]
    },
    {
      "cell_type": "code",
      "metadata": {
        "colab": {
          "base_uri": "https://localhost:8080/",
          "height": 282
        },
        "id": "gneK-YOzUtLX",
        "outputId": "47902b1d-dadf-47ae-d8bf-bab116e91859"
      },
      "source": [
        "#plt.scatter(X,y)\n",
        "plt.plot(X,y)"
      ],
      "execution_count": null,
      "outputs": [
        {
          "output_type": "execute_result",
          "data": {
            "text/plain": [
              "[<matplotlib.lines.Line2D at 0x7f9d483dae90>]"
            ]
          },
          "metadata": {},
          "execution_count": 15
        },
        {
          "output_type": "display_data",
          "data": {
            "image/png": "[encoded data removed]",
            "text/plain": [
              "<Figure size 432x288 with 1 Axes>"
            ]
          },
          "metadata": {
            "needs_background": "light"
          }
        }
      ]
    },
    {
      "cell_type": "markdown",
      "metadata": {
        "id": "G73D3wsjU5D6"
      },
      "source": [
        "### The three sets ..\n",
        "* Training set \n",
        "* Testing set\n",
        "* Validation set\n"
      ]
    },
    {
      "cell_type": "code",
      "metadata": {
        "colab": {
          "base_uri": "https://localhost:8080/"
        },
        "id": "yT5lAYKRYZgl",
        "outputId": "9e62dcb9-3982-4b36-99d2-52af73cef28b"
      },
      "source": [
        "# Check the length of how many samples we have\n",
        "X.shape"
      ],
      "execution_count": null,
      "outputs": [
        {
          "output_type": "execute_result",
          "data": {
            "text/plain": [
              "TensorShape([50])"
            ]
          },
          "metadata": {},
          "execution_count": 16
        }
      ]
    },
    {
      "cell_type": "code",
      "metadata": {
        "id": "cCFasNSrYn4O"
      },
      "source": [
        "# split the data into train and test \n",
        "X_train=X[:40]\n",
        "X_test=X[40:]\n",
        "y_train=y[:40]\n",
        "y_test=y[40:]"
      ],
      "execution_count": null,
      "outputs": []
    },
    {
      "cell_type": "code",
      "metadata": {
        "colab": {
          "base_uri": "https://localhost:8080/",
          "height": 445
        },
        "id": "HkGI7C_YY4CF",
        "outputId": "b9822eb2-d497-47ab-bcd9-a3c5e1459b33"
      },
      "source": [
        "# Visualizing the data \n",
        "plt.figure(figsize=(10,7))\n",
        "#plot the training in blue \n",
        "plt.scatter(X_train,y_train,c='b',label='training data')\n",
        "#plot the testing in red\n",
        "plt.scatter(X_test,y_test,c='r',label='testing data ')\n",
        "\n",
        "plt.legend()"
      ],
      "execution_count": null,
      "outputs": [
        {
          "output_type": "execute_result",
          "data": {
            "text/plain": [
              "<matplotlib.legend.Legend at 0x7f9d483d5550>"
            ]
          },
          "metadata": {},
          "execution_count": 18
        },
        {
          "output_type": "display_data",
          "data": {
            "image/png": "[encoded data removed]",
            "text/plain": [
              "<Figure size 720x504 with 1 Axes>"
            ]
          },
          "metadata": {
            "needs_background": "light"
          }
        }
      ]
    },
    {
      "cell_type": "code",
      "metadata": {
        "colab": {
          "base_uri": "https://localhost:8080/"
        },
        "id": "CRP12jqZZjc6",
        "outputId": "04e39315-87b2-4948-c937-06413fdd2e30"
      },
      "source": [
        "# lets build the neural network for our model \n",
        "\n",
        "model=tf.keras.Sequential([\n",
        "                           tf.keras.layers.Dense(10,activation='relu',name='hidden_layer_1'),\n",
        "                           tf.keras.layers.Dense(1,name='output_layer')],name='model_try')\n",
        "\n",
        "model.compile(optimizer=tf.keras.optimizers.Adam(learning_rate=0.01),\n",
        "              loss=tf.keras.losses.mae,metrics=['mae'])\n",
        "\n",
        "model.fit(X_train,y_train,epochs=100,verbose=0)"
      ],
      "execution_count": null,
      "outputs": [
        {
          "output_type": "execute_result",
          "data": {
            "text/plain": [
              "<keras.callbacks.History at 0x7f9d4833dc50>"
            ]
          },
          "metadata": {},
          "execution_count": 19
        }
      ]
    },
    {
      "cell_type": "markdown",
      "metadata": {
        "id": "Tq-uHEttc9lG"
      },
      "source": [
        "# Visualizing the model before running it \n",
        "\n",
        "* "
      ]
    },
    {
      "cell_type": "code",
      "metadata": {
        "colab": {
          "base_uri": "https://localhost:8080/"
        },
        "id": "CSf0eZrxdHXl",
        "outputId": "ae267c6c-a8ec-4bdb-9b40-55732f7bb933"
      },
      "source": [
        "model.summary()"
      ],
      "execution_count": null,
      "outputs": [
        {
          "output_type": "stream",
          "name": "stdout",
          "text": [
            "Model: \"model_try\"\n",
            "_________________________________________________________________\n",
            "Layer (type)                 Output Shape              Param #   \n",
            "=================================================================\n",
            "hidden_layer_1 (Dense)       (None, 10)                20        \n",
            "_________________________________________________________________\n",
            "output_layer (Dense)         (None, 1)                 11        \n",
            "=================================================================\n",
            "Total params: 31\n",
            "Trainable params: 31\n",
            "Non-trainable params: 0\n",
            "_________________________________________________________________\n"
          ]
        }
      ]
    },
    {
      "cell_type": "markdown",
      "metadata": {
        "id": "yX4OBBo5eIKW"
      },
      "source": [
        "* Total params -total number of parameters in the model. \n",
        "* Trainable params- The total number of trainable parameters in the model.\n",
        "* Non-traininable params- These things matter when we jump to the topic of transfer learning. \n"
      ]
    },
    {
      "cell_type": "code",
      "metadata": {
        "colab": {
          "base_uri": "https://localhost:8080/",
          "height": 312
        },
        "id": "gUeOUqclfjAy",
        "outputId": "83893bf7-8a09-4f6b-f861-58b39e80255f"
      },
      "source": [
        "from tensorflow.keras.utils import plot_model\n",
        "\n",
        "plot_model(model=model,show_shapes=True)"
      ],
      "execution_count": null,
      "outputs": [
        {
          "output_type": "execute_result",
          "data": {
            "image/png": "[encoded data removed]",
            "text/plain": [
              "<IPython.core.display.Image object>"
            ]
          },
          "metadata": {},
          "execution_count": 21
        }
      ]
    },
    {
      "cell_type": "code",
      "metadata": {
        "colab": {
          "base_uri": "https://localhost:8080/"
        },
        "id": "931501fZc0l1",
        "outputId": "b31e9bde-e2fa-40db-9e66-9c4291c881b3"
      },
      "source": [
        "model.predict(X_test)"
      ],
      "execution_count": null,
      "outputs": [
        {
          "output_type": "execute_result",
          "data": {
            "text/plain": [
              "array([[ 73.03198 ],\n",
              "       [ 77.59928 ],\n",
              "       [ 82.16658 ],\n",
              "       [ 86.73388 ],\n",
              "       [ 91.30118 ],\n",
              "       [ 95.868484],\n",
              "       [100.43578 ],\n",
              "       [105.00308 ],\n",
              "       [109.57038 ],\n",
              "       [114.13768 ]], dtype=float32)"
            ]
          },
          "metadata": {},
          "execution_count": 22
        }
      ]
    },
    {
      "cell_type": "code",
      "metadata": {
        "colab": {
          "base_uri": "https://localhost:8080/"
        },
        "id": "Dckb-xUJcdHu",
        "outputId": "97f0ed98-ef80-47be-e836-a46009b5fba7"
      },
      "source": [
        "model.evaluate(X_test,y_test)"
      ],
      "execution_count": null,
      "outputs": [
        {
          "output_type": "stream",
          "name": "stdout",
          "text": [
            "1/1 [==============================] - 0s 262ms/step - loss: 5.5848 - mae: 5.5848\n"
          ]
        },
        {
          "output_type": "execute_result",
          "data": {
            "text/plain": [
              "[5.584832191467285, 5.584832191467285]"
            ]
          },
          "metadata": {},
          "execution_count": 23
        }
      ]
    },
    {
      "cell_type": "markdown",
      "metadata": {
        "id": "rCvwJA-tViCP"
      },
      "source": [
        "# Visualizing model prediction \n",
        "\n",
        "To visualise the model prediction , plot the prediction against the ground truth model. "
      ]
    },
    {
      "cell_type": "code",
      "metadata": {
        "colab": {
          "base_uri": "https://localhost:8080/"
        },
        "id": "lIS20tUkcr8y",
        "outputId": "635918e9-f1a0-41a0-e0d2-fb76c9657c54"
      },
      "source": [
        "# make some predictions\n",
        "\n",
        "y_pred=model.predict(X_test)\n",
        "y_pred"
      ],
      "execution_count": null,
      "outputs": [
        {
          "output_type": "execute_result",
          "data": {
            "text/plain": [
              "array([[ 73.03198 ],\n",
              "       [ 77.59928 ],\n",
              "       [ 82.16658 ],\n",
              "       [ 86.73388 ],\n",
              "       [ 91.30118 ],\n",
              "       [ 95.868484],\n",
              "       [100.43578 ],\n",
              "       [105.00308 ],\n",
              "       [109.57038 ],\n",
              "       [114.13768 ]], dtype=float32)"
            ]
          },
          "metadata": {},
          "execution_count": 24
        }
      ]
    },
    {
      "cell_type": "code",
      "metadata": {
        "colab": {
          "base_uri": "https://localhost:8080/"
        },
        "id": "Yz9qmd7JdhEM",
        "outputId": "45f74287-3867-467d-96e8-2655f35f13f2"
      },
      "source": [
        "y_test"
      ],
      "execution_count": null,
      "outputs": [
        {
          "output_type": "execute_result",
          "data": {
            "text/plain": [
              "<tf.Tensor: shape=(10,), dtype=int32, numpy=array([ 70,  74,  78,  82,  86,  90,  94,  98, 102, 106], dtype=int32)>"
            ]
          },
          "metadata": {},
          "execution_count": 25
        }
      ]
    },
    {
      "cell_type": "markdown",
      "metadata": {
        "id": "a8ZUh3m1dfGE"
      },
      "source": [
        "# Plotting function \n",
        "\n"
      ]
    },
    {
      "cell_type": "code",
      "metadata": {
        "id": "-VfSIKF_eAvu"
      },
      "source": [
        "# Let's create a plotting function \n",
        "\n",
        "def plot_predictions(train_data=X_train,train_labels =y_train,test_data=X_test,test_labels=y_test,predictions=y_pred):\n",
        "  \"\"\"\n",
        "  plots training data ,test data and compares the result .\n",
        "  \"\"\"\n",
        "  plt.figure(figsize=(10,7))\n",
        "  # trianing data in blue \n",
        "  plt.scatter(X_train,y_train,c='b',label='train data ')\n",
        "  # testing data in red\n",
        "  plt.scatter(X_test,y_test, c='r',label='test data')\n",
        "  # prediction in green \n",
        "  plt.scatter(X_test, predictions,c='g',label='prediction')\n",
        "\n",
        "  plt.legend();\n",
        "\n",
        "\n"
      ],
      "execution_count": null,
      "outputs": []
    },
    {
      "cell_type": "code",
      "metadata": {
        "colab": {
          "base_uri": "https://localhost:8080/",
          "height": 427
        },
        "id": "96wcyJ4dfSTO",
        "outputId": "530c4b3b-4fae-40bb-d347-35c13af17b8f"
      },
      "source": [
        "plot_predictions()"
      ],
      "execution_count": null,
      "outputs": [
        {
          "output_type": "display_data",
          "data": {
            "image/png": "[encoded data removed]",
            "text/plain": [
              "<Figure size 720x504 with 1 Axes>"
            ]
          },
          "metadata": {
            "needs_background": "light"
          }
        }
      ]
    },
    {
      "cell_type": "markdown",
      "metadata": {
        "id": "ImOF2RX7gYi0"
      },
      "source": [
        "# Evaluating our model's prediction with regression evaluation metrics \n",
        "\n",
        "Depending on the problem, there are many ways to evaluate the models performance. For regression problem the most common metrics that are used are\n",
        "\n",
        "**MAE** : Mean absolute error \n",
        "(tf.keras.losses.MAE() or tf.metrics.mean_absolute_error)\n",
        "\n",
        "**MSE**: Mean squared error\n",
        "(tf.keras.losses.MSE() or tf.metrics.mean_squared_error)\n",
        "\n",
        "**Huber**: combination of MSE and MAE\n",
        "(tf.keras.losses.Huber()) , less sensitive to outliers than MSE\n"
      ]
    },
    {
      "cell_type": "code",
      "metadata": {
        "colab": {
          "base_uri": "https://localhost:8080/"
        },
        "id": "y9W--N-ngg-F",
        "outputId": "24a5084e-7f51-4b77-8643-fd5e2a9a0564"
      },
      "source": [
        "# Evaluate the model on the test \n",
        "\n",
        "model.evaluate(X_test ,y_test)"
      ],
      "execution_count": null,
      "outputs": [
        {
          "output_type": "stream",
          "name": "stdout",
          "text": [
            "1/1 [==============================] - 0s 40ms/step - loss: 5.5848 - mae: 5.5848\n"
          ]
        },
        {
          "output_type": "execute_result",
          "data": {
            "text/plain": [
              "[5.584832191467285, 5.584832191467285]"
            ]
          },
          "metadata": {},
          "execution_count": 28
        }
      ]
    },
    {
      "cell_type": "code",
      "metadata": {
        "colab": {
          "base_uri": "https://localhost:8080/"
        },
        "id": "BY1Hw6B5iVW2",
        "outputId": "0f36c401-981f-4569-fd32-bb73aeafa75d"
      },
      "source": [
        "# Evaluate the model \n",
        "\n",
        "tf.metrics.mean_squared_error(y_test,tf.constant(y_pred))"
      ],
      "execution_count": null,
      "outputs": [
        {
          "output_type": "execute_result",
          "data": {
            "text/plain": [
              "<tf.Tensor: shape=(10,), dtype=float32, numpy=\n",
              "array([356.04156, 240.17496, 166.0288 , 133.60306, 142.89777, 193.91304,\n",
              "       286.6487 , 421.10483, 597.2813 , 815.1783 ], dtype=float32)>"
            ]
          },
          "metadata": {},
          "execution_count": 29
        }
      ]
    },
    {
      "cell_type": "code",
      "metadata": {
        "colab": {
          "base_uri": "https://localhost:8080/"
        },
        "id": "_-dsbjEKjGvI",
        "outputId": "daafec6c-1437-4138-f43d-3254efc0ec64"
      },
      "source": [
        "y_test"
      ],
      "execution_count": null,
      "outputs": [
        {
          "output_type": "execute_result",
          "data": {
            "text/plain": [
              "<tf.Tensor: shape=(10,), dtype=int32, numpy=array([ 70,  74,  78,  82,  86,  90,  94,  98, 102, 106], dtype=int32)>"
            ]
          },
          "metadata": {},
          "execution_count": 30
        }
      ]
    },
    {
      "cell_type": "code",
      "metadata": {
        "colab": {
          "base_uri": "https://localhost:8080/"
        },
        "id": "0aPomTkajJi6",
        "outputId": "d8bbbd43-f306-497b-e9d8-e54747a1c074"
      },
      "source": [
        "tf.constant(y_pred)"
      ],
      "execution_count": null,
      "outputs": [
        {
          "output_type": "execute_result",
          "data": {
            "text/plain": [
              "<tf.Tensor: shape=(10, 1), dtype=float32, numpy=\n",
              "array([[ 73.03198 ],\n",
              "       [ 77.59928 ],\n",
              "       [ 82.16658 ],\n",
              "       [ 86.73388 ],\n",
              "       [ 91.30118 ],\n",
              "       [ 95.868484],\n",
              "       [100.43578 ],\n",
              "       [105.00308 ],\n",
              "       [109.57038 ],\n",
              "       [114.13768 ]], dtype=float32)>"
            ]
          },
          "metadata": {},
          "execution_count": 31
        }
      ]
    },
    {
      "cell_type": "code",
      "metadata": {
        "id": "pBlmBbTDjPRj"
      },
      "source": [
        "# observe the change in the shape between the pred and true value\n",
        " # to remove the tensor of any extra dimension \n",
        "y_pred=tf.squeeze(tf.constant(y_pred))"
      ],
      "execution_count": null,
      "outputs": []
    },
    {
      "cell_type": "code",
      "metadata": {
        "colab": {
          "base_uri": "https://localhost:8080/"
        },
        "id": "JhkfNixRjzqv",
        "outputId": "67084517-0055-4835-b36d-9055cedceca8"
      },
      "source": [
        "tf.metrics.mean_squared_error(y_true=y_test,y_pred=y_pred)"
      ],
      "execution_count": null,
      "outputs": [
        {
          "output_type": "execute_result",
          "data": {
            "text/plain": [
              "<tf.Tensor: shape=(), dtype=float32, numpy=33.845436>"
            ]
          },
          "metadata": {},
          "execution_count": 33
        }
      ]
    },
    {
      "cell_type": "code",
      "metadata": {
        "id": "MAlVrNYHkhqY"
      },
      "source": [
        "# make the functions for MAE and MSE \n",
        "\n",
        "def mae(y_true,y_pred):\n",
        "  return tf.metrics.mean_absolute_error(y_true,tf.squeeze(y_pred))\n",
        "\n",
        "def mse(y_true,y_pred):\n",
        "  return tf.metrics.mean_squared_error(y_true,tf.squeeze(y_pred))\n",
        "\n"
      ],
      "execution_count": null,
      "outputs": []
    },
    {
      "cell_type": "markdown",
      "metadata": {
        "id": "-q2cCWZxk-B8"
      },
      "source": [
        "## Running experiments to improve our model \n",
        "\n",
        "1. Get more data. \n",
        "2. Make your model bigger. \n",
        "3. Train your model for a longer period of time.\n",
        "\n",
        "Let's do 3 modelling experiments \n",
        "\n",
        "1. 'model-1'-same as the original model , 1 layer 100 epochs,\n",
        "2. 'model-2'- 3 layers , trained for 100 epochs,\n",
        "3. 'model-3' - 3 layers, trained for 500 epochs."
      ]
    },
    {
      "cell_type": "code",
      "metadata": {
        "colab": {
          "base_uri": "https://localhost:8080/"
        },
        "id": "x2UfyyXvpYOC",
        "outputId": "9340695e-5e16-4d53-f457-04a570d860ee"
      },
      "source": [
        "# build model 1\n",
        "\n",
        "tf.random.set_seed(50)\n",
        "# Build model 1\n",
        "model_1=tf.keras.Sequential([tf.keras.layers.Dense(1,name='Hidden_1')],name='model_1')\n",
        "# Compile model 1\n",
        "model_1.compile(optimizer=tf.keras.optimizers.SGD(),loss=tf.keras.losses.mae,metrics=['mae'])\n",
        "# Fit model 1\n",
        "model_1.fit(X_train,y_train,epochs=100,verbose=0)"
      ],
      "execution_count": null,
      "outputs": [
        {
          "output_type": "execute_result",
          "data": {
            "text/plain": [
              "<keras.callbacks.History at 0x7f9d98cbf610>"
            ]
          },
          "metadata": {},
          "execution_count": 35
        }
      ]
    },
    {
      "cell_type": "code",
      "metadata": {
        "colab": {
          "base_uri": "https://localhost:8080/",
          "height": 427
        },
        "id": "6GWaF5FzqkEh",
        "outputId": "2772c095-60f3-411d-c0ca-294e2627f171"
      },
      "source": [
        "# Make and plot predictions for model 1\n",
        "y_pred_1=model_1.predict(X_test)\n",
        "plot_predictions(train_data=X_train,train_labels=y_train,test_data=X_test,test_labels=y_test,predictions=y_pred_1)"
      ],
      "execution_count": null,
      "outputs": [
        {
          "output_type": "display_data",
          "data": {
            "image/png": "[encoded data removed]",
            "text/plain": [
              "<Figure size 720x504 with 1 Axes>"
            ]
          },
          "metadata": {
            "needs_background": "light"
          }
        }
      ]
    },
    {
      "cell_type": "code",
      "metadata": {
        "colab": {
          "base_uri": "https://localhost:8080/"
        },
        "id": "K2vC0VgmscFP",
        "outputId": "18ead432-6693-4ff0-8423-217436bd07e1"
      },
      "source": [
        "# calculate model_1 evaluyation metrics \n",
        "mae_1=mae(y_test,y_pred_1)\n",
        "mse_1=mse(y_test,y_pred_1)\n",
        "mae_1,mse_1"
      ],
      "execution_count": null,
      "outputs": [
        {
          "output_type": "execute_result",
          "data": {
            "text/plain": [
              "(<tf.Tensor: shape=(), dtype=float32, numpy=22.908306>,\n",
              " <tf.Tensor: shape=(), dtype=float32, numpy=529.1989>)"
            ]
          },
          "metadata": {},
          "execution_count": 37
        }
      ]
    },
    {
      "cell_type": "code",
      "metadata": {
        "colab": {
          "base_uri": "https://localhost:8080/"
        },
        "id": "gwyD7BJElOvN",
        "outputId": "e0e0dd47-5d33-4081-81c6-e9dc7f173368"
      },
      "source": [
        "# model 2 \n",
        "model_2=tf.keras.Sequential([tf.keras.layers.Dense(10,name='Hidden_1',activation='relu'),\n",
        "                             tf.keras.layers.Dense(1,name='Hidden_2')],name='model_2')\n",
        "\n",
        "model_2.compile(loss=tf.keras.losses.mae,optimizer=tf.keras.optimizers.SGD(),metrics=['mae'])\n",
        "\n",
        "model_2.fit(X_train,y_train,epochs=200,verbose=0)\n",
        "\n"
      ],
      "execution_count": null,
      "outputs": [
        {
          "output_type": "execute_result",
          "data": {
            "text/plain": [
              "<keras.callbacks.History at 0x7f9d498bb3d0>"
            ]
          },
          "metadata": {},
          "execution_count": 38
        }
      ]
    },
    {
      "cell_type": "code",
      "metadata": {
        "colab": {
          "base_uri": "https://localhost:8080/"
        },
        "id": "MPLj8F0KuryP",
        "outputId": "af73caa3-3817-47dd-e107-162c27775660"
      },
      "source": [
        "# plot the results \n",
        "y_pred_2=model.predict(X_test)\n",
        "\n",
        "\n",
        "mae_2=mae(y_true=y_test,y_pred=y_pred_2)\n",
        "mse_2=mse(y_test,y_pred_2)\n",
        "\n",
        "mae_2,mse_2"
      ],
      "execution_count": null,
      "outputs": [
        {
          "output_type": "execute_result",
          "data": {
            "text/plain": [
              "(<tf.Tensor: shape=(), dtype=float32, numpy=5.584831>,\n",
              " <tf.Tensor: shape=(), dtype=float32, numpy=33.845436>)"
            ]
          },
          "metadata": {},
          "execution_count": 39
        }
      ]
    },
    {
      "cell_type": "code",
      "metadata": {
        "colab": {
          "base_uri": "https://localhost:8080/",
          "height": 427
        },
        "id": "lB5JCsgMv4vW",
        "outputId": "9fd34f01-6a91-4998-ae65-0acc1aca5d71"
      },
      "source": [
        "plot_predictions(predictions=y_pred_2)"
      ],
      "execution_count": null,
      "outputs": [
        {
          "output_type": "display_data",
          "data": {
            "image/png": "[encoded data removed]",
            "text/plain": [
              "<Figure size 720x504 with 1 Axes>"
            ]
          },
          "metadata": {
            "needs_background": "light"
          }
        }
      ]
    },
    {
      "cell_type": "code",
      "metadata": {
        "colab": {
          "base_uri": "https://localhost:8080/"
        },
        "id": "-aC3Uetnv_wh",
        "outputId": "91f98c7a-4eb3-4dc0-a138-395028a97247"
      },
      "source": [
        "# model 3\n",
        "\n",
        "model_3=tf.keras.Sequential([tf.keras.layers.Dense(100,activation ='relu',name='layer_1'),\n",
        "                             tf.keras.layers.Dense(1,name='output')],name='model_3')\n",
        "\n",
        "model_3.compile(loss=tf.keras.losses.mae,optimizer=tf.keras.optimizers.SGD(),metrics=['mae'])\n",
        "\n",
        "model_3.fit(X_train,y_train,epochs=500,verbose=0)\n"
      ],
      "execution_count": null,
      "outputs": [
        {
          "output_type": "execute_result",
          "data": {
            "text/plain": [
              "<keras.callbacks.History at 0x7f9d98c87a90>"
            ]
          },
          "metadata": {},
          "execution_count": 41
        }
      ]
    },
    {
      "cell_type": "code",
      "metadata": {
        "colab": {
          "base_uri": "https://localhost:8080/",
          "height": 465
        },
        "id": "Cq9lhzBtw-Z1",
        "outputId": "5cbf3250-a7f6-41f3-cf7f-f2080c592234"
      },
      "source": [
        "# plot the result \n",
        "y_pred_3=model_3.predict(X_test)\n",
        "plot_predictions(y_pred_3)"
      ],
      "execution_count": null,
      "outputs": [
        {
          "output_type": "stream",
          "name": "stdout",
          "text": [
            "WARNING:tensorflow:5 out of the last 7 calls to <function Model.make_predict_function.<locals>.predict_function at 0x7f9d48c0fc20> triggered tf.function retracing. Tracing is expensive and the excessive number of tracings could be due to (1) creating @tf.function repeatedly in a loop, (2) passing tensors with different shapes, (3) passing Python objects instead of tensors. For (1), please define your @tf.function outside of the loop. For (2), @tf.function has experimental_relax_shapes=True option that relaxes argument shapes that can avoid unnecessary retracing. For (3), please refer to https://www.tensorflow.org/guide/function#controlling_retracing and https://www.tensorflow.org/api_docs/python/tf/function for  more details.\n"
          ]
        },
        {
          "output_type": "display_data",
          "data": {
            "image/png": "[encoded data removed]",
            "text/plain": [
              "<Figure size 720x504 with 1 Axes>"
            ]
          },
          "metadata": {
            "needs_background": "light"
          }
        }
      ]
    },
    {
      "cell_type": "code",
      "metadata": {
        "colab": {
          "base_uri": "https://localhost:8080/"
        },
        "id": "MraR5-J-xWCW",
        "outputId": "f228f67a-0727-40b0-d8d1-5a8a4bfb5100"
      },
      "source": [
        "mae_3=mae(y_test,y_pred_3)\n",
        "mse_3=mse(y_test,y_pred_3)\n",
        "mse_3,mae_3"
      ],
      "execution_count": null,
      "outputs": [
        {
          "output_type": "execute_result",
          "data": {
            "text/plain": [
              "(<tf.Tensor: shape=(), dtype=float32, numpy=23.799973>,\n",
              " <tf.Tensor: shape=(), dtype=float32, numpy=4.6014395>)"
            ]
          },
          "metadata": {},
          "execution_count": 43
        }
      ]
    },
    {
      "cell_type": "markdown",
      "metadata": {
        "id": "Dz2uZSEExn4y"
      },
      "source": [
        "## Comparing the results of our experiments \n",
        "\n"
      ]
    },
    {
      "cell_type": "code",
      "metadata": {
        "colab": {
          "base_uri": "https://localhost:8080/",
          "height": 141
        },
        "id": "hZNq_Zz7xhOu",
        "outputId": "f40eca0d-cf4b-48fd-be13-c98864cf9494"
      },
      "source": [
        "import pandas as pd\n",
        "\n",
        "model_results=[[\"model_1\",mae_1.numpy(),mse_1.numpy()],\n",
        "              [\"model_2,\",mae_2.numpy(),mse_2.numpy()],\n",
        "              [\"model_3\",mae_3.numpy(),mse_3.numpy()]\n",
        "              ]\n",
        "\n",
        "all_results=pd.DataFrame(model_results )\n",
        "all_results"
      ],
      "execution_count": null,
      "outputs": [
        {
          "output_type": "execute_result",
          "data": {
            "text/html": [
              "<div>\n",
              "<style scoped>\n",
              "    .dataframe tbody tr th:only-of-type {\n",
              "        vertical-align: middle;\n",
              "    }\n",
              "\n",
              "    .dataframe tbody tr th {\n",
              "        vertical-align: top;\n",
              "    }\n",
              "\n",
              "    .dataframe thead th {\n",
              "        text-align: right;\n",
              "    }\n",
              "</style>\n",
              "<table border=\"1\" class=\"dataframe\">\n",
              "  <thead>\n",
              "    <tr style=\"text-align: right;\">\n",
              "      <th></th>\n",
              "      <th>0</th>\n",
              "      <th>1</th>\n",
              "      <th>2</th>\n",
              "    </tr>\n",
              "  </thead>\n",
              "  <tbody>\n",
              "    <tr>\n",
              "      <th>0</th>\n",
              "      <td>model_1</td>\n",
              "      <td>22.908306</td>\n",
              "      <td>529.198914</td>\n",
              "    </tr>\n",
              "    <tr>\n",
              "      <th>1</th>\n",
              "      <td>model_2,</td>\n",
              "      <td>5.584831</td>\n",
              "      <td>33.845436</td>\n",
              "    </tr>\n",
              "    <tr>\n",
              "      <th>2</th>\n",
              "      <td>model_3</td>\n",
              "      <td>4.601439</td>\n",
              "      <td>23.799973</td>\n",
              "    </tr>\n",
              "  </tbody>\n",
              "</table>\n",
              "</div>"
            ],
            "text/plain": [
              "          0          1           2\n",
              "0   model_1  22.908306  529.198914\n",
              "1  model_2,   5.584831   33.845436\n",
              "2   model_3   4.601439   23.799973"
            ]
          },
          "metadata": {},
          "execution_count": 44
        }
      ]
    },
    {
      "cell_type": "code",
      "metadata": {
        "colab": {
          "base_uri": "https://localhost:8080/"
        },
        "id": "vlw8cgsoyoqh",
        "outputId": "0b452d75-da93-4a6d-e541-2e088a8cecac"
      },
      "source": [
        "model_2.summary()"
      ],
      "execution_count": null,
      "outputs": [
        {
          "output_type": "stream",
          "name": "stdout",
          "text": [
            "Model: \"model_2\"\n",
            "_________________________________________________________________\n",
            "Layer (type)                 Output Shape              Param #   \n",
            "=================================================================\n",
            "Hidden_1 (Dense)             (None, 10)                20        \n",
            "_________________________________________________________________\n",
            "Hidden_2 (Dense)             (None, 1)                 11        \n",
            "=================================================================\n",
            "Total params: 31\n",
            "Trainable params: 31\n",
            "Non-trainable params: 0\n",
            "_________________________________________________________________\n"
          ]
        }
      ]
    },
    {
      "cell_type": "code",
      "metadata": {
        "colab": {
          "base_uri": "https://localhost:8080/"
        },
        "id": "K4HbmxPfys8r",
        "outputId": "3d448cce-aa80-41fe-edc8-9a05bcac0fed"
      },
      "source": [
        "model_3.summary()"
      ],
      "execution_count": null,
      "outputs": [
        {
          "output_type": "stream",
          "name": "stdout",
          "text": [
            "Model: \"model_3\"\n",
            "_________________________________________________________________\n",
            "Layer (type)                 Output Shape              Param #   \n",
            "=================================================================\n",
            "layer_1 (Dense)              (None, 100)               200       \n",
            "_________________________________________________________________\n",
            "output (Dense)               (None, 1)                 101       \n",
            "=================================================================\n",
            "Total params: 301\n",
            "Trainable params: 301\n",
            "Non-trainable params: 0\n",
            "_________________________________________________________________\n"
          ]
        }
      ]
    },
    {
      "cell_type": "markdown",
      "metadata": {
        "id": "H-cP7TBzzajk"
      },
      "source": [
        "## tracking the Experiments \n",
        "\n",
        "Resources to help us track the experiments\n",
        "\n",
        "* Tensorboard - to be explored on own \n",
        "* weigths and biases - to be explored later "
      ]
    },
    {
      "cell_type": "code",
      "metadata": {
        "id": "_pxYXNqJ1OiV"
      },
      "source": [
        ""
      ],
      "execution_count": null,
      "outputs": []
    },
    {
      "cell_type": "markdown",
      "metadata": {
        "id": "g6fsIF831MNW"
      },
      "source": [
        "# Saving our models \n",
        "\n",
        "tehre are 2 mian formats to save our model \n",
        "1. The saved model format \n",
        "2. HD5 Format"
      ]
    },
    {
      "cell_type": "code",
      "metadata": {
        "colab": {
          "base_uri": "https://localhost:8080/"
        },
        "id": "Os0TjBMnzZ-R",
        "outputId": "572d6511-7526-498e-b5da-797b141815e3"
      },
      "source": [
        "# SAve the file in the saved model format  (check the details of the saved model format in the documentation)\n",
        "model_2.save(\"best_model_SavedModel_format\")"
      ],
      "execution_count": null,
      "outputs": [
        {
          "output_type": "stream",
          "name": "stderr",
          "text": [
            "WARNING:absl:Function `_wrapped_model` contains input name(s) Hidden_1_input with unsupported characters which will be renamed to hidden_1_input in the SavedModel.\n"
          ]
        },
        {
          "output_type": "stream",
          "name": "stdout",
          "text": [
            "INFO:tensorflow:Assets written to: best_model_SavedModel_format/assets\n"
          ]
        },
        {
          "output_type": "stream",
          "name": "stderr",
          "text": [
            "INFO:tensorflow:Assets written to: best_model_SavedModel_format/assets\n"
          ]
        }
      ]
    },
    {
      "cell_type": "code",
      "metadata": {
        "id": "tpQ0qRyn2Cl_"
      },
      "source": [
        "# Save the model in the HDF5 format \n",
        "model_2.save(\"best _model_HDF5_format.h5\")\n",
        "\n"
      ],
      "execution_count": null,
      "outputs": []
    },
    {
      "cell_type": "markdown",
      "metadata": {
        "id": "Cps-vJmt2bEw"
      },
      "source": [
        "# Load the saved models "
      ]
    },
    {
      "cell_type": "code",
      "metadata": {
        "colab": {
          "base_uri": "https://localhost:8080/"
        },
        "id": "eXZUNdvP2acB",
        "outputId": "65573cbb-da35-4d02-a352-136a21abdf23"
      },
      "source": [
        "# Load the saved models \n",
        "\n",
        "model_loaded_saved_model=tf.keras.models.load_model('/content/best_model_SavedModel_format')\n",
        "model_loaded_saved_model.summary()"
      ],
      "execution_count": null,
      "outputs": [
        {
          "output_type": "stream",
          "name": "stdout",
          "text": [
            "Model: \"model_2\"\n",
            "_________________________________________________________________\n",
            "Layer (type)                 Output Shape              Param #   \n",
            "=================================================================\n",
            "Hidden_1 (Dense)             (None, 10)                20        \n",
            "_________________________________________________________________\n",
            "Hidden_2 (Dense)             (None, 1)                 11        \n",
            "=================================================================\n",
            "Total params: 31\n",
            "Trainable params: 31\n",
            "Non-trainable params: 0\n",
            "_________________________________________________________________\n"
          ]
        }
      ]
    },
    {
      "cell_type": "code",
      "metadata": {
        "colab": {
          "base_uri": "https://localhost:8080/"
        },
        "id": "sc3t6OTU2-Yz",
        "outputId": "55b4400c-3ceb-4c96-dbda-16064474c189"
      },
      "source": [
        "y_pred_2=model_2.predict(X_test)\n",
        "loaded_saved_model_pred=model_loaded_saved_model.predict(X_test)\n",
        "y_pred_2==loaded_saved_model_pred"
      ],
      "execution_count": null,
      "outputs": [
        {
          "output_type": "stream",
          "name": "stdout",
          "text": [
            "WARNING:tensorflow:6 out of the last 8 calls to <function Model.make_predict_function.<locals>.predict_function at 0x7f9d9896b7a0> triggered tf.function retracing. Tracing is expensive and the excessive number of tracings could be due to (1) creating @tf.function repeatedly in a loop, (2) passing tensors with different shapes, (3) passing Python objects instead of tensors. For (1), please define your @tf.function outside of the loop. For (2), @tf.function has experimental_relax_shapes=True option that relaxes argument shapes that can avoid unnecessary retracing. For (3), please refer to https://www.tensorflow.org/guide/function#controlling_retracing and https://www.tensorflow.org/api_docs/python/tf/function for  more details.\n"
          ]
        },
        {
          "output_type": "stream",
          "name": "stderr",
          "text": [
            "WARNING:tensorflow:6 out of the last 8 calls to <function Model.make_predict_function.<locals>.predict_function at 0x7f9d9896b7a0> triggered tf.function retracing. Tracing is expensive and the excessive number of tracings could be due to (1) creating @tf.function repeatedly in a loop, (2) passing tensors with different shapes, (3) passing Python objects instead of tensors. For (1), please define your @tf.function outside of the loop. For (2), @tf.function has experimental_relax_shapes=True option that relaxes argument shapes that can avoid unnecessary retracing. For (3), please refer to https://www.tensorflow.org/guide/function#controlling_retracing and https://www.tensorflow.org/api_docs/python/tf/function for  more details.\n"
          ]
        },
        {
          "output_type": "execute_result",
          "data": {
            "text/plain": [
              "array([[ True],\n",
              "       [ True],\n",
              "       [ True],\n",
              "       [ True],\n",
              "       [ True],\n",
              "       [ True],\n",
              "       [ True],\n",
              "       [ True],\n",
              "       [ True],\n",
              "       [ True]])"
            ]
          },
          "metadata": {},
          "execution_count": 50
        }
      ]
    },
    {
      "cell_type": "code",
      "metadata": {
        "colab": {
          "base_uri": "https://localhost:8080/"
        },
        "id": "eVNxGkTG2X4U",
        "outputId": "7919eacf-bfe9-4958-f9eb-3eb6c57d2016"
      },
      "source": [
        "# Load the model in the h5 format \n",
        "model_hdf5=tf.keras.models.load_model('/content/best _model_HDF5_format.h5')\n",
        "model_hdf5.summary()"
      ],
      "execution_count": null,
      "outputs": [
        {
          "output_type": "stream",
          "name": "stdout",
          "text": [
            "Model: \"model_2\"\n",
            "_________________________________________________________________\n",
            "Layer (type)                 Output Shape              Param #   \n",
            "=================================================================\n",
            "Hidden_1 (Dense)             (None, 10)                20        \n",
            "_________________________________________________________________\n",
            "Hidden_2 (Dense)             (None, 1)                 11        \n",
            "=================================================================\n",
            "Total params: 31\n",
            "Trainable params: 31\n",
            "Non-trainable params: 0\n",
            "_________________________________________________________________\n"
          ]
        }
      ]
    },
    {
      "cell_type": "code",
      "metadata": {
        "colab": {
          "base_uri": "https://localhost:8080/"
        },
        "id": "uYWNb0NP4C-L",
        "outputId": "e1c68878-18af-455d-f920-d899d7ff9983"
      },
      "source": [
        "hdf5_model_pred=model_hdf5.predict(X_test)\n",
        "y_pred_2==hdf5_model_pred"
      ],
      "execution_count": null,
      "outputs": [
        {
          "output_type": "execute_result",
          "data": {
            "text/plain": [
              "array([[ True],\n",
              "       [ True],\n",
              "       [ True],\n",
              "       [ True],\n",
              "       [ True],\n",
              "       [ True],\n",
              "       [ True],\n",
              "       [ True],\n",
              "       [ True],\n",
              "       [ True]])"
            ]
          },
          "metadata": {},
          "execution_count": 52
        }
      ]
    },
    {
      "cell_type": "markdown",
      "metadata": {
        "id": "bLPmxlfue2pc"
      },
      "source": [
        "# Larger datasets \n",
        "\n",
        "We get the medical personnel dataset from kaggle. "
      ]
    },
    {
      "cell_type": "code",
      "metadata": {
        "id": "J3jILSwUfBtZ"
      },
      "source": [
        "import tensorflow as tf \n",
        "import pandas as pd\n",
        "import numpy as np\n",
        "import matplotlib.pyplot as plt "
      ],
      "execution_count": null,
      "outputs": []
    },
    {
      "cell_type": "code",
      "metadata": {
        "colab": {
          "base_uri": "https://localhost:8080/",
          "height": 414
        },
        "id": "p87OEL7we8nF",
        "outputId": "11c78027-4f06-4d06-aa02-a81b0cae475e"
      },
      "source": [
        "# get the data from kaggle\n",
        "insurance_df=pd.read_csv(\"https://raw.githubusercontent.com/stedy/Machine-Learning-with-R-datasets/master/insurance.csv\", error_bad_lines=False)\n",
        "insurance_df"
      ],
      "execution_count": null,
      "outputs": [
        {
          "output_type": "execute_result",
          "data": {
            "text/html": [
              "<div>\n",
              "<style scoped>\n",
              "    .dataframe tbody tr th:only-of-type {\n",
              "        vertical-align: middle;\n",
              "    }\n",
              "\n",
              "    .dataframe tbody tr th {\n",
              "        vertical-align: top;\n",
              "    }\n",
              "\n",
              "    .dataframe thead th {\n",
              "        text-align: right;\n",
              "    }\n",
              "</style>\n",
              "<table border=\"1\" class=\"dataframe\">\n",
              "  <thead>\n",
              "    <tr style=\"text-align: right;\">\n",
              "      <th></th>\n",
              "      <th>age</th>\n",
              "      <th>sex</th>\n",
              "      <th>bmi</th>\n",
              "      <th>children</th>\n",
              "      <th>smoker</th>\n",
              "      <th>region</th>\n",
              "      <th>charges</th>\n",
              "    </tr>\n",
              "  </thead>\n",
              "  <tbody>\n",
              "    <tr>\n",
              "      <th>0</th>\n",
              "      <td>19</td>\n",
              "      <td>female</td>\n",
              "      <td>27.900</td>\n",
              "      <td>0</td>\n",
              "      <td>yes</td>\n",
              "      <td>southwest</td>\n",
              "      <td>16884.92400</td>\n",
              "    </tr>\n",
              "    <tr>\n",
              "      <th>1</th>\n",
              "      <td>18</td>\n",
              "      <td>male</td>\n",
              "      <td>33.770</td>\n",
              "      <td>1</td>\n",
              "      <td>no</td>\n",
              "      <td>southeast</td>\n",
              "      <td>1725.55230</td>\n",
              "    </tr>\n",
              "    <tr>\n",
              "      <th>2</th>\n",
              "      <td>28</td>\n",
              "      <td>male</td>\n",
              "      <td>33.000</td>\n",
              "      <td>3</td>\n",
              "      <td>no</td>\n",
              "      <td>southeast</td>\n",
              "      <td>4449.46200</td>\n",
              "    </tr>\n",
              "    <tr>\n",
              "      <th>3</th>\n",
              "      <td>33</td>\n",
              "      <td>male</td>\n",
              "      <td>22.705</td>\n",
              "      <td>0</td>\n",
              "      <td>no</td>\n",
              "      <td>northwest</td>\n",
              "      <td>21984.47061</td>\n",
              "    </tr>\n",
              "    <tr>\n",
              "      <th>4</th>\n",
              "      <td>32</td>\n",
              "      <td>male</td>\n",
              "      <td>28.880</td>\n",
              "      <td>0</td>\n",
              "      <td>no</td>\n",
              "      <td>northwest</td>\n",
              "      <td>3866.85520</td>\n",
              "    </tr>\n",
              "    <tr>\n",
              "      <th>...</th>\n",
              "      <td>...</td>\n",
              "      <td>...</td>\n",
              "      <td>...</td>\n",
              "      <td>...</td>\n",
              "      <td>...</td>\n",
              "      <td>...</td>\n",
              "      <td>...</td>\n",
              "    </tr>\n",
              "    <tr>\n",
              "      <th>1333</th>\n",
              "      <td>50</td>\n",
              "      <td>male</td>\n",
              "      <td>30.970</td>\n",
              "      <td>3</td>\n",
              "      <td>no</td>\n",
              "      <td>northwest</td>\n",
              "      <td>10600.54830</td>\n",
              "    </tr>\n",
              "    <tr>\n",
              "      <th>1334</th>\n",
              "      <td>18</td>\n",
              "      <td>female</td>\n",
              "      <td>31.920</td>\n",
              "      <td>0</td>\n",
              "      <td>no</td>\n",
              "      <td>northeast</td>\n",
              "      <td>2205.98080</td>\n",
              "    </tr>\n",
              "    <tr>\n",
              "      <th>1335</th>\n",
              "      <td>18</td>\n",
              "      <td>female</td>\n",
              "      <td>36.850</td>\n",
              "      <td>0</td>\n",
              "      <td>no</td>\n",
              "      <td>southeast</td>\n",
              "      <td>1629.83350</td>\n",
              "    </tr>\n",
              "    <tr>\n",
              "      <th>1336</th>\n",
              "      <td>21</td>\n",
              "      <td>female</td>\n",
              "      <td>25.800</td>\n",
              "      <td>0</td>\n",
              "      <td>no</td>\n",
              "      <td>southwest</td>\n",
              "      <td>2007.94500</td>\n",
              "    </tr>\n",
              "    <tr>\n",
              "      <th>1337</th>\n",
              "      <td>61</td>\n",
              "      <td>female</td>\n",
              "      <td>29.070</td>\n",
              "      <td>0</td>\n",
              "      <td>yes</td>\n",
              "      <td>northwest</td>\n",
              "      <td>29141.36030</td>\n",
              "    </tr>\n",
              "  </tbody>\n",
              "</table>\n",
              "<p>1338 rows × 7 columns</p>\n",
              "</div>"
            ],
            "text/plain": [
              "      age     sex     bmi  children smoker     region      charges\n",
              "0      19  female  27.900         0    yes  southwest  16884.92400\n",
              "1      18    male  33.770         1     no  southeast   1725.55230\n",
              "2      28    male  33.000         3     no  southeast   4449.46200\n",
              "3      33    male  22.705         0     no  northwest  21984.47061\n",
              "4      32    male  28.880         0     no  northwest   3866.85520\n",
              "...   ...     ...     ...       ...    ...        ...          ...\n",
              "1333   50    male  30.970         3     no  northwest  10600.54830\n",
              "1334   18  female  31.920         0     no  northeast   2205.98080\n",
              "1335   18  female  36.850         0     no  southeast   1629.83350\n",
              "1336   21  female  25.800         0     no  southwest   2007.94500\n",
              "1337   61  female  29.070         0    yes  northwest  29141.36030\n",
              "\n",
              "[1338 rows x 7 columns]"
            ]
          },
          "metadata": {},
          "execution_count": 54
        }
      ]
    },
    {
      "cell_type": "code",
      "metadata": {
        "colab": {
          "base_uri": "https://localhost:8080/",
          "height": 202
        },
        "id": "s3xHVPiKipGo",
        "outputId": "9dba4961-6a35-447f-a382-d3fcd0532da2"
      },
      "source": [
        "# Do one hot encoding for getting the dummies\n",
        "insurance_df_one_hot=pd.get_dummies(insurance_df)\n",
        "insurance_df_one_hot.head()"
      ],
      "execution_count": null,
      "outputs": [
        {
          "output_type": "execute_result",
          "data": {
            "text/html": [
              "<div>\n",
              "<style scoped>\n",
              "    .dataframe tbody tr th:only-of-type {\n",
              "        vertical-align: middle;\n",
              "    }\n",
              "\n",
              "    .dataframe tbody tr th {\n",
              "        vertical-align: top;\n",
              "    }\n",
              "\n",
              "    .dataframe thead th {\n",
              "        text-align: right;\n",
              "    }\n",
              "</style>\n",
              "<table border=\"1\" class=\"dataframe\">\n",
              "  <thead>\n",
              "    <tr style=\"text-align: right;\">\n",
              "      <th></th>\n",
              "      <th>age</th>\n",
              "      <th>bmi</th>\n",
              "      <th>children</th>\n",
              "      <th>charges</th>\n",
              "      <th>sex_female</th>\n",
              "      <th>sex_male</th>\n",
              "      <th>smoker_no</th>\n",
              "      <th>smoker_yes</th>\n",
              "      <th>region_northeast</th>\n",
              "      <th>region_northwest</th>\n",
              "      <th>region_southeast</th>\n",
              "      <th>region_southwest</th>\n",
              "    </tr>\n",
              "  </thead>\n",
              "  <tbody>\n",
              "    <tr>\n",
              "      <th>0</th>\n",
              "      <td>19</td>\n",
              "      <td>27.900</td>\n",
              "      <td>0</td>\n",
              "      <td>16884.92400</td>\n",
              "      <td>1</td>\n",
              "      <td>0</td>\n",
              "      <td>0</td>\n",
              "      <td>1</td>\n",
              "      <td>0</td>\n",
              "      <td>0</td>\n",
              "      <td>0</td>\n",
              "      <td>1</td>\n",
              "    </tr>\n",
              "    <tr>\n",
              "      <th>1</th>\n",
              "      <td>18</td>\n",
              "      <td>33.770</td>\n",
              "      <td>1</td>\n",
              "      <td>1725.55230</td>\n",
              "      <td>0</td>\n",
              "      <td>1</td>\n",
              "      <td>1</td>\n",
              "      <td>0</td>\n",
              "      <td>0</td>\n",
              "      <td>0</td>\n",
              "      <td>1</td>\n",
              "      <td>0</td>\n",
              "    </tr>\n",
              "    <tr>\n",
              "      <th>2</th>\n",
              "      <td>28</td>\n",
              "      <td>33.000</td>\n",
              "      <td>3</td>\n",
              "      <td>4449.46200</td>\n",
              "      <td>0</td>\n",
              "      <td>1</td>\n",
              "      <td>1</td>\n",
              "      <td>0</td>\n",
              "      <td>0</td>\n",
              "      <td>0</td>\n",
              "      <td>1</td>\n",
              "      <td>0</td>\n",
              "    </tr>\n",
              "    <tr>\n",
              "      <th>3</th>\n",
              "      <td>33</td>\n",
              "      <td>22.705</td>\n",
              "      <td>0</td>\n",
              "      <td>21984.47061</td>\n",
              "      <td>0</td>\n",
              "      <td>1</td>\n",
              "      <td>1</td>\n",
              "      <td>0</td>\n",
              "      <td>0</td>\n",
              "      <td>1</td>\n",
              "      <td>0</td>\n",
              "      <td>0</td>\n",
              "    </tr>\n",
              "    <tr>\n",
              "      <th>4</th>\n",
              "      <td>32</td>\n",
              "      <td>28.880</td>\n",
              "      <td>0</td>\n",
              "      <td>3866.85520</td>\n",
              "      <td>0</td>\n",
              "      <td>1</td>\n",
              "      <td>1</td>\n",
              "      <td>0</td>\n",
              "      <td>0</td>\n",
              "      <td>1</td>\n",
              "      <td>0</td>\n",
              "      <td>0</td>\n",
              "    </tr>\n",
              "  </tbody>\n",
              "</table>\n",
              "</div>"
            ],
            "text/plain": [
              "   age     bmi  children  ...  region_northwest  region_southeast  region_southwest\n",
              "0   19  27.900         0  ...                 0                 0                 1\n",
              "1   18  33.770         1  ...                 0                 1                 0\n",
              "2   28  33.000         3  ...                 0                 1                 0\n",
              "3   33  22.705         0  ...                 1                 0                 0\n",
              "4   32  28.880         0  ...                 1                 0                 0\n",
              "\n",
              "[5 rows x 12 columns]"
            ]
          },
          "metadata": {},
          "execution_count": 55
        }
      ]
    },
    {
      "cell_type": "code",
      "metadata": {
        "colab": {
          "base_uri": "https://localhost:8080/"
        },
        "id": "6PmOIZf4kMVN",
        "outputId": "91a32c2f-2458-4a77-c22f-2321fb03296b"
      },
      "source": [
        "#Create X and y values \n",
        "X=insurance_df_one_hot.drop(\"charges\",axis=1)\n",
        "y=insurance_df_one_hot[\"charges\"]\n",
        "\n",
        "X.head(),y.head()"
      ],
      "execution_count": null,
      "outputs": [
        {
          "output_type": "execute_result",
          "data": {
            "text/plain": [
              "(   age     bmi  children  ...  region_northwest  region_southeast  region_southwest\n",
              " 0   19  27.900         0  ...                 0                 0                 1\n",
              " 1   18  33.770         1  ...                 0                 1                 0\n",
              " 2   28  33.000         3  ...                 0                 1                 0\n",
              " 3   33  22.705         0  ...                 1                 0                 0\n",
              " 4   32  28.880         0  ...                 1                 0                 0\n",
              " \n",
              " [5 rows x 11 columns], 0    16884.92400\n",
              " 1     1725.55230\n",
              " 2     4449.46200\n",
              " 3    21984.47061\n",
              " 4     3866.85520\n",
              " Name: charges, dtype: float64)"
            ]
          },
          "metadata": {},
          "execution_count": 56
        }
      ]
    },
    {
      "cell_type": "code",
      "metadata": {
        "colab": {
          "base_uri": "https://localhost:8080/"
        },
        "id": "rm_5YwCBlevV",
        "outputId": "85591554-50ef-48ef-9407-e7c9c3b3a39e"
      },
      "source": [
        "# Create training and test sets \n",
        "from sklearn.model_selection import train_test_split\n",
        "\n",
        "X_train,X_test,y_train,y_test =train_test_split(X,y,test_size=0.2,random_state=42)\n",
        "len(X),len(X_train),len(X_test)"
      ],
      "execution_count": null,
      "outputs": [
        {
          "output_type": "execute_result",
          "data": {
            "text/plain": [
              "(1338, 1070, 268)"
            ]
          },
          "metadata": {},
          "execution_count": 57
        }
      ]
    },
    {
      "cell_type": "code",
      "metadata": {
        "colab": {
          "base_uri": "https://localhost:8080/"
        },
        "id": "FKKAyGaTl_LD",
        "outputId": "710d3c96-fd26-43ee-e7c8-df59da0ba74e"
      },
      "source": [
        "# Build a neural network \n",
        "\n",
        "tf.random.set_seed(42)\n",
        "\n",
        "# 1. create a model \n",
        "model_insurance=tf.keras.Sequential([tf.keras.layers.Dense(10),\n",
        "                                     tf.keras.layers.Dense(1)])\n",
        "\n",
        "# 2. Compile the model\n",
        "\n",
        "model_insurance.compile(loss=tf.keras.losses.mae,optimizer=tf.keras.optimizers.SGD(),metrics=['mae'])\n",
        "\n",
        "# 3. fit the model \n",
        "\n",
        "model_insurance.fit(X_train, y_train,epochs=10)"
      ],
      "execution_count": null,
      "outputs": [
        {
          "output_type": "stream",
          "name": "stdout",
          "text": [
            "Epoch 1/10\n",
            "34/34 [==============================] - 0s 1ms/step - loss: 8637.1006 - mae: 8637.1006\n",
            "Epoch 2/10\n",
            "34/34 [==============================] - 0s 1ms/step - loss: 7886.7759 - mae: 7886.7759\n",
            "Epoch 3/10\n",
            "34/34 [==============================] - 0s 1ms/step - loss: 7558.1470 - mae: 7558.1470\n",
            "Epoch 4/10\n",
            "34/34 [==============================] - 0s 1ms/step - loss: 7792.0220 - mae: 7792.0220\n",
            "Epoch 5/10\n",
            "34/34 [==============================] - 0s 1ms/step - loss: 7748.3887 - mae: 7748.3887\n",
            "Epoch 6/10\n",
            "34/34 [==============================] - 0s 2ms/step - loss: 7595.3940 - mae: 7595.3940\n",
            "Epoch 7/10\n",
            "34/34 [==============================] - 0s 1ms/step - loss: 7589.9844 - mae: 7589.9844\n",
            "Epoch 8/10\n",
            "34/34 [==============================] - 0s 2ms/step - loss: 7698.5576 - mae: 7698.5576\n",
            "Epoch 9/10\n",
            "34/34 [==============================] - 0s 1ms/step - loss: 7496.7778 - mae: 7496.7778\n",
            "Epoch 10/10\n",
            "34/34 [==============================] - 0s 1ms/step - loss: 7493.1743 - mae: 7493.1743\n"
          ]
        },
        {
          "output_type": "execute_result",
          "data": {
            "text/plain": [
              "<keras.callbacks.History at 0x7f9d46941990>"
            ]
          },
          "metadata": {},
          "execution_count": 58
        }
      ]
    },
    {
      "cell_type": "code",
      "metadata": {
        "colab": {
          "base_uri": "https://localhost:8080/"
        },
        "id": "ZW72Qh50nvDX",
        "outputId": "e0732117-c3e2-4b0c-b781-cb7c373cb690"
      },
      "source": [
        "# Check the result on the test dataset \n",
        "\n",
        "model_insurance.evaluate(X_test,y_test)"
      ],
      "execution_count": null,
      "outputs": [
        {
          "output_type": "stream",
          "name": "stdout",
          "text": [
            "9/9 [==============================] - 0s 2ms/step - loss: 7082.6807 - mae: 7082.6807\n"
          ]
        },
        {
          "output_type": "execute_result",
          "data": {
            "text/plain": [
              "[7082.6806640625, 7082.6806640625]"
            ]
          },
          "metadata": {},
          "execution_count": 59
        }
      ]
    },
    {
      "cell_type": "code",
      "metadata": {
        "colab": {
          "base_uri": "https://localhost:8080/"
        },
        "id": "fn__ixjOoEcJ",
        "outputId": "86b95bd4-d59a-455f-f4b9-c9ebb60acd2d"
      },
      "source": [
        "y_train.median(),y_train.mean()"
      ],
      "execution_count": null,
      "outputs": [
        {
          "output_type": "execute_result",
          "data": {
            "text/plain": [
              "(9575.4421, 13346.089736364489)"
            ]
          },
          "metadata": {},
          "execution_count": 60
        }
      ]
    },
    {
      "cell_type": "code",
      "metadata": {
        "id": "pnbn9muSoPIO"
      },
      "source": [
        ""
      ],
      "execution_count": null,
      "outputs": []
    },
    {
      "cell_type": "markdown",
      "metadata": {
        "id": "XyBFYui3oP1Z"
      },
      "source": [
        "# Lets try and improve the model\n",
        "\n",
        "To try and improve the model we want to run some experiments \n",
        "\n",
        "1. Add more layers to the model\n",
        "2. change the optimizer \n",
        "3. change the metric "
      ]
    },
    {
      "cell_type": "code",
      "metadata": {
        "colab": {
          "base_uri": "https://localhost:8080/"
        },
        "id": "jh-DTBjhoWXC",
        "outputId": "1880eeb2-289e-4786-bd11-20b55b7437b6"
      },
      "source": [
        "# Experiment 1\n",
        "tf.random.set_seed(42)\n",
        "\n",
        "#1. Model build\n",
        "insurance_model_1=tf.keras.Sequential([tf.keras.layers.Dense(100,activation ='relu'),\n",
        "                                       tf.keras.layers.Dense(10),\n",
        "                                       tf.keras.layers.Dense(1)])\n",
        "\n",
        "#2. compile the model\n",
        "insurance_model_1.compile(optimizer=tf.keras.optimizers.SGD(),loss=tf.keras.losses.mae, metrics=['mae'])\n",
        "\n",
        "# 3. Fit the model \n",
        "insurance_model_1.fit(X_train,y_train,epochs=10,verbose=0)"
      ],
      "execution_count": null,
      "outputs": [
        {
          "output_type": "execute_result",
          "data": {
            "text/plain": [
              "<keras.callbacks.History at 0x7f9d4819f750>"
            ]
          },
          "metadata": {},
          "execution_count": 61
        }
      ]
    },
    {
      "cell_type": "code",
      "metadata": {
        "colab": {
          "base_uri": "https://localhost:8080/"
        },
        "id": "c8X7C8j_ppny",
        "outputId": "968f1b06-2040-4ca5-d032-ac791aa8ca24"
      },
      "source": [
        "# Evaluate the complex model \n",
        "insurance_model_1.evaluate(X_test,y_test)"
      ],
      "execution_count": null,
      "outputs": [
        {
          "output_type": "stream",
          "name": "stdout",
          "text": [
            "9/9 [==============================] - 0s 3ms/step - loss: 8621.9785 - mae: 8621.9785\n"
          ]
        },
        {
          "output_type": "execute_result",
          "data": {
            "text/plain": [
              "[8621.978515625, 8621.978515625]"
            ]
          },
          "metadata": {},
          "execution_count": 62
        }
      ]
    },
    {
      "cell_type": "code",
      "metadata": {
        "id": "P_g6v42yrGxc"
      },
      "source": [
        "# Experiment  2\n",
        "\n",
        "tf.random.set_seed(42)\n",
        "\n",
        "# Build model \n",
        "\n",
        "insurance_model_2=tf.keras.Sequential([tf.keras.layers.Dense(100, activation='relu'),\n",
        "                                       tf.keras.layers.Dense(10),\n",
        "                                       tf.keras.layers.Dense(1)])\n",
        "\n",
        "# compile the model\n",
        "\n",
        "insurance_model_2.compile(loss=tf.keras.losses.mse,\n",
        "                          optimizer=tf.keras.optimizers.Adam(learning_rate=0.01),\n",
        "                          metrics=['mse','mae']\n",
        "                          )\n",
        "# Fit the model\n",
        "history=insurance_model_2.fit(X_train,y_train,epochs=100,verbose=0)\n"
      ],
      "execution_count": null,
      "outputs": []
    },
    {
      "cell_type": "code",
      "metadata": {
        "colab": {
          "base_uri": "https://localhost:8080/"
        },
        "id": "aWUuxcJXsblh",
        "outputId": "5ee35cc8-1792-4066-ce62-019a8826eb11"
      },
      "source": [
        "insurance_model_2.evaluate(X_test,y_test)"
      ],
      "execution_count": null,
      "outputs": [
        {
          "output_type": "stream",
          "name": "stdout",
          "text": [
            "9/9 [==============================] - 0s 4ms/step - loss: 20914240.0000 - mse: 20914240.0000 - mae: 2563.4453\n"
          ]
        },
        {
          "output_type": "execute_result",
          "data": {
            "text/plain": [
              "[20914240.0, 20914240.0, 2563.4453125]"
            ]
          },
          "metadata": {},
          "execution_count": 64
        }
      ]
    },
    {
      "cell_type": "code",
      "metadata": {
        "colab": {
          "base_uri": "https://localhost:8080/",
          "height": 307
        },
        "id": "F6Tik7ctxrTB",
        "outputId": "a11c1eaf-4d5c-4e1f-ac44-507c25be6d52"
      },
      "source": [
        "# plot history or training curve \n",
        "pd.DataFrame(history.history).plot()\n",
        "plt.ylabel('loss')\n",
        "plt.xlabel('epochs')"
      ],
      "execution_count": null,
      "outputs": [
        {
          "output_type": "execute_result",
          "data": {
            "text/plain": [
              "Text(0.5, 0, 'epochs')"
            ]
          },
          "metadata": {},
          "execution_count": 65
        },
        {
          "output_type": "display_data",
          "data": {
            "image/png": "[encoded data removed]",
            "text/plain": [
              "<Figure size 432x288 with 1 Axes>"
            ]
          },
          "metadata": {
            "needs_background": "light"
          }
        }
      ]
    },
    {
      "cell_type": "markdown",
      "metadata": {
        "id": "TRGwoQIqzDa_"
      },
      "source": [
        " ## how long should we train for \n",
        "\n",
        " It depends, but tensorflow has a solution for it. It is called as early stopping callback. It is a component that we can add it to the model to stop it early. "
      ]
    },
    {
      "cell_type": "code",
      "metadata": {
        "colab": {
          "base_uri": "https://localhost:8080/"
        },
        "id": "PF0tOc1c4Yz9",
        "outputId": "b562845b-7028-4e71-c3de-0ea612facdd6"
      },
      "source": [
        "# Using callbacks to stop the model early if it isnt performing well \n",
        "tf.random.set_seed(42)\n",
        "# Define the call back \n",
        "callbacks=tf.keras.callbacks.EarlyStopping(monitor='loss',patience=3)\n",
        "\n",
        "# Build model \n",
        "model_insurance_2=tf.keras.Sequential([tf.keras.layers.Dense(100,activation='relu',name='hidden_1'),\n",
        "                                       tf.keras.layers.Dense(10),\n",
        "                                       tf.keras.layers.Dense(1)],name='Model_insurance_3')\n",
        "\n",
        "# Compile model \n",
        "model_insurance_2.compile(loss=tf.keras.losses.mae,\n",
        "                          optimizer=tf.keras.optimizers.Adam(learning_rate=0.01),\n",
        "                          metrics=['mae'])\n",
        "\n",
        "# Fit model \n",
        "\n",
        "history_insurance_3=model_insurance_2.fit(X_train, y_train, epochs=500, verbose=1, callbacks=[callbacks])"
      ],
      "execution_count": null,
      "outputs": [
        {
          "output_type": "stream",
          "name": "stdout",
          "text": [
            "Epoch 1/500\n",
            "34/34 [==============================] - 2s 4ms/step - loss: 12255.0576 - mae: 12255.0576\n",
            "Epoch 2/500\n",
            "34/34 [==============================] - 0s 5ms/step - loss: 7624.7446 - mae: 7624.7446\n",
            "Epoch 3/500\n",
            "34/34 [==============================] - 0s 5ms/step - loss: 7308.0225 - mae: 7308.0225\n",
            "Epoch 4/500\n",
            "34/34 [==============================] - 0s 3ms/step - loss: 7133.7031 - mae: 7133.7031\n",
            "Epoch 5/500\n",
            "34/34 [==============================] - 0s 5ms/step - loss: 6938.4385 - mae: 6938.4385\n",
            "Epoch 6/500\n",
            "34/34 [==============================] - 0s 5ms/step - loss: 6718.6968 - mae: 6718.6968\n",
            "Epoch 7/500\n",
            "34/34 [==============================] - 0s 5ms/step - loss: 6508.7773 - mae: 6508.7773\n",
            "Epoch 8/500\n",
            "34/34 [==============================] - 0s 4ms/step - loss: 6362.2778 - mae: 6362.2778\n",
            "Epoch 9/500\n",
            "34/34 [==============================] - 0s 3ms/step - loss: 6248.7173 - mae: 6248.7173\n",
            "Epoch 10/500\n",
            "34/34 [==============================] - 0s 4ms/step - loss: 6098.0464 - mae: 6098.0464\n",
            "Epoch 11/500\n",
            "34/34 [==============================] - 0s 4ms/step - loss: 5920.4932 - mae: 5920.4932\n",
            "Epoch 12/500\n",
            "34/34 [==============================] - 0s 5ms/step - loss: 5715.0718 - mae: 5715.0718\n",
            "Epoch 13/500\n",
            "34/34 [==============================] - 0s 4ms/step - loss: 5478.1006 - mae: 5478.1006\n",
            "Epoch 14/500\n",
            "34/34 [==============================] - 0s 2ms/step - loss: 5069.6191 - mae: 5069.6191\n",
            "Epoch 15/500\n",
            "34/34 [==============================] - 0s 4ms/step - loss: 4536.6455 - mae: 4536.6455\n",
            "Epoch 16/500\n",
            "34/34 [==============================] - 0s 5ms/step - loss: 3920.7603 - mae: 3920.7603\n",
            "Epoch 17/500\n",
            "34/34 [==============================] - 0s 5ms/step - loss: 3654.4709 - mae: 3654.4709\n",
            "Epoch 18/500\n",
            "34/34 [==============================] - 0s 4ms/step - loss: 3512.6785 - mae: 3512.6785\n",
            "Epoch 19/500\n",
            "34/34 [==============================] - 0s 4ms/step - loss: 3513.0122 - mae: 3513.0122\n",
            "Epoch 20/500\n",
            "34/34 [==============================] - 0s 6ms/step - loss: 3426.9919 - mae: 3426.9919\n",
            "Epoch 21/500\n",
            "34/34 [==============================] - 0s 4ms/step - loss: 3456.5439 - mae: 3456.5439\n",
            "Epoch 22/500\n",
            "34/34 [==============================] - 0s 4ms/step - loss: 3350.0884 - mae: 3350.0884\n",
            "Epoch 23/500\n",
            "34/34 [==============================] - 0s 4ms/step - loss: 3343.8677 - mae: 3343.8677\n",
            "Epoch 24/500\n",
            "34/34 [==============================] - 0s 3ms/step - loss: 3281.1580 - mae: 3281.1580\n",
            "Epoch 25/500\n",
            "34/34 [==============================] - 0s 4ms/step - loss: 3265.8027 - mae: 3265.8027\n",
            "Epoch 26/500\n",
            "34/34 [==============================] - 0s 4ms/step - loss: 3246.1655 - mae: 3246.1655\n",
            "Epoch 27/500\n",
            "34/34 [==============================] - 0s 4ms/step - loss: 3165.9790 - mae: 3165.9790\n",
            "Epoch 28/500\n",
            "34/34 [==============================] - 0s 5ms/step - loss: 3056.8958 - mae: 3056.8958\n",
            "Epoch 29/500\n",
            "34/34 [==============================] - 0s 6ms/step - loss: 2983.0056 - mae: 2983.0056\n",
            "Epoch 30/500\n",
            "34/34 [==============================] - 0s 4ms/step - loss: 2913.1331 - mae: 2913.1331\n",
            "Epoch 31/500\n",
            "34/34 [==============================] - 0s 4ms/step - loss: 2903.2104 - mae: 2903.2104\n",
            "Epoch 32/500\n",
            "34/34 [==============================] - 0s 3ms/step - loss: 2908.4099 - mae: 2908.4099\n",
            "Epoch 33/500\n",
            "34/34 [==============================] - 0s 2ms/step - loss: 2857.4670 - mae: 2857.4670\n",
            "Epoch 34/500\n",
            "34/34 [==============================] - 0s 2ms/step - loss: 2922.0496 - mae: 2922.0496\n",
            "Epoch 35/500\n",
            "34/34 [==============================] - 0s 2ms/step - loss: 2811.1733 - mae: 2811.1733\n",
            "Epoch 36/500\n",
            "34/34 [==============================] - 0s 2ms/step - loss: 2798.0979 - mae: 2798.0979\n",
            "Epoch 37/500\n",
            "34/34 [==============================] - 0s 2ms/step - loss: 2747.8137 - mae: 2747.8137\n",
            "Epoch 38/500\n",
            "34/34 [==============================] - 0s 2ms/step - loss: 2735.1699 - mae: 2735.1699\n",
            "Epoch 39/500\n",
            "34/34 [==============================] - 0s 2ms/step - loss: 2731.7139 - mae: 2731.7139\n",
            "Epoch 40/500\n",
            "34/34 [==============================] - 0s 2ms/step - loss: 2733.0581 - mae: 2733.0581\n",
            "Epoch 41/500\n",
            "34/34 [==============================] - 0s 2ms/step - loss: 2722.3928 - mae: 2722.3928\n",
            "Epoch 42/500\n",
            "34/34 [==============================] - 0s 2ms/step - loss: 2750.4102 - mae: 2750.4102\n",
            "Epoch 43/500\n",
            "34/34 [==============================] - 0s 2ms/step - loss: 2702.2905 - mae: 2702.2905\n",
            "Epoch 44/500\n",
            "34/34 [==============================] - 0s 2ms/step - loss: 2640.8984 - mae: 2640.8984\n",
            "Epoch 45/500\n",
            "34/34 [==============================] - 0s 2ms/step - loss: 2664.6099 - mae: 2664.6099\n",
            "Epoch 46/500\n",
            "34/34 [==============================] - 0s 2ms/step - loss: 2619.5471 - mae: 2619.5471\n",
            "Epoch 47/500\n",
            "34/34 [==============================] - 0s 2ms/step - loss: 2644.9182 - mae: 2644.9182\n",
            "Epoch 48/500\n",
            "34/34 [==============================] - 0s 2ms/step - loss: 2612.5413 - mae: 2612.5413\n",
            "Epoch 49/500\n",
            "34/34 [==============================] - 0s 2ms/step - loss: 2558.5657 - mae: 2558.5657\n",
            "Epoch 50/500\n",
            "34/34 [==============================] - 0s 3ms/step - loss: 2573.5908 - mae: 2573.5908\n",
            "Epoch 51/500\n",
            "34/34 [==============================] - 0s 2ms/step - loss: 2584.5979 - mae: 2584.5979\n",
            "Epoch 52/500\n",
            "34/34 [==============================] - 0s 2ms/step - loss: 2533.3560 - mae: 2533.3560\n",
            "Epoch 53/500\n",
            "34/34 [==============================] - 0s 2ms/step - loss: 2518.6550 - mae: 2518.6550\n",
            "Epoch 54/500\n",
            "34/34 [==============================] - 0s 2ms/step - loss: 2527.8289 - mae: 2527.8289\n",
            "Epoch 55/500\n",
            "34/34 [==============================] - 0s 2ms/step - loss: 2551.6636 - mae: 2551.6636\n",
            "Epoch 56/500\n",
            "34/34 [==============================] - 0s 2ms/step - loss: 2548.8887 - mae: 2548.8887\n"
          ]
        }
      ]
    },
    {
      "cell_type": "code",
      "metadata": {
        "colab": {
          "base_uri": "https://localhost:8080/"
        },
        "id": "w9-WTmye6NLk",
        "outputId": "8402cc54-6b32-447a-cab2-746e3120e81f"
      },
      "source": [
        "model_insurance_2.evaluate(X_test,y_test)"
      ],
      "execution_count": null,
      "outputs": [
        {
          "output_type": "stream",
          "name": "stdout",
          "text": [
            "9/9 [==============================] - 0s 2ms/step - loss: 2349.5125 - mae: 2349.5125\n"
          ]
        },
        {
          "output_type": "execute_result",
          "data": {
            "text/plain": [
              "[2349.512451171875, 2349.512451171875]"
            ]
          },
          "metadata": {},
          "execution_count": 67
        }
      ]
    },
    {
      "cell_type": "code",
      "metadata": {
        "colab": {
          "base_uri": "https://localhost:8080/",
          "height": 282
        },
        "id": "_ifcPcW_6VNT",
        "outputId": "fa4cb79d-63f0-494e-e153-ca73bb66181f"
      },
      "source": [
        "pd.DataFrame(history_insurance_3.history).plot()\n"
      ],
      "execution_count": null,
      "outputs": [
        {
          "output_type": "execute_result",
          "data": {
            "text/plain": [
              "<matplotlib.axes._subplots.AxesSubplot at 0x7f5f567bced0>"
            ]
          },
          "metadata": {},
          "execution_count": 50
        },
        {
          "output_type": "display_data",
          "data": {
            "image/png": "[encoded data removed]",
            "text/plain": [
              "<Figure size 432x288 with 1 Axes>"
            ]
          },
          "metadata": {
            "needs_background": "light"
          }
        }
      ]
    },
    {
      "cell_type": "markdown",
      "metadata": {
        "id": "g_tqlBX6zQLi"
      },
      "source": [
        "# Pre-processing data (Normalizing and standardization)\n",
        "\n",
        "Normalization : TO bring it all to the same scale .Converts all value between 0 and 1 while preserving the original distribution. eg (Minmaxscaler) mostly used in deep learning \n",
        "\n",
        "Standardisation : removes the mean and divides each value by the standard deviation. Transform a feature to have a normal distribution , (this reduces the effect of outliers) eg: standardscalar\n",
        "\n",
        "\n",
        "read the Jeff hale medium post "
      ]
    },
    {
      "cell_type": "code",
      "metadata": {
        "colab": {
          "base_uri": "https://localhost:8080/",
          "height": 282
        },
        "id": "9I0rD9Hoz2zH",
        "outputId": "c27f2520-7621-42ff-c533-500761c78108"
      },
      "source": [
        "X['age'].plot(kind='hist')"
      ],
      "execution_count": null,
      "outputs": [
        {
          "output_type": "execute_result",
          "data": {
            "text/plain": [
              "<matplotlib.axes._subplots.AxesSubplot at 0x7f9d47ef6390>"
            ]
          },
          "metadata": {},
          "execution_count": 69
        },
        {
          "output_type": "display_data",
          "data": {
            "image/png": "[encoded data removed]",
            "text/plain": [
              "<Figure size 432x288 with 1 Axes>"
            ]
          },
          "metadata": {
            "needs_background": "light"
          }
        }
      ]
    },
    {
      "cell_type": "code",
      "metadata": {
        "colab": {
          "base_uri": "https://localhost:8080/",
          "height": 282
        },
        "id": "1bltbgipzdjz",
        "outputId": "56fd2847-8a16-4a9e-bb1d-c5cb8891b72d"
      },
      "source": [
        "X['bmi'].plot(kind='hist')"
      ],
      "execution_count": null,
      "outputs": [
        {
          "output_type": "execute_result",
          "data": {
            "text/plain": [
              "<matplotlib.axes._subplots.AxesSubplot at 0x7f9d45aaefd0>"
            ]
          },
          "metadata": {},
          "execution_count": 70
        },
        {
          "output_type": "display_data",
          "data": {
            "image/png": "[encoded data removed]",
            "text/plain": [
              "<Figure size 432x288 with 1 Axes>"
            ]
          },
          "metadata": {
            "needs_background": "light"
          }
        }
      ]
    },
    {
      "cell_type": "code",
      "metadata": {
        "colab": {
          "base_uri": "https://localhost:8080/",
          "height": 414
        },
        "id": "q1ZHFZjD05dl",
        "outputId": "3203e550-9296-48bf-f7c0-5c26931e9c77"
      },
      "source": [
        "import pandas as pd\n",
        "import tensorflow as tf \n",
        "import matplotlib.pyplot as plt \n",
        "\n",
        "\n",
        "\n",
        "insurance_df\n"
      ],
      "execution_count": null,
      "outputs": [
        {
          "output_type": "execute_result",
          "data": {
            "text/html": [
              "<div>\n",
              "<style scoped>\n",
              "    .dataframe tbody tr th:only-of-type {\n",
              "        vertical-align: middle;\n",
              "    }\n",
              "\n",
              "    .dataframe tbody tr th {\n",
              "        vertical-align: top;\n",
              "    }\n",
              "\n",
              "    .dataframe thead th {\n",
              "        text-align: right;\n",
              "    }\n",
              "</style>\n",
              "<table border=\"1\" class=\"dataframe\">\n",
              "  <thead>\n",
              "    <tr style=\"text-align: right;\">\n",
              "      <th></th>\n",
              "      <th>age</th>\n",
              "      <th>sex</th>\n",
              "      <th>bmi</th>\n",
              "      <th>children</th>\n",
              "      <th>smoker</th>\n",
              "      <th>region</th>\n",
              "      <th>charges</th>\n",
              "    </tr>\n",
              "  </thead>\n",
              "  <tbody>\n",
              "    <tr>\n",
              "      <th>0</th>\n",
              "      <td>19</td>\n",
              "      <td>female</td>\n",
              "      <td>27.900</td>\n",
              "      <td>0</td>\n",
              "      <td>yes</td>\n",
              "      <td>southwest</td>\n",
              "      <td>16884.92400</td>\n",
              "    </tr>\n",
              "    <tr>\n",
              "      <th>1</th>\n",
              "      <td>18</td>\n",
              "      <td>male</td>\n",
              "      <td>33.770</td>\n",
              "      <td>1</td>\n",
              "      <td>no</td>\n",
              "      <td>southeast</td>\n",
              "      <td>1725.55230</td>\n",
              "    </tr>\n",
              "    <tr>\n",
              "      <th>2</th>\n",
              "      <td>28</td>\n",
              "      <td>male</td>\n",
              "      <td>33.000</td>\n",
              "      <td>3</td>\n",
              "      <td>no</td>\n",
              "      <td>southeast</td>\n",
              "      <td>4449.46200</td>\n",
              "    </tr>\n",
              "    <tr>\n",
              "      <th>3</th>\n",
              "      <td>33</td>\n",
              "      <td>male</td>\n",
              "      <td>22.705</td>\n",
              "      <td>0</td>\n",
              "      <td>no</td>\n",
              "      <td>northwest</td>\n",
              "      <td>21984.47061</td>\n",
              "    </tr>\n",
              "    <tr>\n",
              "      <th>4</th>\n",
              "      <td>32</td>\n",
              "      <td>male</td>\n",
              "      <td>28.880</td>\n",
              "      <td>0</td>\n",
              "      <td>no</td>\n",
              "      <td>northwest</td>\n",
              "      <td>3866.85520</td>\n",
              "    </tr>\n",
              "    <tr>\n",
              "      <th>...</th>\n",
              "      <td>...</td>\n",
              "      <td>...</td>\n",
              "      <td>...</td>\n",
              "      <td>...</td>\n",
              "      <td>...</td>\n",
              "      <td>...</td>\n",
              "      <td>...</td>\n",
              "    </tr>\n",
              "    <tr>\n",
              "      <th>1333</th>\n",
              "      <td>50</td>\n",
              "      <td>male</td>\n",
              "      <td>30.970</td>\n",
              "      <td>3</td>\n",
              "      <td>no</td>\n",
              "      <td>northwest</td>\n",
              "      <td>10600.54830</td>\n",
              "    </tr>\n",
              "    <tr>\n",
              "      <th>1334</th>\n",
              "      <td>18</td>\n",
              "      <td>female</td>\n",
              "      <td>31.920</td>\n",
              "      <td>0</td>\n",
              "      <td>no</td>\n",
              "      <td>northeast</td>\n",
              "      <td>2205.98080</td>\n",
              "    </tr>\n",
              "    <tr>\n",
              "      <th>1335</th>\n",
              "      <td>18</td>\n",
              "      <td>female</td>\n",
              "      <td>36.850</td>\n",
              "      <td>0</td>\n",
              "      <td>no</td>\n",
              "      <td>southeast</td>\n",
              "      <td>1629.83350</td>\n",
              "    </tr>\n",
              "    <tr>\n",
              "      <th>1336</th>\n",
              "      <td>21</td>\n",
              "      <td>female</td>\n",
              "      <td>25.800</td>\n",
              "      <td>0</td>\n",
              "      <td>no</td>\n",
              "      <td>southwest</td>\n",
              "      <td>2007.94500</td>\n",
              "    </tr>\n",
              "    <tr>\n",
              "      <th>1337</th>\n",
              "      <td>61</td>\n",
              "      <td>female</td>\n",
              "      <td>29.070</td>\n",
              "      <td>0</td>\n",
              "      <td>yes</td>\n",
              "      <td>northwest</td>\n",
              "      <td>29141.36030</td>\n",
              "    </tr>\n",
              "  </tbody>\n",
              "</table>\n",
              "<p>1338 rows × 7 columns</p>\n",
              "</div>"
            ],
            "text/plain": [
              "      age     sex     bmi  children smoker     region      charges\n",
              "0      19  female  27.900         0    yes  southwest  16884.92400\n",
              "1      18    male  33.770         1     no  southeast   1725.55230\n",
              "2      28    male  33.000         3     no  southeast   4449.46200\n",
              "3      33    male  22.705         0     no  northwest  21984.47061\n",
              "4      32    male  28.880         0     no  northwest   3866.85520\n",
              "...   ...     ...     ...       ...    ...        ...          ...\n",
              "1333   50    male  30.970         3     no  northwest  10600.54830\n",
              "1334   18  female  31.920         0     no  northeast   2205.98080\n",
              "1335   18  female  36.850         0     no  southeast   1629.83350\n",
              "1336   21  female  25.800         0     no  southwest   2007.94500\n",
              "1337   61  female  29.070         0    yes  northwest  29141.36030\n",
              "\n",
              "[1338 rows x 7 columns]"
            ]
          },
          "metadata": {},
          "execution_count": 71
        }
      ]
    },
    {
      "cell_type": "code",
      "metadata": {
        "id": "2frGUwN21gWb"
      },
      "source": [
        "from sklearn.compose import make_column_transformer\n",
        "from sklearn.preprocessing import MinMaxScaler,OneHotEncoder\n",
        "\n",
        "\n",
        "# create a column transformer \n",
        "\n",
        "ct=make_column_transformer(\n",
        "    (MinMaxScaler(),[\"age\",\"bmi\",\"children\"]),\n",
        "    (OneHotEncoder(handle_unknown='ignore'),['sex','smoker','region'])\n",
        "    )\n",
        "\n",
        "# create the X and y columns \n",
        "X=insurance_df.drop(\"charges\",axis=1)\n",
        "y=insurance_df['charges']\n",
        "\n",
        "# Build the test and train sets \n",
        "\n",
        "X_train, X_test, y_train, y_test =train_test_split(X,y,test_size=0.2,random_state=42)\n",
        "\n",
        "\n",
        "# Fit the column transformer to our training data \n",
        "ct.fit(X_train)\n",
        "\n",
        "# Transform the train and test data with normalization (MinMaxScaler) and OneHotEncoder \n",
        "\n",
        "X_train_normal=ct.transform(X_train )\n",
        "X_test_normal=ct.transform(X_test )"
      ],
      "execution_count": null,
      "outputs": []
    },
    {
      "cell_type": "code",
      "metadata": {
        "colab": {
          "base_uri": "https://localhost:8080/"
        },
        "id": "qcBT0wAL3cEQ",
        "outputId": "155b5035-e4bc-40fb-af77-17b0388d6744"
      },
      "source": [
        "X_train.loc[0],X_train_normal[0] "
      ],
      "execution_count": null,
      "outputs": [
        {
          "output_type": "execute_result",
          "data": {
            "text/plain": [
              "(age                19\n",
              " sex            female\n",
              " bmi              27.9\n",
              " children            0\n",
              " smoker            yes\n",
              " region      southwest\n",
              " Name: 0, dtype: object,\n",
              " array([0.60869565, 0.10734463, 0.4       , 1.        , 0.        ,\n",
              "        1.        , 0.        , 0.        , 1.        , 0.        ,\n",
              "        0.        ]))"
            ]
          },
          "metadata": {},
          "execution_count": 76
        }
      ]
    },
    {
      "cell_type": "markdown",
      "metadata": {
        "id": "NtYXdaCZ3qOL"
      },
      "source": [
        " Data is normalised and one-hot encoded , lets build the neural network model"
      ]
    },
    {
      "cell_type": "code",
      "metadata": {
        "id": "Rb1qyIhM4As3"
      },
      "source": [
        "# build the model on the normalised data \n",
        "\n",
        "tf.random.set_seed(42)\n",
        "\n",
        "#1. Create model \n",
        "\n",
        "model_insurance_normal=tf.keras.Sequential([tf.keras.layers.Dense(100),\n",
        "                                            tf.keras.layers.Dense(10),\n",
        "                                            tf.keras.layers.Dense(1)])\n",
        "\n",
        "# 2. compile the model \n",
        "model_insurance_normal.compile(loss=tf.keras.losses.mae,\n",
        "                               optimizer=tf.keras.optimizers.Adam(),\n",
        "                               metrics=['mae'])\n",
        "\n",
        "# 3. fit the model\n",
        "\n",
        "history_insurance = model_insurance_normal.fit(X_train_normal,y_train,epochs=10,verbose=0)"
      ],
      "execution_count": null,
      "outputs": []
    },
    {
      "cell_type": "code",
      "metadata": {
        "colab": {
          "base_uri": "https://localhost:8080/"
        },
        "id": "crHYN0ee5ZSy",
        "outputId": "5cc04bd9-4bf6-4c40-8b9c-da2557e7d70f"
      },
      "source": [
        "model_insurance.evaluate(X_test_normal,y_test)"
      ],
      "execution_count": null,
      "outputs": [
        {
          "output_type": "stream",
          "name": "stdout",
          "text": [
            "9/9 [==============================] - 0s 4ms/step - loss: 12975.7305 - mae: 12975.7305\n"
          ]
        },
        {
          "output_type": "execute_result",
          "data": {
            "text/plain": [
              "[12975.73046875, 12975.73046875]"
            ]
          },
          "metadata": {},
          "execution_count": 80
        }
      ]
    },
    {
      "cell_type": "markdown",
      "metadata": {
        "id": "EqGiKvP04AEt"
      },
      "source": [
        ""
      ]
    }
  ]
}